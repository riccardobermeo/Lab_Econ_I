{
  "cells": [
    {
      "cell_type": "markdown",
      "metadata": {
        "id": "view-in-github",
        "colab_type": "text"
      },
      "source": [
        "<a href=\"https://colab.research.google.com/github/riccardobermeo/Lab_Econ_I/blob/master/Fraude_Canastas_f.ipynb\" target=\"_parent\"><img src=\"https://colab.research.google.com/assets/colab-badge.svg\" alt=\"Open In Colab\"/></a>"
      ]
    },
    {
      "cell_type": "markdown",
      "metadata": {
        "id": "QImZw8lsDcSn"
      },
      "source": [
        "![Colegio Bourbaki](./Images/Bourbaki.png)"
      ]
    },
    {
      "cell_type": "markdown",
      "metadata": {
        "id": "vz-5g9v_DcSo"
      },
      "source": [
        "##  Rudimentos de Machine Learning"
      ]
    },
    {
      "cell_type": "markdown",
      "metadata": {
        "id": "1bK0WU6IDcSp"
      },
      "source": [
        "NP Paribas Personal Finance es líder en financiación personal en Francia y en Europa a través de su actividad de crédito al consumo. Filial al 100% del Grupo BNP Paribas, BNP Paribas Personal Finance reúne a más de 20 000 empleados y opera en una treintena de países. Bajo diversas marcas como Cetelem, Cofinoga y Findomestic, BNP Paribas Personal Finance ofrece a sus clientes una gama completa de créditos al consumo, disponibles en tiendas y concesionarios de automóviles o directamente a través de centros de relación con el cliente y de los sitios web locales de la empresa.\n",
        "\n",
        "BNP Paribas Personal Finance ha desarrollado una estrategia activa de apoyo a los minoristas, fabricantes y concesionarios de automóviles, comerciantes Web y diversas instituciones financieras (banca y seguros), basada en su experiencia en el mercado de crédito y su capacidad para ofrecer servicios adaptados a la actividad y la estrategia comercial de sus socios comerciales. También es un actor clave en materia de crédito responsable y de concienciación presupuestaria.\n",
        "\n",
        "BNPP Personal Finance está, por naturaleza, expuesta al Riesgo de Crédito, y se basa en gran medida en modelos cuantitativos para gestionarlo. Dentro de BNP Paribas Personal Finance, el Departamento Central de Riesgos es responsable de la pertinencia de los modelos de calificación de riesgos utilizados en todas las entidades locales y de mantener un alto nivel de experiencia en la integración de nuevas técnicas estadísticas en nuevos entornos de modelización."
      ]
    },
    {
      "cell_type": "markdown",
      "metadata": {
        "id": "U7T6fSToDcSp"
      },
      "source": [
        "El equipo de Optimización de Procesos de Crédito forma parte del departamento de RIESGO de BNPP PF, dentro de Risk Personal Finance Global Credit Decision-making Policies, contribuimos a la racionalización y la optimización de los procesos de decisión de riesgo a través de un enfoque analítico. Apoyamos a los equipos de riesgo locales para mejorar la eficiencia de los procesos de crédito, incluida la parte de fraude, participando en el mejor equilibrio entre rentabilidad, recorrido del cliente y perfiles de riesgo.\n",
        "\n",
        "**El fraude es un problema importante para los comerciantes. Los delincuentes utilizan una amplia variedad de métodos para atacar a las organizaciones a través de sistemas, canales, procesos y productos. Por ello, el desarrollo de métodos de detección del fraude reviste una importancia crucial. La detección del fraude es un problema difícil porque los defraudadores hacen todo lo posible para que su comportamiento parezca legítimo. Otra dificultad es que el número de registros legítimos es mucho mayor que el número de casos fraudulentos.**"
      ]
    },
    {
      "cell_type": "markdown",
      "metadata": {
        "id": "tNfBhorwDcSq"
      },
      "source": [
        "**En nuestro caso, trabajeremos con un data ya pre-procesado para poder realizar el modelo de perceptron y regresión logística**"
      ]
    },
    {
      "cell_type": "code",
      "execution_count": 1,
      "metadata": {
        "id": "SXO-PdXtDcSq"
      },
      "outputs": [],
      "source": [
        "# from google.colab import drive\n",
        "# drive.mount('/content/drive')"
      ]
    },
    {
      "cell_type": "markdown",
      "metadata": {
        "id": "1px3WvtMDcSq"
      },
      "source": [
        "### Librerias"
      ]
    },
    {
      "cell_type": "code",
      "execution_count": 59,
      "metadata": {
        "id": "N17-_TORDcSr"
      },
      "outputs": [],
      "source": [
        "# Data Analysis\n",
        "import numpy as np\n",
        "import pandas as pd\n",
        "\n",
        "#Visualization\n",
        "import matplotlib.pyplot as plt\n",
        "import seaborn as sns\n",
        "\n",
        "#Classificaon\n",
        "from sklearn.linear_model import Perceptron, LogisticRegression\n",
        "\n",
        "#Utils\n",
        "from sklearn.metrics import confusion_matrix, classification_report, roc_curve, auc\n",
        "from sklearn.model_selection import train_test_split\n",
        "\n",
        "#Standars\n",
        "from sklearn.preprocessing import StandardScaler"
      ]
    },
    {
      "cell_type": "markdown",
      "metadata": {
        "id": "X_zBamoiDcSr"
      },
      "source": [
        "### Funciones de ayuda"
      ]
    },
    {
      "cell_type": "code",
      "execution_count": 3,
      "metadata": {
        "id": "bPFGhlxEDcSr"
      },
      "outputs": [],
      "source": [
        "def high_correlation_features(dataframe, threshold=0.95):\n",
        "    \"\"\"\n",
        "    Identifies and returns pairs of highly correlated features from the given dataframe.\n",
        "\n",
        "    Parameters:\n",
        "    - dataframe: A pandas DataFrame containing the dataset.\n",
        "    - threshold: A float representing the correlation threshold to identify high correlations.\n",
        "\n",
        "    Returns:\n",
        "    - A DataFrame with pairs of features that have a correlation coefficient above the threshold.\n",
        "    \"\"\"\n",
        "    # Calculate the correlation matrix\n",
        "    corr_matrix = dataframe.corr()\n",
        "\n",
        "    # Find features with a correlation above the threshold\n",
        "    # Note: The matrix is symmetric, so we need to filter out one side to avoid duplicates\n",
        "    high_corr_pairs = (corr_matrix.where(np.triu(np.ones(corr_matrix.shape), k=1).astype(bool))\n",
        "                       .stack()\n",
        "                       .reset_index())\n",
        "    high_corr_pairs.columns = ['Feature 1', 'Feature 2', 'Correlation']\n",
        "    high_corr_pairs = high_corr_pairs.loc[high_corr_pairs['Correlation'] > threshold, :]\n",
        "\n",
        "    return high_corr_pairs\n"
      ]
    },
    {
      "cell_type": "code",
      "execution_count": 4,
      "metadata": {
        "id": "tUONjnAvDcSr"
      },
      "outputs": [],
      "source": [
        "def remove_highly_correlated_features(dataframe, threshold=0.95):\n",
        "    \"\"\"\n",
        "    Removes features that are highly correlated with each other above a specified threshold.\n",
        "\n",
        "    Parameters:\n",
        "    - dataframe: A pandas DataFrame containing the dataset.\n",
        "    - threshold: A float representing the correlation threshold to identify high correlations.\n",
        "\n",
        "    Returns:\n",
        "    - A DataFrame with the highly correlated features removed.\n",
        "    \"\"\"\n",
        "    # Calculate the correlation matrix\n",
        "    corr_matrix = dataframe.corr().abs()\n",
        "\n",
        "    # Select upper triangle of correlation matrix\n",
        "    upper_tri = corr_matrix.where(np.triu(np.ones(corr_matrix.shape), k=1).astype(bool))\n",
        "\n",
        "    # Find features with correlation greater than the threshold\n",
        "    to_drop = [column for column in upper_tri.columns if any(upper_tri[column] > threshold)]\n",
        "\n",
        "    # Drop features\n",
        "    reduced_df = dataframe.drop(to_drop, axis=1)\n",
        "\n",
        "    return reduced_df, to_drop\n"
      ]
    },
    {
      "cell_type": "code",
      "execution_count": 5,
      "metadata": {
        "id": "e8KEiC_LDcSr"
      },
      "outputs": [],
      "source": [
        "def plot_correlation_matrix(dataframe, plot_graph=True, return_matrix=False):\n",
        "    \"\"\"\n",
        "    Calculates and optionally plots the correlation matrix of a given DataFrame.\n",
        "\n",
        "    Parameters:\n",
        "    - dataframe: DataFrame from which to calculate the correlation matrix.\n",
        "    - plot_graph: If True, displays a heatmap of the correlation matrix.\n",
        "    - return_matrix: If True, returns the correlation matrix.\n",
        "\n",
        "    Returns:\n",
        "    - If return_matrix is True, returns the correlation matrix of the dataframe.\n",
        "    \"\"\"\n",
        "    # Calculate the correlation matrix\n",
        "    correlation_matrix = dataframe.corr('spearman')\n",
        "\n",
        "    # Plot the correlation matrix heatmap if requested\n",
        "    if plot_graph:\n",
        "        plt.figure(figsize=(25, 20))\n",
        "        sns.heatmap(correlation_matrix, vmin=-1, vmax=1, center=0, cmap=\"hot\", annot=True, fmt=\".2f\", square=True)\n",
        "        plt.xticks(rotation=45, horizontalalignment='right')\n",
        "\n",
        "    # Return the correlation matrix if requested\n",
        "    if return_matrix:\n",
        "        return correlation_matrix"
      ]
    },
    {
      "cell_type": "code",
      "execution_count": 6,
      "metadata": {
        "id": "nxtqPl2eDcSs"
      },
      "outputs": [],
      "source": [
        "def plot_confusion_matrix(y_true, y_pred):\n",
        "    \"\"\"\n",
        "    Plots a confusion matrix using Seaborn's heatmap.\n",
        "\n",
        "    Parameters:\n",
        "    - y_true: array-like of shape (n_samples,), True labels of the data.\n",
        "    - y_pred: array-like of shape (n_samples,), Predicted labels.\n",
        "\n",
        "    Returns:\n",
        "    - None, displays a confusion matrix.\n",
        "    \"\"\"\n",
        "    # Compute confusion matrix\n",
        "    confusion_mat = confusion_matrix(y_true, y_pred)\n",
        "\n",
        "    # Create a DataFrame for Seaborn's heatmap\n",
        "    confusion_df = pd.DataFrame(confusion_mat, index=['Real Negative', 'Real Positive'], columns=['Predicted Negative', 'Predicted Positive'])\n",
        "\n",
        "    # Plotting the heatmap\n",
        "    plt.figure(figsize=(10,7))\n",
        "    sns.heatmap(confusion_df, annot=True, fmt='g', cmap='Blues')\n",
        "    plt.title('Confusion Matrix')\n",
        "    plt.ylabel('Actual Values')\n",
        "    plt.xlabel('Predicted Values')\n",
        "    plt.show()"
      ]
    },
    {
      "cell_type": "code",
      "execution_count": 7,
      "metadata": {
        "id": "2tnrlobJDcSs"
      },
      "outputs": [],
      "source": [
        "def plot_roc_curve(clf, X_test, y_test, figsize=(10, 7)):\n",
        "    \"\"\"\n",
        "    Plots the ROC curve by handling classifiers with or without the `predict_proba` method.\n",
        "    Uses `decision_function` or binary predictions as fallbacks.\n",
        "\n",
        "    Parameters:\n",
        "    - clf: Classifier to evaluate.\n",
        "    - X_test: Test data features.\n",
        "    - y_test: True labels for the test data.\n",
        "    - figsize: Size of the plot.\n",
        "    \"\"\"\n",
        "\n",
        "    try:\n",
        "        # First try to use predict_proba\n",
        "        y_scores = clf.predict_proba(X_test)[:, 1]\n",
        "    except AttributeError:\n",
        "        try:\n",
        "            # Next, try to use decision_function\n",
        "            y_scores = clf.decision_function(X_test)\n",
        "            # Convert decision scores to probabilities (min-max scaling)\n",
        "            y_scores = (y_scores - y_scores.min()) / (y_scores.max() - y_scores.min())\n",
        "        except AttributeError:\n",
        "            # As a last resort, use binary predictions\n",
        "            # This approach lacks precision and should be used cautiously\n",
        "            y_pred = clf.predict(X_test)\n",
        "            y_scores = np.where(y_pred == 1, 1, 0)  # Assuming the positive class is labeled as 1\n",
        "\n",
        "    # Calculate ROC curve and AUC\n",
        "    fpr, tpr, _ = roc_curve(y_test, y_scores)\n",
        "    roc_auc = auc(fpr, tpr)\n",
        "\n",
        "    # Plotting\n",
        "    plt.figure(figsize=figsize)\n",
        "    plt.plot(fpr, tpr, label=f\"ROC curve (area = {roc_auc:.2f})\")\n",
        "    plt.plot([0, 1], [0, 1], 'k--')\n",
        "    plt.xlim([0.0, 1.0])\n",
        "    plt.ylim([0.0, 1.05])\n",
        "    plt.xlabel('False Positive Rate')\n",
        "    plt.ylabel('True Positive Rate')\n",
        "    plt.title('Receiver Operating Characteristic')\n",
        "    plt.legend(loc=\"lower right\")\n",
        "    plt.show()\n",
        "\n",
        "\n"
      ]
    },
    {
      "cell_type": "markdown",
      "metadata": {
        "id": "C5Os8UYODcSs"
      },
      "source": [
        "### Carga de Datos"
      ]
    },
    {
      "cell_type": "code",
      "execution_count": 34,
      "metadata": {
        "id": "9UBsPkEPDcSs"
      },
      "outputs": [],
      "source": [
        "#df = pd.read_csv('./drive/MyDrive/Data/FraudeCanastas.csv') #Colab\n",
        "df = pd.read_csv('dataset_reto12.txt', sep=',')#, on_bad_lines='skip') #Colab"
      ]
    },
    {
      "cell_type": "code",
      "source": [
        "numero_columnas = df.shape[1]\n",
        "numero_columnas\n",
        "df.shape"
      ],
      "metadata": {
        "colab": {
          "base_uri": "https://localhost:8080/"
        },
        "id": "Tb6nnJcqJqj5",
        "outputId": "bd3f11d3-0ae0-4f3c-c494-15773d68d991"
      },
      "execution_count": 35,
      "outputs": [
        {
          "output_type": "execute_result",
          "data": {
            "text/plain": [
              "(6413, 2457)"
            ]
          },
          "metadata": {},
          "execution_count": 35
        }
      ]
    },
    {
      "cell_type": "code",
      "execution_count": 36,
      "metadata": {
        "id": "ZmXf7Bh1DcSs",
        "outputId": "dc6c1967-de2b-46cc-d11c-8f14966d6e7b",
        "colab": {
          "base_uri": "https://localhost:8080/",
          "height": 429
        }
      },
      "outputs": [
        {
          "output_type": "execute_result",
          "data": {
            "text/plain": [
              "    ID  APPLE PRODUCTDESCRIPTION | SAMSUNG | MODEL90  \\\n",
              "0   45                                           0.0   \n",
              "1  130                                           0.0   \n",
              "2  132                                           0.0   \n",
              "3  137                                           0.0   \n",
              "4  153                                           0.0   \n",
              "\n",
              "   AUDIO ACCESSORIES | AB AUDIO | AB AUDIO GO AIR TRUE WIRELESS BLUETOOTH IN-EAR H  \\\n",
              "0                                                0.0                                 \n",
              "1                                                0.0                                 \n",
              "2                                                0.0                                 \n",
              "3                                                0.0                                 \n",
              "4                                                0.0                                 \n",
              "\n",
              "   AUDIO ACCESSORIES | APPLE | 2019 APPLE AIRPODS WITH CHARGING CASE  \\\n",
              "0                                                0.0                   \n",
              "1                                                0.0                   \n",
              "2                                                0.0                   \n",
              "3                                                0.0                   \n",
              "4                                                0.0                   \n",
              "\n",
              "   AUDIO ACCESSORIES | APPLE | 2019 APPLE AIRPODS WITH CHARGING CASE 2ND GENERATI  \\\n",
              "0                                                0.0                                \n",
              "1                                                0.0                                \n",
              "2                                                0.0                                \n",
              "3                                                0.0                                \n",
              "4                                                0.0                                \n",
              "\n",
              "   AUDIO ACCESSORIES | APPLE | 2019 APPLE AIRPODS WITH WIRELESS CHARGING CASE  \\\n",
              "0                                                0.0                            \n",
              "1                                                0.0                            \n",
              "2                                                0.0                            \n",
              "3                                                0.0                            \n",
              "4                                                0.0                            \n",
              "\n",
              "   AUDIO ACCESSORIES | APPLE | 2019 APPLE AIRPODS WITH WIRELESS CHARGING CASE 2ND  \\\n",
              "0                                                0.0                                \n",
              "1                                                0.0                                \n",
              "2                                                0.0                                \n",
              "3                                                0.0                                \n",
              "4                                                0.0                                \n",
              "\n",
              "   AUDIO ACCESSORIES | APPLE | 2021 APPLE AIRPODS WITH MAGSAFE CHARGING CASE 3RD  \\\n",
              "0                                                0.0                               \n",
              "1                                                0.0                               \n",
              "2                                                0.0                               \n",
              "3                                                0.0                               \n",
              "4                                                0.0                               \n",
              "\n",
              "   AUDIO ACCESSORIES | APPLE | AIRPODS PRO  \\\n",
              "0                                      0.0   \n",
              "1                                      0.0   \n",
              "2                                      0.0   \n",
              "3                                      0.0   \n",
              "4                                      0.0   \n",
              "\n",
              "   AUDIO ACCESSORIES | APPLE | APPLE AIRPODS MAX  ...  \\\n",
              "0                                            0.0  ...   \n",
              "1                                            0.0  ...   \n",
              "2                                            0.0  ...   \n",
              "3                                            0.0  ...   \n",
              "4                                            0.0  ...   \n",
              "\n",
              "   WOMEN S NIGHTWEAR | ANYDAY RETAILER | ANYDAY RETAILER LEOPARD PRINT JERSEY PY  \\\n",
              "0                                                0.0                               \n",
              "1                                                0.0                               \n",
              "2                                                0.0                               \n",
              "3                                                0.0                               \n",
              "4                                                0.0                               \n",
              "\n",
              "   WOMEN S NIGHTWEAR | RETAILER | RETAILER CLEO VELOUR JOGGER LOUNGE PANT  \\\n",
              "0                                                0.0                        \n",
              "1                                                0.0                        \n",
              "2                                                0.0                        \n",
              "3                                                0.0                        \n",
              "4                                                0.0                        \n",
              "\n",
              "   WOMEN S NIGHTWEAR | SOSANDAR | SOSANDAR ZEBRA PRINT PYJAMA BOTTOMS BLACK 10  \\\n",
              "0                                                0.0                             \n",
              "1                                                0.0                             \n",
              "2                                                0.0                             \n",
              "3                                                0.0                             \n",
              "4                                                0.0                             \n",
              "\n",
              "   Nb_of_items  total_of_items  costo_total  costo_medio_item  costo_item_max  \\\n",
              "0          3.0             3.0       1066.0        355.333333           929.0   \n",
              "1          2.0             2.0       1299.0        649.500000          1299.0   \n",
              "2          2.0             2.0        774.0        387.000000           774.0   \n",
              "3          2.0             2.0        786.0        393.000000           779.0   \n",
              "4          2.0             2.0        449.0        224.500000           409.0   \n",
              "\n",
              "   costo_item_min  fraud_flag  \n",
              "0            17.0         0.0  \n",
              "1             0.0         1.0  \n",
              "2             0.0         0.0  \n",
              "3             7.0         0.0  \n",
              "4            40.0         0.0  \n",
              "\n",
              "[5 rows x 2457 columns]"
            ],
            "text/html": [
              "\n",
              "  <div id=\"df-ad2d8cfc-ebd8-4c92-98a0-0cdcfe6a7534\" class=\"colab-df-container\">\n",
              "    <div>\n",
              "<style scoped>\n",
              "    .dataframe tbody tr th:only-of-type {\n",
              "        vertical-align: middle;\n",
              "    }\n",
              "\n",
              "    .dataframe tbody tr th {\n",
              "        vertical-align: top;\n",
              "    }\n",
              "\n",
              "    .dataframe thead th {\n",
              "        text-align: right;\n",
              "    }\n",
              "</style>\n",
              "<table border=\"1\" class=\"dataframe\">\n",
              "  <thead>\n",
              "    <tr style=\"text-align: right;\">\n",
              "      <th></th>\n",
              "      <th>ID</th>\n",
              "      <th>APPLE PRODUCTDESCRIPTION | SAMSUNG | MODEL90</th>\n",
              "      <th>AUDIO ACCESSORIES | AB AUDIO | AB AUDIO GO AIR TRUE WIRELESS BLUETOOTH IN-EAR H</th>\n",
              "      <th>AUDIO ACCESSORIES | APPLE | 2019 APPLE AIRPODS WITH CHARGING CASE</th>\n",
              "      <th>AUDIO ACCESSORIES | APPLE | 2019 APPLE AIRPODS WITH CHARGING CASE 2ND GENERATI</th>\n",
              "      <th>AUDIO ACCESSORIES | APPLE | 2019 APPLE AIRPODS WITH WIRELESS CHARGING CASE</th>\n",
              "      <th>AUDIO ACCESSORIES | APPLE | 2019 APPLE AIRPODS WITH WIRELESS CHARGING CASE 2ND</th>\n",
              "      <th>AUDIO ACCESSORIES | APPLE | 2021 APPLE AIRPODS WITH MAGSAFE CHARGING CASE 3RD</th>\n",
              "      <th>AUDIO ACCESSORIES | APPLE | AIRPODS PRO</th>\n",
              "      <th>AUDIO ACCESSORIES | APPLE | APPLE AIRPODS MAX</th>\n",
              "      <th>...</th>\n",
              "      <th>WOMEN S NIGHTWEAR | ANYDAY RETAILER | ANYDAY RETAILER LEOPARD PRINT JERSEY PY</th>\n",
              "      <th>WOMEN S NIGHTWEAR | RETAILER | RETAILER CLEO VELOUR JOGGER LOUNGE PANT</th>\n",
              "      <th>WOMEN S NIGHTWEAR | SOSANDAR | SOSANDAR ZEBRA PRINT PYJAMA BOTTOMS BLACK 10</th>\n",
              "      <th>Nb_of_items</th>\n",
              "      <th>total_of_items</th>\n",
              "      <th>costo_total</th>\n",
              "      <th>costo_medio_item</th>\n",
              "      <th>costo_item_max</th>\n",
              "      <th>costo_item_min</th>\n",
              "      <th>fraud_flag</th>\n",
              "    </tr>\n",
              "  </thead>\n",
              "  <tbody>\n",
              "    <tr>\n",
              "      <th>0</th>\n",
              "      <td>45</td>\n",
              "      <td>0.0</td>\n",
              "      <td>0.0</td>\n",
              "      <td>0.0</td>\n",
              "      <td>0.0</td>\n",
              "      <td>0.0</td>\n",
              "      <td>0.0</td>\n",
              "      <td>0.0</td>\n",
              "      <td>0.0</td>\n",
              "      <td>0.0</td>\n",
              "      <td>...</td>\n",
              "      <td>0.0</td>\n",
              "      <td>0.0</td>\n",
              "      <td>0.0</td>\n",
              "      <td>3.0</td>\n",
              "      <td>3.0</td>\n",
              "      <td>1066.0</td>\n",
              "      <td>355.333333</td>\n",
              "      <td>929.0</td>\n",
              "      <td>17.0</td>\n",
              "      <td>0.0</td>\n",
              "    </tr>\n",
              "    <tr>\n",
              "      <th>1</th>\n",
              "      <td>130</td>\n",
              "      <td>0.0</td>\n",
              "      <td>0.0</td>\n",
              "      <td>0.0</td>\n",
              "      <td>0.0</td>\n",
              "      <td>0.0</td>\n",
              "      <td>0.0</td>\n",
              "      <td>0.0</td>\n",
              "      <td>0.0</td>\n",
              "      <td>0.0</td>\n",
              "      <td>...</td>\n",
              "      <td>0.0</td>\n",
              "      <td>0.0</td>\n",
              "      <td>0.0</td>\n",
              "      <td>2.0</td>\n",
              "      <td>2.0</td>\n",
              "      <td>1299.0</td>\n",
              "      <td>649.500000</td>\n",
              "      <td>1299.0</td>\n",
              "      <td>0.0</td>\n",
              "      <td>1.0</td>\n",
              "    </tr>\n",
              "    <tr>\n",
              "      <th>2</th>\n",
              "      <td>132</td>\n",
              "      <td>0.0</td>\n",
              "      <td>0.0</td>\n",
              "      <td>0.0</td>\n",
              "      <td>0.0</td>\n",
              "      <td>0.0</td>\n",
              "      <td>0.0</td>\n",
              "      <td>0.0</td>\n",
              "      <td>0.0</td>\n",
              "      <td>0.0</td>\n",
              "      <td>...</td>\n",
              "      <td>0.0</td>\n",
              "      <td>0.0</td>\n",
              "      <td>0.0</td>\n",
              "      <td>2.0</td>\n",
              "      <td>2.0</td>\n",
              "      <td>774.0</td>\n",
              "      <td>387.000000</td>\n",
              "      <td>774.0</td>\n",
              "      <td>0.0</td>\n",
              "      <td>0.0</td>\n",
              "    </tr>\n",
              "    <tr>\n",
              "      <th>3</th>\n",
              "      <td>137</td>\n",
              "      <td>0.0</td>\n",
              "      <td>0.0</td>\n",
              "      <td>0.0</td>\n",
              "      <td>0.0</td>\n",
              "      <td>0.0</td>\n",
              "      <td>0.0</td>\n",
              "      <td>0.0</td>\n",
              "      <td>0.0</td>\n",
              "      <td>0.0</td>\n",
              "      <td>...</td>\n",
              "      <td>0.0</td>\n",
              "      <td>0.0</td>\n",
              "      <td>0.0</td>\n",
              "      <td>2.0</td>\n",
              "      <td>2.0</td>\n",
              "      <td>786.0</td>\n",
              "      <td>393.000000</td>\n",
              "      <td>779.0</td>\n",
              "      <td>7.0</td>\n",
              "      <td>0.0</td>\n",
              "    </tr>\n",
              "    <tr>\n",
              "      <th>4</th>\n",
              "      <td>153</td>\n",
              "      <td>0.0</td>\n",
              "      <td>0.0</td>\n",
              "      <td>0.0</td>\n",
              "      <td>0.0</td>\n",
              "      <td>0.0</td>\n",
              "      <td>0.0</td>\n",
              "      <td>0.0</td>\n",
              "      <td>0.0</td>\n",
              "      <td>0.0</td>\n",
              "      <td>...</td>\n",
              "      <td>0.0</td>\n",
              "      <td>0.0</td>\n",
              "      <td>0.0</td>\n",
              "      <td>2.0</td>\n",
              "      <td>2.0</td>\n",
              "      <td>449.0</td>\n",
              "      <td>224.500000</td>\n",
              "      <td>409.0</td>\n",
              "      <td>40.0</td>\n",
              "      <td>0.0</td>\n",
              "    </tr>\n",
              "  </tbody>\n",
              "</table>\n",
              "<p>5 rows × 2457 columns</p>\n",
              "</div>\n",
              "    <div class=\"colab-df-buttons\">\n",
              "\n",
              "  <div class=\"colab-df-container\">\n",
              "    <button class=\"colab-df-convert\" onclick=\"convertToInteractive('df-ad2d8cfc-ebd8-4c92-98a0-0cdcfe6a7534')\"\n",
              "            title=\"Convert this dataframe to an interactive table.\"\n",
              "            style=\"display:none;\">\n",
              "\n",
              "  <svg xmlns=\"http://www.w3.org/2000/svg\" height=\"24px\" viewBox=\"0 -960 960 960\">\n",
              "    <path d=\"M120-120v-720h720v720H120Zm60-500h600v-160H180v160Zm220 220h160v-160H400v160Zm0 220h160v-160H400v160ZM180-400h160v-160H180v160Zm440 0h160v-160H620v160ZM180-180h160v-160H180v160Zm440 0h160v-160H620v160Z\"/>\n",
              "  </svg>\n",
              "    </button>\n",
              "\n",
              "  <style>\n",
              "    .colab-df-container {\n",
              "      display:flex;\n",
              "      gap: 12px;\n",
              "    }\n",
              "\n",
              "    .colab-df-convert {\n",
              "      background-color: #E8F0FE;\n",
              "      border: none;\n",
              "      border-radius: 50%;\n",
              "      cursor: pointer;\n",
              "      display: none;\n",
              "      fill: #1967D2;\n",
              "      height: 32px;\n",
              "      padding: 0 0 0 0;\n",
              "      width: 32px;\n",
              "    }\n",
              "\n",
              "    .colab-df-convert:hover {\n",
              "      background-color: #E2EBFA;\n",
              "      box-shadow: 0px 1px 2px rgba(60, 64, 67, 0.3), 0px 1px 3px 1px rgba(60, 64, 67, 0.15);\n",
              "      fill: #174EA6;\n",
              "    }\n",
              "\n",
              "    .colab-df-buttons div {\n",
              "      margin-bottom: 4px;\n",
              "    }\n",
              "\n",
              "    [theme=dark] .colab-df-convert {\n",
              "      background-color: #3B4455;\n",
              "      fill: #D2E3FC;\n",
              "    }\n",
              "\n",
              "    [theme=dark] .colab-df-convert:hover {\n",
              "      background-color: #434B5C;\n",
              "      box-shadow: 0px 1px 3px 1px rgba(0, 0, 0, 0.15);\n",
              "      filter: drop-shadow(0px 1px 2px rgba(0, 0, 0, 0.3));\n",
              "      fill: #FFFFFF;\n",
              "    }\n",
              "  </style>\n",
              "\n",
              "    <script>\n",
              "      const buttonEl =\n",
              "        document.querySelector('#df-ad2d8cfc-ebd8-4c92-98a0-0cdcfe6a7534 button.colab-df-convert');\n",
              "      buttonEl.style.display =\n",
              "        google.colab.kernel.accessAllowed ? 'block' : 'none';\n",
              "\n",
              "      async function convertToInteractive(key) {\n",
              "        const element = document.querySelector('#df-ad2d8cfc-ebd8-4c92-98a0-0cdcfe6a7534');\n",
              "        const dataTable =\n",
              "          await google.colab.kernel.invokeFunction('convertToInteractive',\n",
              "                                                    [key], {});\n",
              "        if (!dataTable) return;\n",
              "\n",
              "        const docLinkHtml = 'Like what you see? Visit the ' +\n",
              "          '<a target=\"_blank\" href=https://colab.research.google.com/notebooks/data_table.ipynb>data table notebook</a>'\n",
              "          + ' to learn more about interactive tables.';\n",
              "        element.innerHTML = '';\n",
              "        dataTable['output_type'] = 'display_data';\n",
              "        await google.colab.output.renderOutput(dataTable, element);\n",
              "        const docLink = document.createElement('div');\n",
              "        docLink.innerHTML = docLinkHtml;\n",
              "        element.appendChild(docLink);\n",
              "      }\n",
              "    </script>\n",
              "  </div>\n",
              "\n",
              "\n",
              "<div id=\"df-4e971002-d27b-4653-b23a-c0eb0f35b518\">\n",
              "  <button class=\"colab-df-quickchart\" onclick=\"quickchart('df-4e971002-d27b-4653-b23a-c0eb0f35b518')\"\n",
              "            title=\"Suggest charts\"\n",
              "            style=\"display:none;\">\n",
              "\n",
              "<svg xmlns=\"http://www.w3.org/2000/svg\" height=\"24px\"viewBox=\"0 0 24 24\"\n",
              "     width=\"24px\">\n",
              "    <g>\n",
              "        <path d=\"M19 3H5c-1.1 0-2 .9-2 2v14c0 1.1.9 2 2 2h14c1.1 0 2-.9 2-2V5c0-1.1-.9-2-2-2zM9 17H7v-7h2v7zm4 0h-2V7h2v10zm4 0h-2v-4h2v4z\"/>\n",
              "    </g>\n",
              "</svg>\n",
              "  </button>\n",
              "\n",
              "<style>\n",
              "  .colab-df-quickchart {\n",
              "      --bg-color: #E8F0FE;\n",
              "      --fill-color: #1967D2;\n",
              "      --hover-bg-color: #E2EBFA;\n",
              "      --hover-fill-color: #174EA6;\n",
              "      --disabled-fill-color: #AAA;\n",
              "      --disabled-bg-color: #DDD;\n",
              "  }\n",
              "\n",
              "  [theme=dark] .colab-df-quickchart {\n",
              "      --bg-color: #3B4455;\n",
              "      --fill-color: #D2E3FC;\n",
              "      --hover-bg-color: #434B5C;\n",
              "      --hover-fill-color: #FFFFFF;\n",
              "      --disabled-bg-color: #3B4455;\n",
              "      --disabled-fill-color: #666;\n",
              "  }\n",
              "\n",
              "  .colab-df-quickchart {\n",
              "    background-color: var(--bg-color);\n",
              "    border: none;\n",
              "    border-radius: 50%;\n",
              "    cursor: pointer;\n",
              "    display: none;\n",
              "    fill: var(--fill-color);\n",
              "    height: 32px;\n",
              "    padding: 0;\n",
              "    width: 32px;\n",
              "  }\n",
              "\n",
              "  .colab-df-quickchart:hover {\n",
              "    background-color: var(--hover-bg-color);\n",
              "    box-shadow: 0 1px 2px rgba(60, 64, 67, 0.3), 0 1px 3px 1px rgba(60, 64, 67, 0.15);\n",
              "    fill: var(--button-hover-fill-color);\n",
              "  }\n",
              "\n",
              "  .colab-df-quickchart-complete:disabled,\n",
              "  .colab-df-quickchart-complete:disabled:hover {\n",
              "    background-color: var(--disabled-bg-color);\n",
              "    fill: var(--disabled-fill-color);\n",
              "    box-shadow: none;\n",
              "  }\n",
              "\n",
              "  .colab-df-spinner {\n",
              "    border: 2px solid var(--fill-color);\n",
              "    border-color: transparent;\n",
              "    border-bottom-color: var(--fill-color);\n",
              "    animation:\n",
              "      spin 1s steps(1) infinite;\n",
              "  }\n",
              "\n",
              "  @keyframes spin {\n",
              "    0% {\n",
              "      border-color: transparent;\n",
              "      border-bottom-color: var(--fill-color);\n",
              "      border-left-color: var(--fill-color);\n",
              "    }\n",
              "    20% {\n",
              "      border-color: transparent;\n",
              "      border-left-color: var(--fill-color);\n",
              "      border-top-color: var(--fill-color);\n",
              "    }\n",
              "    30% {\n",
              "      border-color: transparent;\n",
              "      border-left-color: var(--fill-color);\n",
              "      border-top-color: var(--fill-color);\n",
              "      border-right-color: var(--fill-color);\n",
              "    }\n",
              "    40% {\n",
              "      border-color: transparent;\n",
              "      border-right-color: var(--fill-color);\n",
              "      border-top-color: var(--fill-color);\n",
              "    }\n",
              "    60% {\n",
              "      border-color: transparent;\n",
              "      border-right-color: var(--fill-color);\n",
              "    }\n",
              "    80% {\n",
              "      border-color: transparent;\n",
              "      border-right-color: var(--fill-color);\n",
              "      border-bottom-color: var(--fill-color);\n",
              "    }\n",
              "    90% {\n",
              "      border-color: transparent;\n",
              "      border-bottom-color: var(--fill-color);\n",
              "    }\n",
              "  }\n",
              "</style>\n",
              "\n",
              "  <script>\n",
              "    async function quickchart(key) {\n",
              "      const quickchartButtonEl =\n",
              "        document.querySelector('#' + key + ' button');\n",
              "      quickchartButtonEl.disabled = true;  // To prevent multiple clicks.\n",
              "      quickchartButtonEl.classList.add('colab-df-spinner');\n",
              "      try {\n",
              "        const charts = await google.colab.kernel.invokeFunction(\n",
              "            'suggestCharts', [key], {});\n",
              "      } catch (error) {\n",
              "        console.error('Error during call to suggestCharts:', error);\n",
              "      }\n",
              "      quickchartButtonEl.classList.remove('colab-df-spinner');\n",
              "      quickchartButtonEl.classList.add('colab-df-quickchart-complete');\n",
              "    }\n",
              "    (() => {\n",
              "      let quickchartButtonEl =\n",
              "        document.querySelector('#df-4e971002-d27b-4653-b23a-c0eb0f35b518 button');\n",
              "      quickchartButtonEl.style.display =\n",
              "        google.colab.kernel.accessAllowed ? 'block' : 'none';\n",
              "    })();\n",
              "  </script>\n",
              "</div>\n",
              "\n",
              "    </div>\n",
              "  </div>\n"
            ],
            "application/vnd.google.colaboratory.intrinsic+json": {
              "type": "dataframe",
              "variable_name": "df"
            }
          },
          "metadata": {},
          "execution_count": 36
        }
      ],
      "source": [
        "#Observamos el dataFrame cargado\n",
        "df.head()"
      ]
    },
    {
      "cell_type": "code",
      "execution_count": 37,
      "metadata": {
        "id": "FfLKnWonDcSt",
        "outputId": "a09be6ed-d137-478f-9287-cfdf46b5212b",
        "colab": {
          "base_uri": "https://localhost:8080/",
          "height": 429
        }
      },
      "outputs": [
        {
          "output_type": "execute_result",
          "data": {
            "text/plain": [
              "          ID  APPLE PRODUCTDESCRIPTION | SAMSUNG | MODEL90  \\\n",
              "6408  115840                                           0.0   \n",
              "6409  115866                                           0.0   \n",
              "6410  115874                                           0.0   \n",
              "6411  115891                                           0.0   \n",
              "6412  115935                                           0.0   \n",
              "\n",
              "      AUDIO ACCESSORIES | AB AUDIO | AB AUDIO GO AIR TRUE WIRELESS BLUETOOTH IN-EAR H  \\\n",
              "6408                                                0.0                                 \n",
              "6409                                                0.0                                 \n",
              "6410                                                0.0                                 \n",
              "6411                                                0.0                                 \n",
              "6412                                                0.0                                 \n",
              "\n",
              "      AUDIO ACCESSORIES | APPLE | 2019 APPLE AIRPODS WITH CHARGING CASE  \\\n",
              "6408                                                0.0                   \n",
              "6409                                                0.0                   \n",
              "6410                                                0.0                   \n",
              "6411                                                0.0                   \n",
              "6412                                                0.0                   \n",
              "\n",
              "      AUDIO ACCESSORIES | APPLE | 2019 APPLE AIRPODS WITH CHARGING CASE 2ND GENERATI  \\\n",
              "6408                                                0.0                                \n",
              "6409                                                0.0                                \n",
              "6410                                                0.0                                \n",
              "6411                                                0.0                                \n",
              "6412                                                0.0                                \n",
              "\n",
              "      AUDIO ACCESSORIES | APPLE | 2019 APPLE AIRPODS WITH WIRELESS CHARGING CASE  \\\n",
              "6408                                                0.0                            \n",
              "6409                                                0.0                            \n",
              "6410                                                0.0                            \n",
              "6411                                                0.0                            \n",
              "6412                                                0.0                            \n",
              "\n",
              "      AUDIO ACCESSORIES | APPLE | 2019 APPLE AIRPODS WITH WIRELESS CHARGING CASE 2ND  \\\n",
              "6408                                                0.0                                \n",
              "6409                                                0.0                                \n",
              "6410                                                0.0                                \n",
              "6411                                                0.0                                \n",
              "6412                                                0.0                                \n",
              "\n",
              "      AUDIO ACCESSORIES | APPLE | 2021 APPLE AIRPODS WITH MAGSAFE CHARGING CASE 3RD  \\\n",
              "6408                                                0.0                               \n",
              "6409                                                0.0                               \n",
              "6410                                                0.0                               \n",
              "6411                                                0.0                               \n",
              "6412                                                0.0                               \n",
              "\n",
              "      AUDIO ACCESSORIES | APPLE | AIRPODS PRO  \\\n",
              "6408                                      0.0   \n",
              "6409                                      0.0   \n",
              "6410                                      0.0   \n",
              "6411                                      0.0   \n",
              "6412                                      0.0   \n",
              "\n",
              "      AUDIO ACCESSORIES | APPLE | APPLE AIRPODS MAX  ...  \\\n",
              "6408                                            0.0  ...   \n",
              "6409                                            0.0  ...   \n",
              "6410                                            0.0  ...   \n",
              "6411                                            0.0  ...   \n",
              "6412                                            0.0  ...   \n",
              "\n",
              "      WOMEN S NIGHTWEAR | ANYDAY RETAILER | ANYDAY RETAILER LEOPARD PRINT JERSEY PY  \\\n",
              "6408                                                0.0                               \n",
              "6409                                                0.0                               \n",
              "6410                                                0.0                               \n",
              "6411                                                0.0                               \n",
              "6412                                                0.0                               \n",
              "\n",
              "      WOMEN S NIGHTWEAR | RETAILER | RETAILER CLEO VELOUR JOGGER LOUNGE PANT  \\\n",
              "6408                                                0.0                        \n",
              "6409                                                0.0                        \n",
              "6410                                                0.0                        \n",
              "6411                                                0.0                        \n",
              "6412                                                0.0                        \n",
              "\n",
              "      WOMEN S NIGHTWEAR | SOSANDAR | SOSANDAR ZEBRA PRINT PYJAMA BOTTOMS BLACK 10  \\\n",
              "6408                                                0.0                             \n",
              "6409                                                0.0                             \n",
              "6410                                                0.0                             \n",
              "6411                                                0.0                             \n",
              "6412                                                0.0                             \n",
              "\n",
              "      Nb_of_items  total_of_items  costo_total  costo_medio_item  \\\n",
              "6408          2.0             2.0       2024.0       1012.000000   \n",
              "6409          1.0             1.0       1649.0       1649.000000   \n",
              "6410          1.0             1.0       1319.0       1319.000000   \n",
              "6411          3.0             3.0       1424.0        474.666667   \n",
              "6412          1.0             1.0        569.0        569.000000   \n",
              "\n",
              "      costo_item_max  costo_item_min  fraud_flag  \n",
              "6408          1999.0            25.0         0.0  \n",
              "6409          1649.0          1649.0         0.0  \n",
              "6410          1319.0          1319.0         0.0  \n",
              "6411          1259.0            25.0         0.0  \n",
              "6412           569.0           569.0         0.0  \n",
              "\n",
              "[5 rows x 2457 columns]"
            ],
            "text/html": [
              "\n",
              "  <div id=\"df-0e566737-fc11-4768-b9cd-dc8528d7c4db\" class=\"colab-df-container\">\n",
              "    <div>\n",
              "<style scoped>\n",
              "    .dataframe tbody tr th:only-of-type {\n",
              "        vertical-align: middle;\n",
              "    }\n",
              "\n",
              "    .dataframe tbody tr th {\n",
              "        vertical-align: top;\n",
              "    }\n",
              "\n",
              "    .dataframe thead th {\n",
              "        text-align: right;\n",
              "    }\n",
              "</style>\n",
              "<table border=\"1\" class=\"dataframe\">\n",
              "  <thead>\n",
              "    <tr style=\"text-align: right;\">\n",
              "      <th></th>\n",
              "      <th>ID</th>\n",
              "      <th>APPLE PRODUCTDESCRIPTION | SAMSUNG | MODEL90</th>\n",
              "      <th>AUDIO ACCESSORIES | AB AUDIO | AB AUDIO GO AIR TRUE WIRELESS BLUETOOTH IN-EAR H</th>\n",
              "      <th>AUDIO ACCESSORIES | APPLE | 2019 APPLE AIRPODS WITH CHARGING CASE</th>\n",
              "      <th>AUDIO ACCESSORIES | APPLE | 2019 APPLE AIRPODS WITH CHARGING CASE 2ND GENERATI</th>\n",
              "      <th>AUDIO ACCESSORIES | APPLE | 2019 APPLE AIRPODS WITH WIRELESS CHARGING CASE</th>\n",
              "      <th>AUDIO ACCESSORIES | APPLE | 2019 APPLE AIRPODS WITH WIRELESS CHARGING CASE 2ND</th>\n",
              "      <th>AUDIO ACCESSORIES | APPLE | 2021 APPLE AIRPODS WITH MAGSAFE CHARGING CASE 3RD</th>\n",
              "      <th>AUDIO ACCESSORIES | APPLE | AIRPODS PRO</th>\n",
              "      <th>AUDIO ACCESSORIES | APPLE | APPLE AIRPODS MAX</th>\n",
              "      <th>...</th>\n",
              "      <th>WOMEN S NIGHTWEAR | ANYDAY RETAILER | ANYDAY RETAILER LEOPARD PRINT JERSEY PY</th>\n",
              "      <th>WOMEN S NIGHTWEAR | RETAILER | RETAILER CLEO VELOUR JOGGER LOUNGE PANT</th>\n",
              "      <th>WOMEN S NIGHTWEAR | SOSANDAR | SOSANDAR ZEBRA PRINT PYJAMA BOTTOMS BLACK 10</th>\n",
              "      <th>Nb_of_items</th>\n",
              "      <th>total_of_items</th>\n",
              "      <th>costo_total</th>\n",
              "      <th>costo_medio_item</th>\n",
              "      <th>costo_item_max</th>\n",
              "      <th>costo_item_min</th>\n",
              "      <th>fraud_flag</th>\n",
              "    </tr>\n",
              "  </thead>\n",
              "  <tbody>\n",
              "    <tr>\n",
              "      <th>6408</th>\n",
              "      <td>115840</td>\n",
              "      <td>0.0</td>\n",
              "      <td>0.0</td>\n",
              "      <td>0.0</td>\n",
              "      <td>0.0</td>\n",
              "      <td>0.0</td>\n",
              "      <td>0.0</td>\n",
              "      <td>0.0</td>\n",
              "      <td>0.0</td>\n",
              "      <td>0.0</td>\n",
              "      <td>...</td>\n",
              "      <td>0.0</td>\n",
              "      <td>0.0</td>\n",
              "      <td>0.0</td>\n",
              "      <td>2.0</td>\n",
              "      <td>2.0</td>\n",
              "      <td>2024.0</td>\n",
              "      <td>1012.000000</td>\n",
              "      <td>1999.0</td>\n",
              "      <td>25.0</td>\n",
              "      <td>0.0</td>\n",
              "    </tr>\n",
              "    <tr>\n",
              "      <th>6409</th>\n",
              "      <td>115866</td>\n",
              "      <td>0.0</td>\n",
              "      <td>0.0</td>\n",
              "      <td>0.0</td>\n",
              "      <td>0.0</td>\n",
              "      <td>0.0</td>\n",
              "      <td>0.0</td>\n",
              "      <td>0.0</td>\n",
              "      <td>0.0</td>\n",
              "      <td>0.0</td>\n",
              "      <td>...</td>\n",
              "      <td>0.0</td>\n",
              "      <td>0.0</td>\n",
              "      <td>0.0</td>\n",
              "      <td>1.0</td>\n",
              "      <td>1.0</td>\n",
              "      <td>1649.0</td>\n",
              "      <td>1649.000000</td>\n",
              "      <td>1649.0</td>\n",
              "      <td>1649.0</td>\n",
              "      <td>0.0</td>\n",
              "    </tr>\n",
              "    <tr>\n",
              "      <th>6410</th>\n",
              "      <td>115874</td>\n",
              "      <td>0.0</td>\n",
              "      <td>0.0</td>\n",
              "      <td>0.0</td>\n",
              "      <td>0.0</td>\n",
              "      <td>0.0</td>\n",
              "      <td>0.0</td>\n",
              "      <td>0.0</td>\n",
              "      <td>0.0</td>\n",
              "      <td>0.0</td>\n",
              "      <td>...</td>\n",
              "      <td>0.0</td>\n",
              "      <td>0.0</td>\n",
              "      <td>0.0</td>\n",
              "      <td>1.0</td>\n",
              "      <td>1.0</td>\n",
              "      <td>1319.0</td>\n",
              "      <td>1319.000000</td>\n",
              "      <td>1319.0</td>\n",
              "      <td>1319.0</td>\n",
              "      <td>0.0</td>\n",
              "    </tr>\n",
              "    <tr>\n",
              "      <th>6411</th>\n",
              "      <td>115891</td>\n",
              "      <td>0.0</td>\n",
              "      <td>0.0</td>\n",
              "      <td>0.0</td>\n",
              "      <td>0.0</td>\n",
              "      <td>0.0</td>\n",
              "      <td>0.0</td>\n",
              "      <td>0.0</td>\n",
              "      <td>0.0</td>\n",
              "      <td>0.0</td>\n",
              "      <td>...</td>\n",
              "      <td>0.0</td>\n",
              "      <td>0.0</td>\n",
              "      <td>0.0</td>\n",
              "      <td>3.0</td>\n",
              "      <td>3.0</td>\n",
              "      <td>1424.0</td>\n",
              "      <td>474.666667</td>\n",
              "      <td>1259.0</td>\n",
              "      <td>25.0</td>\n",
              "      <td>0.0</td>\n",
              "    </tr>\n",
              "    <tr>\n",
              "      <th>6412</th>\n",
              "      <td>115935</td>\n",
              "      <td>0.0</td>\n",
              "      <td>0.0</td>\n",
              "      <td>0.0</td>\n",
              "      <td>0.0</td>\n",
              "      <td>0.0</td>\n",
              "      <td>0.0</td>\n",
              "      <td>0.0</td>\n",
              "      <td>0.0</td>\n",
              "      <td>0.0</td>\n",
              "      <td>...</td>\n",
              "      <td>0.0</td>\n",
              "      <td>0.0</td>\n",
              "      <td>0.0</td>\n",
              "      <td>1.0</td>\n",
              "      <td>1.0</td>\n",
              "      <td>569.0</td>\n",
              "      <td>569.000000</td>\n",
              "      <td>569.0</td>\n",
              "      <td>569.0</td>\n",
              "      <td>0.0</td>\n",
              "    </tr>\n",
              "  </tbody>\n",
              "</table>\n",
              "<p>5 rows × 2457 columns</p>\n",
              "</div>\n",
              "    <div class=\"colab-df-buttons\">\n",
              "\n",
              "  <div class=\"colab-df-container\">\n",
              "    <button class=\"colab-df-convert\" onclick=\"convertToInteractive('df-0e566737-fc11-4768-b9cd-dc8528d7c4db')\"\n",
              "            title=\"Convert this dataframe to an interactive table.\"\n",
              "            style=\"display:none;\">\n",
              "\n",
              "  <svg xmlns=\"http://www.w3.org/2000/svg\" height=\"24px\" viewBox=\"0 -960 960 960\">\n",
              "    <path d=\"M120-120v-720h720v720H120Zm60-500h600v-160H180v160Zm220 220h160v-160H400v160Zm0 220h160v-160H400v160ZM180-400h160v-160H180v160Zm440 0h160v-160H620v160ZM180-180h160v-160H180v160Zm440 0h160v-160H620v160Z\"/>\n",
              "  </svg>\n",
              "    </button>\n",
              "\n",
              "  <style>\n",
              "    .colab-df-container {\n",
              "      display:flex;\n",
              "      gap: 12px;\n",
              "    }\n",
              "\n",
              "    .colab-df-convert {\n",
              "      background-color: #E8F0FE;\n",
              "      border: none;\n",
              "      border-radius: 50%;\n",
              "      cursor: pointer;\n",
              "      display: none;\n",
              "      fill: #1967D2;\n",
              "      height: 32px;\n",
              "      padding: 0 0 0 0;\n",
              "      width: 32px;\n",
              "    }\n",
              "\n",
              "    .colab-df-convert:hover {\n",
              "      background-color: #E2EBFA;\n",
              "      box-shadow: 0px 1px 2px rgba(60, 64, 67, 0.3), 0px 1px 3px 1px rgba(60, 64, 67, 0.15);\n",
              "      fill: #174EA6;\n",
              "    }\n",
              "\n",
              "    .colab-df-buttons div {\n",
              "      margin-bottom: 4px;\n",
              "    }\n",
              "\n",
              "    [theme=dark] .colab-df-convert {\n",
              "      background-color: #3B4455;\n",
              "      fill: #D2E3FC;\n",
              "    }\n",
              "\n",
              "    [theme=dark] .colab-df-convert:hover {\n",
              "      background-color: #434B5C;\n",
              "      box-shadow: 0px 1px 3px 1px rgba(0, 0, 0, 0.15);\n",
              "      filter: drop-shadow(0px 1px 2px rgba(0, 0, 0, 0.3));\n",
              "      fill: #FFFFFF;\n",
              "    }\n",
              "  </style>\n",
              "\n",
              "    <script>\n",
              "      const buttonEl =\n",
              "        document.querySelector('#df-0e566737-fc11-4768-b9cd-dc8528d7c4db button.colab-df-convert');\n",
              "      buttonEl.style.display =\n",
              "        google.colab.kernel.accessAllowed ? 'block' : 'none';\n",
              "\n",
              "      async function convertToInteractive(key) {\n",
              "        const element = document.querySelector('#df-0e566737-fc11-4768-b9cd-dc8528d7c4db');\n",
              "        const dataTable =\n",
              "          await google.colab.kernel.invokeFunction('convertToInteractive',\n",
              "                                                    [key], {});\n",
              "        if (!dataTable) return;\n",
              "\n",
              "        const docLinkHtml = 'Like what you see? Visit the ' +\n",
              "          '<a target=\"_blank\" href=https://colab.research.google.com/notebooks/data_table.ipynb>data table notebook</a>'\n",
              "          + ' to learn more about interactive tables.';\n",
              "        element.innerHTML = '';\n",
              "        dataTable['output_type'] = 'display_data';\n",
              "        await google.colab.output.renderOutput(dataTable, element);\n",
              "        const docLink = document.createElement('div');\n",
              "        docLink.innerHTML = docLinkHtml;\n",
              "        element.appendChild(docLink);\n",
              "      }\n",
              "    </script>\n",
              "  </div>\n",
              "\n",
              "\n",
              "<div id=\"df-2dd7b9fd-8dde-471e-b6eb-daa32bb969ab\">\n",
              "  <button class=\"colab-df-quickchart\" onclick=\"quickchart('df-2dd7b9fd-8dde-471e-b6eb-daa32bb969ab')\"\n",
              "            title=\"Suggest charts\"\n",
              "            style=\"display:none;\">\n",
              "\n",
              "<svg xmlns=\"http://www.w3.org/2000/svg\" height=\"24px\"viewBox=\"0 0 24 24\"\n",
              "     width=\"24px\">\n",
              "    <g>\n",
              "        <path d=\"M19 3H5c-1.1 0-2 .9-2 2v14c0 1.1.9 2 2 2h14c1.1 0 2-.9 2-2V5c0-1.1-.9-2-2-2zM9 17H7v-7h2v7zm4 0h-2V7h2v10zm4 0h-2v-4h2v4z\"/>\n",
              "    </g>\n",
              "</svg>\n",
              "  </button>\n",
              "\n",
              "<style>\n",
              "  .colab-df-quickchart {\n",
              "      --bg-color: #E8F0FE;\n",
              "      --fill-color: #1967D2;\n",
              "      --hover-bg-color: #E2EBFA;\n",
              "      --hover-fill-color: #174EA6;\n",
              "      --disabled-fill-color: #AAA;\n",
              "      --disabled-bg-color: #DDD;\n",
              "  }\n",
              "\n",
              "  [theme=dark] .colab-df-quickchart {\n",
              "      --bg-color: #3B4455;\n",
              "      --fill-color: #D2E3FC;\n",
              "      --hover-bg-color: #434B5C;\n",
              "      --hover-fill-color: #FFFFFF;\n",
              "      --disabled-bg-color: #3B4455;\n",
              "      --disabled-fill-color: #666;\n",
              "  }\n",
              "\n",
              "  .colab-df-quickchart {\n",
              "    background-color: var(--bg-color);\n",
              "    border: none;\n",
              "    border-radius: 50%;\n",
              "    cursor: pointer;\n",
              "    display: none;\n",
              "    fill: var(--fill-color);\n",
              "    height: 32px;\n",
              "    padding: 0;\n",
              "    width: 32px;\n",
              "  }\n",
              "\n",
              "  .colab-df-quickchart:hover {\n",
              "    background-color: var(--hover-bg-color);\n",
              "    box-shadow: 0 1px 2px rgba(60, 64, 67, 0.3), 0 1px 3px 1px rgba(60, 64, 67, 0.15);\n",
              "    fill: var(--button-hover-fill-color);\n",
              "  }\n",
              "\n",
              "  .colab-df-quickchart-complete:disabled,\n",
              "  .colab-df-quickchart-complete:disabled:hover {\n",
              "    background-color: var(--disabled-bg-color);\n",
              "    fill: var(--disabled-fill-color);\n",
              "    box-shadow: none;\n",
              "  }\n",
              "\n",
              "  .colab-df-spinner {\n",
              "    border: 2px solid var(--fill-color);\n",
              "    border-color: transparent;\n",
              "    border-bottom-color: var(--fill-color);\n",
              "    animation:\n",
              "      spin 1s steps(1) infinite;\n",
              "  }\n",
              "\n",
              "  @keyframes spin {\n",
              "    0% {\n",
              "      border-color: transparent;\n",
              "      border-bottom-color: var(--fill-color);\n",
              "      border-left-color: var(--fill-color);\n",
              "    }\n",
              "    20% {\n",
              "      border-color: transparent;\n",
              "      border-left-color: var(--fill-color);\n",
              "      border-top-color: var(--fill-color);\n",
              "    }\n",
              "    30% {\n",
              "      border-color: transparent;\n",
              "      border-left-color: var(--fill-color);\n",
              "      border-top-color: var(--fill-color);\n",
              "      border-right-color: var(--fill-color);\n",
              "    }\n",
              "    40% {\n",
              "      border-color: transparent;\n",
              "      border-right-color: var(--fill-color);\n",
              "      border-top-color: var(--fill-color);\n",
              "    }\n",
              "    60% {\n",
              "      border-color: transparent;\n",
              "      border-right-color: var(--fill-color);\n",
              "    }\n",
              "    80% {\n",
              "      border-color: transparent;\n",
              "      border-right-color: var(--fill-color);\n",
              "      border-bottom-color: var(--fill-color);\n",
              "    }\n",
              "    90% {\n",
              "      border-color: transparent;\n",
              "      border-bottom-color: var(--fill-color);\n",
              "    }\n",
              "  }\n",
              "</style>\n",
              "\n",
              "  <script>\n",
              "    async function quickchart(key) {\n",
              "      const quickchartButtonEl =\n",
              "        document.querySelector('#' + key + ' button');\n",
              "      quickchartButtonEl.disabled = true;  // To prevent multiple clicks.\n",
              "      quickchartButtonEl.classList.add('colab-df-spinner');\n",
              "      try {\n",
              "        const charts = await google.colab.kernel.invokeFunction(\n",
              "            'suggestCharts', [key], {});\n",
              "      } catch (error) {\n",
              "        console.error('Error during call to suggestCharts:', error);\n",
              "      }\n",
              "      quickchartButtonEl.classList.remove('colab-df-spinner');\n",
              "      quickchartButtonEl.classList.add('colab-df-quickchart-complete');\n",
              "    }\n",
              "    (() => {\n",
              "      let quickchartButtonEl =\n",
              "        document.querySelector('#df-2dd7b9fd-8dde-471e-b6eb-daa32bb969ab button');\n",
              "      quickchartButtonEl.style.display =\n",
              "        google.colab.kernel.accessAllowed ? 'block' : 'none';\n",
              "    })();\n",
              "  </script>\n",
              "</div>\n",
              "\n",
              "    </div>\n",
              "  </div>\n"
            ],
            "application/vnd.google.colaboratory.intrinsic+json": {
              "type": "dataframe"
            }
          },
          "metadata": {},
          "execution_count": 37
        }
      ],
      "source": [
        "#Revisamos que todos los datos se hayan cargado correctamente\n",
        "df.tail()"
      ]
    },
    {
      "cell_type": "code",
      "execution_count": 38,
      "metadata": {
        "id": "FYC7Yk-nDcSu",
        "outputId": "bdbbaf6b-1d50-4b96-ff4f-48ae835ee55b",
        "colab": {
          "base_uri": "https://localhost:8080/"
        }
      },
      "outputs": [
        {
          "output_type": "execute_result",
          "data": {
            "text/plain": [
              "Index(['ID', 'APPLE PRODUCTDESCRIPTION | SAMSUNG | MODEL90',\n",
              "       'AUDIO ACCESSORIES | AB AUDIO | AB AUDIO GO AIR TRUE WIRELESS BLUETOOTH IN-EAR H',\n",
              "       'AUDIO ACCESSORIES | APPLE | 2019 APPLE AIRPODS WITH CHARGING CASE',\n",
              "       'AUDIO ACCESSORIES | APPLE | 2019 APPLE AIRPODS WITH CHARGING CASE 2ND GENERATI',\n",
              "       'AUDIO ACCESSORIES | APPLE | 2019 APPLE AIRPODS WITH WIRELESS CHARGING CASE',\n",
              "       'AUDIO ACCESSORIES | APPLE | 2019 APPLE AIRPODS WITH WIRELESS CHARGING CASE 2ND',\n",
              "       'AUDIO ACCESSORIES | APPLE | 2021 APPLE AIRPODS WITH MAGSAFE CHARGING CASE 3RD',\n",
              "       'AUDIO ACCESSORIES | APPLE | AIRPODS PRO',\n",
              "       'AUDIO ACCESSORIES | APPLE | APPLE AIRPODS MAX',\n",
              "       ...\n",
              "       'WOMEN S NIGHTWEAR | ANYDAY RETAILER | ANYDAY RETAILER LEOPARD PRINT JERSEY PY',\n",
              "       'WOMEN S NIGHTWEAR | RETAILER | RETAILER CLEO VELOUR JOGGER LOUNGE PANT',\n",
              "       'WOMEN S NIGHTWEAR | SOSANDAR | SOSANDAR ZEBRA PRINT PYJAMA BOTTOMS BLACK 10',\n",
              "       'Nb_of_items', 'total_of_items', 'costo_total', 'costo_medio_item',\n",
              "       'costo_item_max', 'costo_item_min', 'fraud_flag'],\n",
              "      dtype='object', length=2457)"
            ]
          },
          "metadata": {},
          "execution_count": 38
        }
      ],
      "source": [
        "#Las columnas nos diran como estan divididos los productos y clasificaciones para analizar el fraude\n",
        "df.columns"
      ]
    },
    {
      "cell_type": "code",
      "execution_count": 40,
      "metadata": {
        "id": "3wPKLAjoDcSu"
      },
      "outputs": [],
      "source": [
        "df = df.set_index('ID')"
      ]
    },
    {
      "cell_type": "code",
      "execution_count": 41,
      "metadata": {
        "id": "pyCWdzQLDcSu",
        "outputId": "b89d204b-dc0e-47ed-b0c2-b195d71050ad",
        "colab": {
          "base_uri": "https://localhost:8080/",
          "height": 460
        }
      },
      "outputs": [
        {
          "output_type": "execute_result",
          "data": {
            "text/plain": [
              "     APPLE PRODUCTDESCRIPTION | SAMSUNG | MODEL90  \\\n",
              "ID                                                  \n",
              "45                                            0.0   \n",
              "130                                           0.0   \n",
              "132                                           0.0   \n",
              "137                                           0.0   \n",
              "153                                           0.0   \n",
              "\n",
              "     AUDIO ACCESSORIES | AB AUDIO | AB AUDIO GO AIR TRUE WIRELESS BLUETOOTH IN-EAR H  \\\n",
              "ID                                                                                     \n",
              "45                                                 0.0                                 \n",
              "130                                                0.0                                 \n",
              "132                                                0.0                                 \n",
              "137                                                0.0                                 \n",
              "153                                                0.0                                 \n",
              "\n",
              "     AUDIO ACCESSORIES | APPLE | 2019 APPLE AIRPODS WITH CHARGING CASE  \\\n",
              "ID                                                                       \n",
              "45                                                 0.0                   \n",
              "130                                                0.0                   \n",
              "132                                                0.0                   \n",
              "137                                                0.0                   \n",
              "153                                                0.0                   \n",
              "\n",
              "     AUDIO ACCESSORIES | APPLE | 2019 APPLE AIRPODS WITH CHARGING CASE 2ND GENERATI  \\\n",
              "ID                                                                                    \n",
              "45                                                 0.0                                \n",
              "130                                                0.0                                \n",
              "132                                                0.0                                \n",
              "137                                                0.0                                \n",
              "153                                                0.0                                \n",
              "\n",
              "     AUDIO ACCESSORIES | APPLE | 2019 APPLE AIRPODS WITH WIRELESS CHARGING CASE  \\\n",
              "ID                                                                                \n",
              "45                                                 0.0                            \n",
              "130                                                0.0                            \n",
              "132                                                0.0                            \n",
              "137                                                0.0                            \n",
              "153                                                0.0                            \n",
              "\n",
              "     AUDIO ACCESSORIES | APPLE | 2019 APPLE AIRPODS WITH WIRELESS CHARGING CASE 2ND  \\\n",
              "ID                                                                                    \n",
              "45                                                 0.0                                \n",
              "130                                                0.0                                \n",
              "132                                                0.0                                \n",
              "137                                                0.0                                \n",
              "153                                                0.0                                \n",
              "\n",
              "     AUDIO ACCESSORIES | APPLE | 2021 APPLE AIRPODS WITH MAGSAFE CHARGING CASE 3RD  \\\n",
              "ID                                                                                   \n",
              "45                                                 0.0                               \n",
              "130                                                0.0                               \n",
              "132                                                0.0                               \n",
              "137                                                0.0                               \n",
              "153                                                0.0                               \n",
              "\n",
              "     AUDIO ACCESSORIES | APPLE | AIRPODS PRO  \\\n",
              "ID                                             \n",
              "45                                       0.0   \n",
              "130                                      0.0   \n",
              "132                                      0.0   \n",
              "137                                      0.0   \n",
              "153                                      0.0   \n",
              "\n",
              "     AUDIO ACCESSORIES | APPLE | APPLE AIRPODS MAX  \\\n",
              "ID                                                   \n",
              "45                                             0.0   \n",
              "130                                            0.0   \n",
              "132                                            0.0   \n",
              "137                                            0.0   \n",
              "153                                            0.0   \n",
              "\n",
              "     AUDIO ACCESSORIES | APPLE | APPLE AIRPODS MAX NOISE CANCELLING WIRELESS BLUETO  \\\n",
              "ID                                                                                    \n",
              "45                                                 0.0                                \n",
              "130                                                0.0                                \n",
              "132                                                0.0                                \n",
              "137                                                0.0                                \n",
              "153                                                0.0                                \n",
              "\n",
              "     ...  \\\n",
              "ID   ...   \n",
              "45   ...   \n",
              "130  ...   \n",
              "132  ...   \n",
              "137  ...   \n",
              "153  ...   \n",
              "\n",
              "     WOMEN S NIGHTWEAR | ANYDAY RETAILER | ANYDAY RETAILER LEOPARD PRINT JERSEY PY  \\\n",
              "ID                                                                                   \n",
              "45                                                 0.0                               \n",
              "130                                                0.0                               \n",
              "132                                                0.0                               \n",
              "137                                                0.0                               \n",
              "153                                                0.0                               \n",
              "\n",
              "     WOMEN S NIGHTWEAR | RETAILER | RETAILER CLEO VELOUR JOGGER LOUNGE PANT  \\\n",
              "ID                                                                            \n",
              "45                                                 0.0                        \n",
              "130                                                0.0                        \n",
              "132                                                0.0                        \n",
              "137                                                0.0                        \n",
              "153                                                0.0                        \n",
              "\n",
              "     WOMEN S NIGHTWEAR | SOSANDAR | SOSANDAR ZEBRA PRINT PYJAMA BOTTOMS BLACK 10  \\\n",
              "ID                                                                                 \n",
              "45                                                 0.0                             \n",
              "130                                                0.0                             \n",
              "132                                                0.0                             \n",
              "137                                                0.0                             \n",
              "153                                                0.0                             \n",
              "\n",
              "     Nb_of_items  total_of_items  costo_total  costo_medio_item  \\\n",
              "ID                                                                \n",
              "45           3.0             3.0       1066.0        355.333333   \n",
              "130          2.0             2.0       1299.0        649.500000   \n",
              "132          2.0             2.0        774.0        387.000000   \n",
              "137          2.0             2.0        786.0        393.000000   \n",
              "153          2.0             2.0        449.0        224.500000   \n",
              "\n",
              "     costo_item_max  costo_item_min  fraud_flag  \n",
              "ID                                               \n",
              "45            929.0            17.0         0.0  \n",
              "130          1299.0             0.0         1.0  \n",
              "132           774.0             0.0         0.0  \n",
              "137           779.0             7.0         0.0  \n",
              "153           409.0            40.0         0.0  \n",
              "\n",
              "[5 rows x 2456 columns]"
            ],
            "text/html": [
              "\n",
              "  <div id=\"df-8f9d92b1-9cdf-47f5-9c54-550cf0226903\" class=\"colab-df-container\">\n",
              "    <div>\n",
              "<style scoped>\n",
              "    .dataframe tbody tr th:only-of-type {\n",
              "        vertical-align: middle;\n",
              "    }\n",
              "\n",
              "    .dataframe tbody tr th {\n",
              "        vertical-align: top;\n",
              "    }\n",
              "\n",
              "    .dataframe thead th {\n",
              "        text-align: right;\n",
              "    }\n",
              "</style>\n",
              "<table border=\"1\" class=\"dataframe\">\n",
              "  <thead>\n",
              "    <tr style=\"text-align: right;\">\n",
              "      <th></th>\n",
              "      <th>APPLE PRODUCTDESCRIPTION | SAMSUNG | MODEL90</th>\n",
              "      <th>AUDIO ACCESSORIES | AB AUDIO | AB AUDIO GO AIR TRUE WIRELESS BLUETOOTH IN-EAR H</th>\n",
              "      <th>AUDIO ACCESSORIES | APPLE | 2019 APPLE AIRPODS WITH CHARGING CASE</th>\n",
              "      <th>AUDIO ACCESSORIES | APPLE | 2019 APPLE AIRPODS WITH CHARGING CASE 2ND GENERATI</th>\n",
              "      <th>AUDIO ACCESSORIES | APPLE | 2019 APPLE AIRPODS WITH WIRELESS CHARGING CASE</th>\n",
              "      <th>AUDIO ACCESSORIES | APPLE | 2019 APPLE AIRPODS WITH WIRELESS CHARGING CASE 2ND</th>\n",
              "      <th>AUDIO ACCESSORIES | APPLE | 2021 APPLE AIRPODS WITH MAGSAFE CHARGING CASE 3RD</th>\n",
              "      <th>AUDIO ACCESSORIES | APPLE | AIRPODS PRO</th>\n",
              "      <th>AUDIO ACCESSORIES | APPLE | APPLE AIRPODS MAX</th>\n",
              "      <th>AUDIO ACCESSORIES | APPLE | APPLE AIRPODS MAX NOISE CANCELLING WIRELESS BLUETO</th>\n",
              "      <th>...</th>\n",
              "      <th>WOMEN S NIGHTWEAR | ANYDAY RETAILER | ANYDAY RETAILER LEOPARD PRINT JERSEY PY</th>\n",
              "      <th>WOMEN S NIGHTWEAR | RETAILER | RETAILER CLEO VELOUR JOGGER LOUNGE PANT</th>\n",
              "      <th>WOMEN S NIGHTWEAR | SOSANDAR | SOSANDAR ZEBRA PRINT PYJAMA BOTTOMS BLACK 10</th>\n",
              "      <th>Nb_of_items</th>\n",
              "      <th>total_of_items</th>\n",
              "      <th>costo_total</th>\n",
              "      <th>costo_medio_item</th>\n",
              "      <th>costo_item_max</th>\n",
              "      <th>costo_item_min</th>\n",
              "      <th>fraud_flag</th>\n",
              "    </tr>\n",
              "    <tr>\n",
              "      <th>ID</th>\n",
              "      <th></th>\n",
              "      <th></th>\n",
              "      <th></th>\n",
              "      <th></th>\n",
              "      <th></th>\n",
              "      <th></th>\n",
              "      <th></th>\n",
              "      <th></th>\n",
              "      <th></th>\n",
              "      <th></th>\n",
              "      <th></th>\n",
              "      <th></th>\n",
              "      <th></th>\n",
              "      <th></th>\n",
              "      <th></th>\n",
              "      <th></th>\n",
              "      <th></th>\n",
              "      <th></th>\n",
              "      <th></th>\n",
              "      <th></th>\n",
              "      <th></th>\n",
              "    </tr>\n",
              "  </thead>\n",
              "  <tbody>\n",
              "    <tr>\n",
              "      <th>45</th>\n",
              "      <td>0.0</td>\n",
              "      <td>0.0</td>\n",
              "      <td>0.0</td>\n",
              "      <td>0.0</td>\n",
              "      <td>0.0</td>\n",
              "      <td>0.0</td>\n",
              "      <td>0.0</td>\n",
              "      <td>0.0</td>\n",
              "      <td>0.0</td>\n",
              "      <td>0.0</td>\n",
              "      <td>...</td>\n",
              "      <td>0.0</td>\n",
              "      <td>0.0</td>\n",
              "      <td>0.0</td>\n",
              "      <td>3.0</td>\n",
              "      <td>3.0</td>\n",
              "      <td>1066.0</td>\n",
              "      <td>355.333333</td>\n",
              "      <td>929.0</td>\n",
              "      <td>17.0</td>\n",
              "      <td>0.0</td>\n",
              "    </tr>\n",
              "    <tr>\n",
              "      <th>130</th>\n",
              "      <td>0.0</td>\n",
              "      <td>0.0</td>\n",
              "      <td>0.0</td>\n",
              "      <td>0.0</td>\n",
              "      <td>0.0</td>\n",
              "      <td>0.0</td>\n",
              "      <td>0.0</td>\n",
              "      <td>0.0</td>\n",
              "      <td>0.0</td>\n",
              "      <td>0.0</td>\n",
              "      <td>...</td>\n",
              "      <td>0.0</td>\n",
              "      <td>0.0</td>\n",
              "      <td>0.0</td>\n",
              "      <td>2.0</td>\n",
              "      <td>2.0</td>\n",
              "      <td>1299.0</td>\n",
              "      <td>649.500000</td>\n",
              "      <td>1299.0</td>\n",
              "      <td>0.0</td>\n",
              "      <td>1.0</td>\n",
              "    </tr>\n",
              "    <tr>\n",
              "      <th>132</th>\n",
              "      <td>0.0</td>\n",
              "      <td>0.0</td>\n",
              "      <td>0.0</td>\n",
              "      <td>0.0</td>\n",
              "      <td>0.0</td>\n",
              "      <td>0.0</td>\n",
              "      <td>0.0</td>\n",
              "      <td>0.0</td>\n",
              "      <td>0.0</td>\n",
              "      <td>0.0</td>\n",
              "      <td>...</td>\n",
              "      <td>0.0</td>\n",
              "      <td>0.0</td>\n",
              "      <td>0.0</td>\n",
              "      <td>2.0</td>\n",
              "      <td>2.0</td>\n",
              "      <td>774.0</td>\n",
              "      <td>387.000000</td>\n",
              "      <td>774.0</td>\n",
              "      <td>0.0</td>\n",
              "      <td>0.0</td>\n",
              "    </tr>\n",
              "    <tr>\n",
              "      <th>137</th>\n",
              "      <td>0.0</td>\n",
              "      <td>0.0</td>\n",
              "      <td>0.0</td>\n",
              "      <td>0.0</td>\n",
              "      <td>0.0</td>\n",
              "      <td>0.0</td>\n",
              "      <td>0.0</td>\n",
              "      <td>0.0</td>\n",
              "      <td>0.0</td>\n",
              "      <td>0.0</td>\n",
              "      <td>...</td>\n",
              "      <td>0.0</td>\n",
              "      <td>0.0</td>\n",
              "      <td>0.0</td>\n",
              "      <td>2.0</td>\n",
              "      <td>2.0</td>\n",
              "      <td>786.0</td>\n",
              "      <td>393.000000</td>\n",
              "      <td>779.0</td>\n",
              "      <td>7.0</td>\n",
              "      <td>0.0</td>\n",
              "    </tr>\n",
              "    <tr>\n",
              "      <th>153</th>\n",
              "      <td>0.0</td>\n",
              "      <td>0.0</td>\n",
              "      <td>0.0</td>\n",
              "      <td>0.0</td>\n",
              "      <td>0.0</td>\n",
              "      <td>0.0</td>\n",
              "      <td>0.0</td>\n",
              "      <td>0.0</td>\n",
              "      <td>0.0</td>\n",
              "      <td>0.0</td>\n",
              "      <td>...</td>\n",
              "      <td>0.0</td>\n",
              "      <td>0.0</td>\n",
              "      <td>0.0</td>\n",
              "      <td>2.0</td>\n",
              "      <td>2.0</td>\n",
              "      <td>449.0</td>\n",
              "      <td>224.500000</td>\n",
              "      <td>409.0</td>\n",
              "      <td>40.0</td>\n",
              "      <td>0.0</td>\n",
              "    </tr>\n",
              "  </tbody>\n",
              "</table>\n",
              "<p>5 rows × 2456 columns</p>\n",
              "</div>\n",
              "    <div class=\"colab-df-buttons\">\n",
              "\n",
              "  <div class=\"colab-df-container\">\n",
              "    <button class=\"colab-df-convert\" onclick=\"convertToInteractive('df-8f9d92b1-9cdf-47f5-9c54-550cf0226903')\"\n",
              "            title=\"Convert this dataframe to an interactive table.\"\n",
              "            style=\"display:none;\">\n",
              "\n",
              "  <svg xmlns=\"http://www.w3.org/2000/svg\" height=\"24px\" viewBox=\"0 -960 960 960\">\n",
              "    <path d=\"M120-120v-720h720v720H120Zm60-500h600v-160H180v160Zm220 220h160v-160H400v160Zm0 220h160v-160H400v160ZM180-400h160v-160H180v160Zm440 0h160v-160H620v160ZM180-180h160v-160H180v160Zm440 0h160v-160H620v160Z\"/>\n",
              "  </svg>\n",
              "    </button>\n",
              "\n",
              "  <style>\n",
              "    .colab-df-container {\n",
              "      display:flex;\n",
              "      gap: 12px;\n",
              "    }\n",
              "\n",
              "    .colab-df-convert {\n",
              "      background-color: #E8F0FE;\n",
              "      border: none;\n",
              "      border-radius: 50%;\n",
              "      cursor: pointer;\n",
              "      display: none;\n",
              "      fill: #1967D2;\n",
              "      height: 32px;\n",
              "      padding: 0 0 0 0;\n",
              "      width: 32px;\n",
              "    }\n",
              "\n",
              "    .colab-df-convert:hover {\n",
              "      background-color: #E2EBFA;\n",
              "      box-shadow: 0px 1px 2px rgba(60, 64, 67, 0.3), 0px 1px 3px 1px rgba(60, 64, 67, 0.15);\n",
              "      fill: #174EA6;\n",
              "    }\n",
              "\n",
              "    .colab-df-buttons div {\n",
              "      margin-bottom: 4px;\n",
              "    }\n",
              "\n",
              "    [theme=dark] .colab-df-convert {\n",
              "      background-color: #3B4455;\n",
              "      fill: #D2E3FC;\n",
              "    }\n",
              "\n",
              "    [theme=dark] .colab-df-convert:hover {\n",
              "      background-color: #434B5C;\n",
              "      box-shadow: 0px 1px 3px 1px rgba(0, 0, 0, 0.15);\n",
              "      filter: drop-shadow(0px 1px 2px rgba(0, 0, 0, 0.3));\n",
              "      fill: #FFFFFF;\n",
              "    }\n",
              "  </style>\n",
              "\n",
              "    <script>\n",
              "      const buttonEl =\n",
              "        document.querySelector('#df-8f9d92b1-9cdf-47f5-9c54-550cf0226903 button.colab-df-convert');\n",
              "      buttonEl.style.display =\n",
              "        google.colab.kernel.accessAllowed ? 'block' : 'none';\n",
              "\n",
              "      async function convertToInteractive(key) {\n",
              "        const element = document.querySelector('#df-8f9d92b1-9cdf-47f5-9c54-550cf0226903');\n",
              "        const dataTable =\n",
              "          await google.colab.kernel.invokeFunction('convertToInteractive',\n",
              "                                                    [key], {});\n",
              "        if (!dataTable) return;\n",
              "\n",
              "        const docLinkHtml = 'Like what you see? Visit the ' +\n",
              "          '<a target=\"_blank\" href=https://colab.research.google.com/notebooks/data_table.ipynb>data table notebook</a>'\n",
              "          + ' to learn more about interactive tables.';\n",
              "        element.innerHTML = '';\n",
              "        dataTable['output_type'] = 'display_data';\n",
              "        await google.colab.output.renderOutput(dataTable, element);\n",
              "        const docLink = document.createElement('div');\n",
              "        docLink.innerHTML = docLinkHtml;\n",
              "        element.appendChild(docLink);\n",
              "      }\n",
              "    </script>\n",
              "  </div>\n",
              "\n",
              "\n",
              "<div id=\"df-7e5266f4-5119-4040-9bd3-f2c6b9910433\">\n",
              "  <button class=\"colab-df-quickchart\" onclick=\"quickchart('df-7e5266f4-5119-4040-9bd3-f2c6b9910433')\"\n",
              "            title=\"Suggest charts\"\n",
              "            style=\"display:none;\">\n",
              "\n",
              "<svg xmlns=\"http://www.w3.org/2000/svg\" height=\"24px\"viewBox=\"0 0 24 24\"\n",
              "     width=\"24px\">\n",
              "    <g>\n",
              "        <path d=\"M19 3H5c-1.1 0-2 .9-2 2v14c0 1.1.9 2 2 2h14c1.1 0 2-.9 2-2V5c0-1.1-.9-2-2-2zM9 17H7v-7h2v7zm4 0h-2V7h2v10zm4 0h-2v-4h2v4z\"/>\n",
              "    </g>\n",
              "</svg>\n",
              "  </button>\n",
              "\n",
              "<style>\n",
              "  .colab-df-quickchart {\n",
              "      --bg-color: #E8F0FE;\n",
              "      --fill-color: #1967D2;\n",
              "      --hover-bg-color: #E2EBFA;\n",
              "      --hover-fill-color: #174EA6;\n",
              "      --disabled-fill-color: #AAA;\n",
              "      --disabled-bg-color: #DDD;\n",
              "  }\n",
              "\n",
              "  [theme=dark] .colab-df-quickchart {\n",
              "      --bg-color: #3B4455;\n",
              "      --fill-color: #D2E3FC;\n",
              "      --hover-bg-color: #434B5C;\n",
              "      --hover-fill-color: #FFFFFF;\n",
              "      --disabled-bg-color: #3B4455;\n",
              "      --disabled-fill-color: #666;\n",
              "  }\n",
              "\n",
              "  .colab-df-quickchart {\n",
              "    background-color: var(--bg-color);\n",
              "    border: none;\n",
              "    border-radius: 50%;\n",
              "    cursor: pointer;\n",
              "    display: none;\n",
              "    fill: var(--fill-color);\n",
              "    height: 32px;\n",
              "    padding: 0;\n",
              "    width: 32px;\n",
              "  }\n",
              "\n",
              "  .colab-df-quickchart:hover {\n",
              "    background-color: var(--hover-bg-color);\n",
              "    box-shadow: 0 1px 2px rgba(60, 64, 67, 0.3), 0 1px 3px 1px rgba(60, 64, 67, 0.15);\n",
              "    fill: var(--button-hover-fill-color);\n",
              "  }\n",
              "\n",
              "  .colab-df-quickchart-complete:disabled,\n",
              "  .colab-df-quickchart-complete:disabled:hover {\n",
              "    background-color: var(--disabled-bg-color);\n",
              "    fill: var(--disabled-fill-color);\n",
              "    box-shadow: none;\n",
              "  }\n",
              "\n",
              "  .colab-df-spinner {\n",
              "    border: 2px solid var(--fill-color);\n",
              "    border-color: transparent;\n",
              "    border-bottom-color: var(--fill-color);\n",
              "    animation:\n",
              "      spin 1s steps(1) infinite;\n",
              "  }\n",
              "\n",
              "  @keyframes spin {\n",
              "    0% {\n",
              "      border-color: transparent;\n",
              "      border-bottom-color: var(--fill-color);\n",
              "      border-left-color: var(--fill-color);\n",
              "    }\n",
              "    20% {\n",
              "      border-color: transparent;\n",
              "      border-left-color: var(--fill-color);\n",
              "      border-top-color: var(--fill-color);\n",
              "    }\n",
              "    30% {\n",
              "      border-color: transparent;\n",
              "      border-left-color: var(--fill-color);\n",
              "      border-top-color: var(--fill-color);\n",
              "      border-right-color: var(--fill-color);\n",
              "    }\n",
              "    40% {\n",
              "      border-color: transparent;\n",
              "      border-right-color: var(--fill-color);\n",
              "      border-top-color: var(--fill-color);\n",
              "    }\n",
              "    60% {\n",
              "      border-color: transparent;\n",
              "      border-right-color: var(--fill-color);\n",
              "    }\n",
              "    80% {\n",
              "      border-color: transparent;\n",
              "      border-right-color: var(--fill-color);\n",
              "      border-bottom-color: var(--fill-color);\n",
              "    }\n",
              "    90% {\n",
              "      border-color: transparent;\n",
              "      border-bottom-color: var(--fill-color);\n",
              "    }\n",
              "  }\n",
              "</style>\n",
              "\n",
              "  <script>\n",
              "    async function quickchart(key) {\n",
              "      const quickchartButtonEl =\n",
              "        document.querySelector('#' + key + ' button');\n",
              "      quickchartButtonEl.disabled = true;  // To prevent multiple clicks.\n",
              "      quickchartButtonEl.classList.add('colab-df-spinner');\n",
              "      try {\n",
              "        const charts = await google.colab.kernel.invokeFunction(\n",
              "            'suggestCharts', [key], {});\n",
              "      } catch (error) {\n",
              "        console.error('Error during call to suggestCharts:', error);\n",
              "      }\n",
              "      quickchartButtonEl.classList.remove('colab-df-spinner');\n",
              "      quickchartButtonEl.classList.add('colab-df-quickchart-complete');\n",
              "    }\n",
              "    (() => {\n",
              "      let quickchartButtonEl =\n",
              "        document.querySelector('#df-7e5266f4-5119-4040-9bd3-f2c6b9910433 button');\n",
              "      quickchartButtonEl.style.display =\n",
              "        google.colab.kernel.accessAllowed ? 'block' : 'none';\n",
              "    })();\n",
              "  </script>\n",
              "</div>\n",
              "\n",
              "    </div>\n",
              "  </div>\n"
            ],
            "application/vnd.google.colaboratory.intrinsic+json": {
              "type": "dataframe",
              "variable_name": "df"
            }
          },
          "metadata": {},
          "execution_count": 41
        }
      ],
      "source": [
        "df.head()"
      ]
    },
    {
      "cell_type": "code",
      "execution_count": 42,
      "metadata": {
        "id": "DMR0isgHDcSu",
        "outputId": "67562c00-5e0f-42c4-8c96-617a4343a35f",
        "colab": {
          "base_uri": "https://localhost:8080/",
          "height": 488
        }
      },
      "outputs": [
        {
          "output_type": "execute_result",
          "data": {
            "text/plain": [
              "       APPLE PRODUCTDESCRIPTION | SAMSUNG | MODEL90  \\\n",
              "count                                   6413.000000   \n",
              "mean                                       0.155933   \n",
              "std                                       12.487324   \n",
              "min                                        0.000000   \n",
              "25%                                        0.000000   \n",
              "50%                                        0.000000   \n",
              "75%                                        0.000000   \n",
              "max                                     1000.000000   \n",
              "\n",
              "       AUDIO ACCESSORIES | AB AUDIO | AB AUDIO GO AIR TRUE WIRELESS BLUETOOTH IN-EAR H  \\\n",
              "count                                        6413.000000                                 \n",
              "mean                                            0.003119                                 \n",
              "std                                             0.249746                                 \n",
              "min                                             0.000000                                 \n",
              "25%                                             0.000000                                 \n",
              "50%                                             0.000000                                 \n",
              "75%                                             0.000000                                 \n",
              "max                                            20.000000                                 \n",
              "\n",
              "       AUDIO ACCESSORIES | APPLE | 2019 APPLE AIRPODS WITH CHARGING CASE  \\\n",
              "count                                        6413.000000                   \n",
              "mean                                            0.327616                   \n",
              "std                                             8.347665                   \n",
              "min                                             0.000000                   \n",
              "25%                                             0.000000                   \n",
              "50%                                             0.000000                   \n",
              "75%                                             0.000000                   \n",
              "max                                           500.000000                   \n",
              "\n",
              "       AUDIO ACCESSORIES | APPLE | 2019 APPLE AIRPODS WITH CHARGING CASE 2ND GENERATI  \\\n",
              "count                                        6413.000000                                \n",
              "mean                                            0.201154                                \n",
              "std                                             4.654476                                \n",
              "min                                             0.000000                                \n",
              "25%                                             0.000000                                \n",
              "50%                                             0.000000                                \n",
              "75%                                             0.000000                                \n",
              "max                                           119.000000                                \n",
              "\n",
              "       AUDIO ACCESSORIES | APPLE | 2019 APPLE AIRPODS WITH WIRELESS CHARGING CASE  \\\n",
              "count                                        6413.000000                            \n",
              "mean                                            0.074068                            \n",
              "std                                             3.428119                            \n",
              "min                                             0.000000                            \n",
              "25%                                             0.000000                            \n",
              "50%                                             0.000000                            \n",
              "75%                                             0.000000                            \n",
              "max                                           168.000000                            \n",
              "\n",
              "       AUDIO ACCESSORIES | APPLE | 2019 APPLE AIRPODS WITH WIRELESS CHARGING CASE 2ND  \\\n",
              "count                                        6413.000000                                \n",
              "mean                                            0.021675                                \n",
              "std                                             1.735738                                \n",
              "min                                             0.000000                                \n",
              "25%                                             0.000000                                \n",
              "50%                                             0.000000                                \n",
              "75%                                             0.000000                                \n",
              "max                                           139.000000                                \n",
              "\n",
              "       AUDIO ACCESSORIES | APPLE | 2021 APPLE AIRPODS WITH MAGSAFE CHARGING CASE 3RD  \\\n",
              "count                                        6413.000000                               \n",
              "mean                                            0.373928                               \n",
              "std                                             7.729049                               \n",
              "min                                             0.000000                               \n",
              "25%                                             0.000000                               \n",
              "50%                                             0.000000                               \n",
              "75%                                             0.000000                               \n",
              "max                                           169.000000                               \n",
              "\n",
              "       AUDIO ACCESSORIES | APPLE | AIRPODS PRO  \\\n",
              "count                              6413.000000   \n",
              "mean                                  0.273663   \n",
              "std                                   7.300526   \n",
              "min                                   0.000000   \n",
              "25%                                   0.000000   \n",
              "50%                                   0.000000   \n",
              "75%                                   0.000000   \n",
              "max                                 195.000000   \n",
              "\n",
              "       AUDIO ACCESSORIES | APPLE | APPLE AIRPODS MAX  \\\n",
              "count                                    6413.000000   \n",
              "mean                                        0.513644   \n",
              "std                                        16.786028   \n",
              "min                                         0.000000   \n",
              "25%                                         0.000000   \n",
              "50%                                         0.000000   \n",
              "75%                                         0.000000   \n",
              "max                                       549.000000   \n",
              "\n",
              "       AUDIO ACCESSORIES | APPLE | APPLE AIRPODS MAX NOISE CANCELLING WIRELESS BLUETO  \\\n",
              "count                                        6413.000000                                \n",
              "mean                                            2.044909                                \n",
              "std                                            32.133361                                \n",
              "min                                             0.000000                                \n",
              "25%                                             0.000000                                \n",
              "50%                                             0.000000                                \n",
              "75%                                             0.000000                                \n",
              "max                                           549.000000                                \n",
              "\n",
              "       ...  \\\n",
              "count  ...   \n",
              "mean   ...   \n",
              "std    ...   \n",
              "min    ...   \n",
              "25%    ...   \n",
              "50%    ...   \n",
              "75%    ...   \n",
              "max    ...   \n",
              "\n",
              "       WOMEN S NIGHTWEAR | ANYDAY RETAILER | ANYDAY RETAILER LEOPARD PRINT JERSEY PY  \\\n",
              "count                                        6412.000000                               \n",
              "mean                                            0.004367                               \n",
              "std                                             0.349672                               \n",
              "min                                             0.000000                               \n",
              "25%                                             0.000000                               \n",
              "50%                                             0.000000                               \n",
              "75%                                             0.000000                               \n",
              "max                                            28.000000                               \n",
              "\n",
              "       WOMEN S NIGHTWEAR | RETAILER | RETAILER CLEO VELOUR JOGGER LOUNGE PANT  \\\n",
              "count                                        6412.000000                        \n",
              "mean                                            0.002807                        \n",
              "std                                             0.224789                        \n",
              "min                                             0.000000                        \n",
              "25%                                             0.000000                        \n",
              "50%                                             0.000000                        \n",
              "75%                                             0.000000                        \n",
              "max                                            18.000000                        \n",
              "\n",
              "       WOMEN S NIGHTWEAR | SOSANDAR | SOSANDAR ZEBRA PRINT PYJAMA BOTTOMS BLACK 10  \\\n",
              "count                                        6412.000000                             \n",
              "mean                                            0.004055                             \n",
              "std                                             0.324696                             \n",
              "min                                             0.000000                             \n",
              "25%                                             0.000000                             \n",
              "50%                                             0.000000                             \n",
              "75%                                             0.000000                             \n",
              "max                                            26.000000                             \n",
              "\n",
              "       Nb_of_items  total_of_items   costo_total  costo_medio_item  \\\n",
              "count  6412.000000     6412.000000   6412.000000       6412.000000   \n",
              "mean      1.767779        1.851528   1364.630536        912.726068   \n",
              "std       1.430075        1.801084   1101.331260        740.841658   \n",
              "min       1.000000        1.000000    219.000000         41.838710   \n",
              "25%       1.000000        1.000000    856.000000        449.000000   \n",
              "50%       1.000000        1.000000   1149.000000        749.000000   \n",
              "75%       2.000000        2.000000   1660.500000       1170.500000   \n",
              "max      38.000000       40.000000  24551.000000      19999.000000   \n",
              "\n",
              "       costo_item_max  costo_item_min   fraud_flag  \n",
              "count     6412.000000     6412.000000  6412.000000  \n",
              "mean      1205.254367      656.568153     0.184186  \n",
              "std        794.282679      851.325464     0.387666  \n",
              "min        130.000000        0.000000     0.000000  \n",
              "25%        749.000000        7.000000     0.000000  \n",
              "50%       1099.000000      389.000000     0.000000  \n",
              "75%       1495.000000     1099.000000     0.000000  \n",
              "max      19999.000000    19999.000000     1.000000  \n",
              "\n",
              "[8 rows x 2456 columns]"
            ],
            "text/html": [
              "\n",
              "  <div id=\"df-38720581-20dc-4398-9080-d440855e7cb0\" class=\"colab-df-container\">\n",
              "    <div>\n",
              "<style scoped>\n",
              "    .dataframe tbody tr th:only-of-type {\n",
              "        vertical-align: middle;\n",
              "    }\n",
              "\n",
              "    .dataframe tbody tr th {\n",
              "        vertical-align: top;\n",
              "    }\n",
              "\n",
              "    .dataframe thead th {\n",
              "        text-align: right;\n",
              "    }\n",
              "</style>\n",
              "<table border=\"1\" class=\"dataframe\">\n",
              "  <thead>\n",
              "    <tr style=\"text-align: right;\">\n",
              "      <th></th>\n",
              "      <th>APPLE PRODUCTDESCRIPTION | SAMSUNG | MODEL90</th>\n",
              "      <th>AUDIO ACCESSORIES | AB AUDIO | AB AUDIO GO AIR TRUE WIRELESS BLUETOOTH IN-EAR H</th>\n",
              "      <th>AUDIO ACCESSORIES | APPLE | 2019 APPLE AIRPODS WITH CHARGING CASE</th>\n",
              "      <th>AUDIO ACCESSORIES | APPLE | 2019 APPLE AIRPODS WITH CHARGING CASE 2ND GENERATI</th>\n",
              "      <th>AUDIO ACCESSORIES | APPLE | 2019 APPLE AIRPODS WITH WIRELESS CHARGING CASE</th>\n",
              "      <th>AUDIO ACCESSORIES | APPLE | 2019 APPLE AIRPODS WITH WIRELESS CHARGING CASE 2ND</th>\n",
              "      <th>AUDIO ACCESSORIES | APPLE | 2021 APPLE AIRPODS WITH MAGSAFE CHARGING CASE 3RD</th>\n",
              "      <th>AUDIO ACCESSORIES | APPLE | AIRPODS PRO</th>\n",
              "      <th>AUDIO ACCESSORIES | APPLE | APPLE AIRPODS MAX</th>\n",
              "      <th>AUDIO ACCESSORIES | APPLE | APPLE AIRPODS MAX NOISE CANCELLING WIRELESS BLUETO</th>\n",
              "      <th>...</th>\n",
              "      <th>WOMEN S NIGHTWEAR | ANYDAY RETAILER | ANYDAY RETAILER LEOPARD PRINT JERSEY PY</th>\n",
              "      <th>WOMEN S NIGHTWEAR | RETAILER | RETAILER CLEO VELOUR JOGGER LOUNGE PANT</th>\n",
              "      <th>WOMEN S NIGHTWEAR | SOSANDAR | SOSANDAR ZEBRA PRINT PYJAMA BOTTOMS BLACK 10</th>\n",
              "      <th>Nb_of_items</th>\n",
              "      <th>total_of_items</th>\n",
              "      <th>costo_total</th>\n",
              "      <th>costo_medio_item</th>\n",
              "      <th>costo_item_max</th>\n",
              "      <th>costo_item_min</th>\n",
              "      <th>fraud_flag</th>\n",
              "    </tr>\n",
              "  </thead>\n",
              "  <tbody>\n",
              "    <tr>\n",
              "      <th>count</th>\n",
              "      <td>6413.000000</td>\n",
              "      <td>6413.000000</td>\n",
              "      <td>6413.000000</td>\n",
              "      <td>6413.000000</td>\n",
              "      <td>6413.000000</td>\n",
              "      <td>6413.000000</td>\n",
              "      <td>6413.000000</td>\n",
              "      <td>6413.000000</td>\n",
              "      <td>6413.000000</td>\n",
              "      <td>6413.000000</td>\n",
              "      <td>...</td>\n",
              "      <td>6412.000000</td>\n",
              "      <td>6412.000000</td>\n",
              "      <td>6412.000000</td>\n",
              "      <td>6412.000000</td>\n",
              "      <td>6412.000000</td>\n",
              "      <td>6412.000000</td>\n",
              "      <td>6412.000000</td>\n",
              "      <td>6412.000000</td>\n",
              "      <td>6412.000000</td>\n",
              "      <td>6412.000000</td>\n",
              "    </tr>\n",
              "    <tr>\n",
              "      <th>mean</th>\n",
              "      <td>0.155933</td>\n",
              "      <td>0.003119</td>\n",
              "      <td>0.327616</td>\n",
              "      <td>0.201154</td>\n",
              "      <td>0.074068</td>\n",
              "      <td>0.021675</td>\n",
              "      <td>0.373928</td>\n",
              "      <td>0.273663</td>\n",
              "      <td>0.513644</td>\n",
              "      <td>2.044909</td>\n",
              "      <td>...</td>\n",
              "      <td>0.004367</td>\n",
              "      <td>0.002807</td>\n",
              "      <td>0.004055</td>\n",
              "      <td>1.767779</td>\n",
              "      <td>1.851528</td>\n",
              "      <td>1364.630536</td>\n",
              "      <td>912.726068</td>\n",
              "      <td>1205.254367</td>\n",
              "      <td>656.568153</td>\n",
              "      <td>0.184186</td>\n",
              "    </tr>\n",
              "    <tr>\n",
              "      <th>std</th>\n",
              "      <td>12.487324</td>\n",
              "      <td>0.249746</td>\n",
              "      <td>8.347665</td>\n",
              "      <td>4.654476</td>\n",
              "      <td>3.428119</td>\n",
              "      <td>1.735738</td>\n",
              "      <td>7.729049</td>\n",
              "      <td>7.300526</td>\n",
              "      <td>16.786028</td>\n",
              "      <td>32.133361</td>\n",
              "      <td>...</td>\n",
              "      <td>0.349672</td>\n",
              "      <td>0.224789</td>\n",
              "      <td>0.324696</td>\n",
              "      <td>1.430075</td>\n",
              "      <td>1.801084</td>\n",
              "      <td>1101.331260</td>\n",
              "      <td>740.841658</td>\n",
              "      <td>794.282679</td>\n",
              "      <td>851.325464</td>\n",
              "      <td>0.387666</td>\n",
              "    </tr>\n",
              "    <tr>\n",
              "      <th>min</th>\n",
              "      <td>0.000000</td>\n",
              "      <td>0.000000</td>\n",
              "      <td>0.000000</td>\n",
              "      <td>0.000000</td>\n",
              "      <td>0.000000</td>\n",
              "      <td>0.000000</td>\n",
              "      <td>0.000000</td>\n",
              "      <td>0.000000</td>\n",
              "      <td>0.000000</td>\n",
              "      <td>0.000000</td>\n",
              "      <td>...</td>\n",
              "      <td>0.000000</td>\n",
              "      <td>0.000000</td>\n",
              "      <td>0.000000</td>\n",
              "      <td>1.000000</td>\n",
              "      <td>1.000000</td>\n",
              "      <td>219.000000</td>\n",
              "      <td>41.838710</td>\n",
              "      <td>130.000000</td>\n",
              "      <td>0.000000</td>\n",
              "      <td>0.000000</td>\n",
              "    </tr>\n",
              "    <tr>\n",
              "      <th>25%</th>\n",
              "      <td>0.000000</td>\n",
              "      <td>0.000000</td>\n",
              "      <td>0.000000</td>\n",
              "      <td>0.000000</td>\n",
              "      <td>0.000000</td>\n",
              "      <td>0.000000</td>\n",
              "      <td>0.000000</td>\n",
              "      <td>0.000000</td>\n",
              "      <td>0.000000</td>\n",
              "      <td>0.000000</td>\n",
              "      <td>...</td>\n",
              "      <td>0.000000</td>\n",
              "      <td>0.000000</td>\n",
              "      <td>0.000000</td>\n",
              "      <td>1.000000</td>\n",
              "      <td>1.000000</td>\n",
              "      <td>856.000000</td>\n",
              "      <td>449.000000</td>\n",
              "      <td>749.000000</td>\n",
              "      <td>7.000000</td>\n",
              "      <td>0.000000</td>\n",
              "    </tr>\n",
              "    <tr>\n",
              "      <th>50%</th>\n",
              "      <td>0.000000</td>\n",
              "      <td>0.000000</td>\n",
              "      <td>0.000000</td>\n",
              "      <td>0.000000</td>\n",
              "      <td>0.000000</td>\n",
              "      <td>0.000000</td>\n",
              "      <td>0.000000</td>\n",
              "      <td>0.000000</td>\n",
              "      <td>0.000000</td>\n",
              "      <td>0.000000</td>\n",
              "      <td>...</td>\n",
              "      <td>0.000000</td>\n",
              "      <td>0.000000</td>\n",
              "      <td>0.000000</td>\n",
              "      <td>1.000000</td>\n",
              "      <td>1.000000</td>\n",
              "      <td>1149.000000</td>\n",
              "      <td>749.000000</td>\n",
              "      <td>1099.000000</td>\n",
              "      <td>389.000000</td>\n",
              "      <td>0.000000</td>\n",
              "    </tr>\n",
              "    <tr>\n",
              "      <th>75%</th>\n",
              "      <td>0.000000</td>\n",
              "      <td>0.000000</td>\n",
              "      <td>0.000000</td>\n",
              "      <td>0.000000</td>\n",
              "      <td>0.000000</td>\n",
              "      <td>0.000000</td>\n",
              "      <td>0.000000</td>\n",
              "      <td>0.000000</td>\n",
              "      <td>0.000000</td>\n",
              "      <td>0.000000</td>\n",
              "      <td>...</td>\n",
              "      <td>0.000000</td>\n",
              "      <td>0.000000</td>\n",
              "      <td>0.000000</td>\n",
              "      <td>2.000000</td>\n",
              "      <td>2.000000</td>\n",
              "      <td>1660.500000</td>\n",
              "      <td>1170.500000</td>\n",
              "      <td>1495.000000</td>\n",
              "      <td>1099.000000</td>\n",
              "      <td>0.000000</td>\n",
              "    </tr>\n",
              "    <tr>\n",
              "      <th>max</th>\n",
              "      <td>1000.000000</td>\n",
              "      <td>20.000000</td>\n",
              "      <td>500.000000</td>\n",
              "      <td>119.000000</td>\n",
              "      <td>168.000000</td>\n",
              "      <td>139.000000</td>\n",
              "      <td>169.000000</td>\n",
              "      <td>195.000000</td>\n",
              "      <td>549.000000</td>\n",
              "      <td>549.000000</td>\n",
              "      <td>...</td>\n",
              "      <td>28.000000</td>\n",
              "      <td>18.000000</td>\n",
              "      <td>26.000000</td>\n",
              "      <td>38.000000</td>\n",
              "      <td>40.000000</td>\n",
              "      <td>24551.000000</td>\n",
              "      <td>19999.000000</td>\n",
              "      <td>19999.000000</td>\n",
              "      <td>19999.000000</td>\n",
              "      <td>1.000000</td>\n",
              "    </tr>\n",
              "  </tbody>\n",
              "</table>\n",
              "<p>8 rows × 2456 columns</p>\n",
              "</div>\n",
              "    <div class=\"colab-df-buttons\">\n",
              "\n",
              "  <div class=\"colab-df-container\">\n",
              "    <button class=\"colab-df-convert\" onclick=\"convertToInteractive('df-38720581-20dc-4398-9080-d440855e7cb0')\"\n",
              "            title=\"Convert this dataframe to an interactive table.\"\n",
              "            style=\"display:none;\">\n",
              "\n",
              "  <svg xmlns=\"http://www.w3.org/2000/svg\" height=\"24px\" viewBox=\"0 -960 960 960\">\n",
              "    <path d=\"M120-120v-720h720v720H120Zm60-500h600v-160H180v160Zm220 220h160v-160H400v160Zm0 220h160v-160H400v160ZM180-400h160v-160H180v160Zm440 0h160v-160H620v160ZM180-180h160v-160H180v160Zm440 0h160v-160H620v160Z\"/>\n",
              "  </svg>\n",
              "    </button>\n",
              "\n",
              "  <style>\n",
              "    .colab-df-container {\n",
              "      display:flex;\n",
              "      gap: 12px;\n",
              "    }\n",
              "\n",
              "    .colab-df-convert {\n",
              "      background-color: #E8F0FE;\n",
              "      border: none;\n",
              "      border-radius: 50%;\n",
              "      cursor: pointer;\n",
              "      display: none;\n",
              "      fill: #1967D2;\n",
              "      height: 32px;\n",
              "      padding: 0 0 0 0;\n",
              "      width: 32px;\n",
              "    }\n",
              "\n",
              "    .colab-df-convert:hover {\n",
              "      background-color: #E2EBFA;\n",
              "      box-shadow: 0px 1px 2px rgba(60, 64, 67, 0.3), 0px 1px 3px 1px rgba(60, 64, 67, 0.15);\n",
              "      fill: #174EA6;\n",
              "    }\n",
              "\n",
              "    .colab-df-buttons div {\n",
              "      margin-bottom: 4px;\n",
              "    }\n",
              "\n",
              "    [theme=dark] .colab-df-convert {\n",
              "      background-color: #3B4455;\n",
              "      fill: #D2E3FC;\n",
              "    }\n",
              "\n",
              "    [theme=dark] .colab-df-convert:hover {\n",
              "      background-color: #434B5C;\n",
              "      box-shadow: 0px 1px 3px 1px rgba(0, 0, 0, 0.15);\n",
              "      filter: drop-shadow(0px 1px 2px rgba(0, 0, 0, 0.3));\n",
              "      fill: #FFFFFF;\n",
              "    }\n",
              "  </style>\n",
              "\n",
              "    <script>\n",
              "      const buttonEl =\n",
              "        document.querySelector('#df-38720581-20dc-4398-9080-d440855e7cb0 button.colab-df-convert');\n",
              "      buttonEl.style.display =\n",
              "        google.colab.kernel.accessAllowed ? 'block' : 'none';\n",
              "\n",
              "      async function convertToInteractive(key) {\n",
              "        const element = document.querySelector('#df-38720581-20dc-4398-9080-d440855e7cb0');\n",
              "        const dataTable =\n",
              "          await google.colab.kernel.invokeFunction('convertToInteractive',\n",
              "                                                    [key], {});\n",
              "        if (!dataTable) return;\n",
              "\n",
              "        const docLinkHtml = 'Like what you see? Visit the ' +\n",
              "          '<a target=\"_blank\" href=https://colab.research.google.com/notebooks/data_table.ipynb>data table notebook</a>'\n",
              "          + ' to learn more about interactive tables.';\n",
              "        element.innerHTML = '';\n",
              "        dataTable['output_type'] = 'display_data';\n",
              "        await google.colab.output.renderOutput(dataTable, element);\n",
              "        const docLink = document.createElement('div');\n",
              "        docLink.innerHTML = docLinkHtml;\n",
              "        element.appendChild(docLink);\n",
              "      }\n",
              "    </script>\n",
              "  </div>\n",
              "\n",
              "\n",
              "<div id=\"df-677c93b0-5342-4ce7-9323-d9eae1b55cbf\">\n",
              "  <button class=\"colab-df-quickchart\" onclick=\"quickchart('df-677c93b0-5342-4ce7-9323-d9eae1b55cbf')\"\n",
              "            title=\"Suggest charts\"\n",
              "            style=\"display:none;\">\n",
              "\n",
              "<svg xmlns=\"http://www.w3.org/2000/svg\" height=\"24px\"viewBox=\"0 0 24 24\"\n",
              "     width=\"24px\">\n",
              "    <g>\n",
              "        <path d=\"M19 3H5c-1.1 0-2 .9-2 2v14c0 1.1.9 2 2 2h14c1.1 0 2-.9 2-2V5c0-1.1-.9-2-2-2zM9 17H7v-7h2v7zm4 0h-2V7h2v10zm4 0h-2v-4h2v4z\"/>\n",
              "    </g>\n",
              "</svg>\n",
              "  </button>\n",
              "\n",
              "<style>\n",
              "  .colab-df-quickchart {\n",
              "      --bg-color: #E8F0FE;\n",
              "      --fill-color: #1967D2;\n",
              "      --hover-bg-color: #E2EBFA;\n",
              "      --hover-fill-color: #174EA6;\n",
              "      --disabled-fill-color: #AAA;\n",
              "      --disabled-bg-color: #DDD;\n",
              "  }\n",
              "\n",
              "  [theme=dark] .colab-df-quickchart {\n",
              "      --bg-color: #3B4455;\n",
              "      --fill-color: #D2E3FC;\n",
              "      --hover-bg-color: #434B5C;\n",
              "      --hover-fill-color: #FFFFFF;\n",
              "      --disabled-bg-color: #3B4455;\n",
              "      --disabled-fill-color: #666;\n",
              "  }\n",
              "\n",
              "  .colab-df-quickchart {\n",
              "    background-color: var(--bg-color);\n",
              "    border: none;\n",
              "    border-radius: 50%;\n",
              "    cursor: pointer;\n",
              "    display: none;\n",
              "    fill: var(--fill-color);\n",
              "    height: 32px;\n",
              "    padding: 0;\n",
              "    width: 32px;\n",
              "  }\n",
              "\n",
              "  .colab-df-quickchart:hover {\n",
              "    background-color: var(--hover-bg-color);\n",
              "    box-shadow: 0 1px 2px rgba(60, 64, 67, 0.3), 0 1px 3px 1px rgba(60, 64, 67, 0.15);\n",
              "    fill: var(--button-hover-fill-color);\n",
              "  }\n",
              "\n",
              "  .colab-df-quickchart-complete:disabled,\n",
              "  .colab-df-quickchart-complete:disabled:hover {\n",
              "    background-color: var(--disabled-bg-color);\n",
              "    fill: var(--disabled-fill-color);\n",
              "    box-shadow: none;\n",
              "  }\n",
              "\n",
              "  .colab-df-spinner {\n",
              "    border: 2px solid var(--fill-color);\n",
              "    border-color: transparent;\n",
              "    border-bottom-color: var(--fill-color);\n",
              "    animation:\n",
              "      spin 1s steps(1) infinite;\n",
              "  }\n",
              "\n",
              "  @keyframes spin {\n",
              "    0% {\n",
              "      border-color: transparent;\n",
              "      border-bottom-color: var(--fill-color);\n",
              "      border-left-color: var(--fill-color);\n",
              "    }\n",
              "    20% {\n",
              "      border-color: transparent;\n",
              "      border-left-color: var(--fill-color);\n",
              "      border-top-color: var(--fill-color);\n",
              "    }\n",
              "    30% {\n",
              "      border-color: transparent;\n",
              "      border-left-color: var(--fill-color);\n",
              "      border-top-color: var(--fill-color);\n",
              "      border-right-color: var(--fill-color);\n",
              "    }\n",
              "    40% {\n",
              "      border-color: transparent;\n",
              "      border-right-color: var(--fill-color);\n",
              "      border-top-color: var(--fill-color);\n",
              "    }\n",
              "    60% {\n",
              "      border-color: transparent;\n",
              "      border-right-color: var(--fill-color);\n",
              "    }\n",
              "    80% {\n",
              "      border-color: transparent;\n",
              "      border-right-color: var(--fill-color);\n",
              "      border-bottom-color: var(--fill-color);\n",
              "    }\n",
              "    90% {\n",
              "      border-color: transparent;\n",
              "      border-bottom-color: var(--fill-color);\n",
              "    }\n",
              "  }\n",
              "</style>\n",
              "\n",
              "  <script>\n",
              "    async function quickchart(key) {\n",
              "      const quickchartButtonEl =\n",
              "        document.querySelector('#' + key + ' button');\n",
              "      quickchartButtonEl.disabled = true;  // To prevent multiple clicks.\n",
              "      quickchartButtonEl.classList.add('colab-df-spinner');\n",
              "      try {\n",
              "        const charts = await google.colab.kernel.invokeFunction(\n",
              "            'suggestCharts', [key], {});\n",
              "      } catch (error) {\n",
              "        console.error('Error during call to suggestCharts:', error);\n",
              "      }\n",
              "      quickchartButtonEl.classList.remove('colab-df-spinner');\n",
              "      quickchartButtonEl.classList.add('colab-df-quickchart-complete');\n",
              "    }\n",
              "    (() => {\n",
              "      let quickchartButtonEl =\n",
              "        document.querySelector('#df-677c93b0-5342-4ce7-9323-d9eae1b55cbf button');\n",
              "      quickchartButtonEl.style.display =\n",
              "        google.colab.kernel.accessAllowed ? 'block' : 'none';\n",
              "    })();\n",
              "  </script>\n",
              "</div>\n",
              "\n",
              "    </div>\n",
              "  </div>\n"
            ],
            "application/vnd.google.colaboratory.intrinsic+json": {
              "type": "dataframe"
            }
          },
          "metadata": {},
          "execution_count": 42
        }
      ],
      "source": [
        "#Analisis estadístico descriptivo de las variables númericas\n",
        "df.describe()"
      ]
    },
    {
      "cell_type": "code",
      "execution_count": 47,
      "metadata": {
        "id": "sOFbG2DLDcSu",
        "outputId": "d9ece4ae-154e-46f7-b060-545bde624d23",
        "colab": {
          "base_uri": "https://localhost:8080/"
        }
      },
      "outputs": [
        {
          "output_type": "stream",
          "name": "stdout",
          "text": [
            "Los valores nulos son 2361\n"
          ]
        }
      ],
      "source": [
        "#Buscamos la presencia de valores nulos\n",
        "print(f'Los valores nulos son {sum(df.isnull().sum())}')"
      ]
    },
    {
      "cell_type": "code",
      "source": [
        "filas_con_nulos = df[df.isnull().any(axis=1)]\n",
        "filas_con_nulos"
      ],
      "metadata": {
        "colab": {
          "base_uri": "https://localhost:8080/",
          "height": 335
        },
        "id": "qiMX7p6lOlPa",
        "outputId": "fc224bdd-252b-4992-c00c-c2e095c5ffeb"
      },
      "execution_count": 48,
      "outputs": [
        {
          "output_type": "execute_result",
          "data": {
            "text/plain": [
              "       APPLE PRODUCTDESCRIPTION | SAMSUNG | MODEL90  \\\n",
              "ID                                                    \n",
              "79389                                           0.0   \n",
              "\n",
              "       AUDIO ACCESSORIES | AB AUDIO | AB AUDIO GO AIR TRUE WIRELESS BLUETOOTH IN-EAR H  \\\n",
              "ID                                                                                       \n",
              "79389                                                0.0                                 \n",
              "\n",
              "       AUDIO ACCESSORIES | APPLE | 2019 APPLE AIRPODS WITH CHARGING CASE  \\\n",
              "ID                                                                         \n",
              "79389                                                0.0                   \n",
              "\n",
              "       AUDIO ACCESSORIES | APPLE | 2019 APPLE AIRPODS WITH CHARGING CASE 2ND GENERATI  \\\n",
              "ID                                                                                      \n",
              "79389                                                0.0                                \n",
              "\n",
              "       AUDIO ACCESSORIES | APPLE | 2019 APPLE AIRPODS WITH WIRELESS CHARGING CASE  \\\n",
              "ID                                                                                  \n",
              "79389                                                0.0                            \n",
              "\n",
              "       AUDIO ACCESSORIES | APPLE | 2019 APPLE AIRPODS WITH WIRELESS CHARGING CASE 2ND  \\\n",
              "ID                                                                                      \n",
              "79389                                                0.0                                \n",
              "\n",
              "       AUDIO ACCESSORIES | APPLE | 2021 APPLE AIRPODS WITH MAGSAFE CHARGING CASE 3RD  \\\n",
              "ID                                                                                     \n",
              "79389                                                0.0                               \n",
              "\n",
              "       AUDIO ACCESSORIES | APPLE | AIRPODS PRO  \\\n",
              "ID                                               \n",
              "79389                                      0.0   \n",
              "\n",
              "       AUDIO ACCESSORIES | APPLE | APPLE AIRPODS MAX  \\\n",
              "ID                                                     \n",
              "79389                                            0.0   \n",
              "\n",
              "       AUDIO ACCESSORIES | APPLE | APPLE AIRPODS MAX NOISE CANCELLING WIRELESS BLUETO  \\\n",
              "ID                                                                                      \n",
              "79389                                                0.0                                \n",
              "\n",
              "       ...  \\\n",
              "ID     ...   \n",
              "79389  ...   \n",
              "\n",
              "       WOMEN S NIGHTWEAR | ANYDAY RETAILER | ANYDAY RETAILER LEOPARD PRINT JERSEY PY  \\\n",
              "ID                                                                                     \n",
              "79389                                                NaN                               \n",
              "\n",
              "       WOMEN S NIGHTWEAR | RETAILER | RETAILER CLEO VELOUR JOGGER LOUNGE PANT  \\\n",
              "ID                                                                              \n",
              "79389                                                NaN                        \n",
              "\n",
              "       WOMEN S NIGHTWEAR | SOSANDAR | SOSANDAR ZEBRA PRINT PYJAMA BOTTOMS BLACK 10  \\\n",
              "ID                                                                                   \n",
              "79389                                                NaN                             \n",
              "\n",
              "       Nb_of_items  total_of_items  costo_total  costo_medio_item  \\\n",
              "ID                                                                  \n",
              "79389          NaN             NaN          NaN               NaN   \n",
              "\n",
              "       costo_item_max  costo_item_min  fraud_flag  \n",
              "ID                                                 \n",
              "79389             NaN             NaN         NaN  \n",
              "\n",
              "[1 rows x 2456 columns]"
            ],
            "text/html": [
              "\n",
              "  <div id=\"df-bbc2f2ba-7c4a-421c-b962-058afcdc4086\" class=\"colab-df-container\">\n",
              "    <div>\n",
              "<style scoped>\n",
              "    .dataframe tbody tr th:only-of-type {\n",
              "        vertical-align: middle;\n",
              "    }\n",
              "\n",
              "    .dataframe tbody tr th {\n",
              "        vertical-align: top;\n",
              "    }\n",
              "\n",
              "    .dataframe thead th {\n",
              "        text-align: right;\n",
              "    }\n",
              "</style>\n",
              "<table border=\"1\" class=\"dataframe\">\n",
              "  <thead>\n",
              "    <tr style=\"text-align: right;\">\n",
              "      <th></th>\n",
              "      <th>APPLE PRODUCTDESCRIPTION | SAMSUNG | MODEL90</th>\n",
              "      <th>AUDIO ACCESSORIES | AB AUDIO | AB AUDIO GO AIR TRUE WIRELESS BLUETOOTH IN-EAR H</th>\n",
              "      <th>AUDIO ACCESSORIES | APPLE | 2019 APPLE AIRPODS WITH CHARGING CASE</th>\n",
              "      <th>AUDIO ACCESSORIES | APPLE | 2019 APPLE AIRPODS WITH CHARGING CASE 2ND GENERATI</th>\n",
              "      <th>AUDIO ACCESSORIES | APPLE | 2019 APPLE AIRPODS WITH WIRELESS CHARGING CASE</th>\n",
              "      <th>AUDIO ACCESSORIES | APPLE | 2019 APPLE AIRPODS WITH WIRELESS CHARGING CASE 2ND</th>\n",
              "      <th>AUDIO ACCESSORIES | APPLE | 2021 APPLE AIRPODS WITH MAGSAFE CHARGING CASE 3RD</th>\n",
              "      <th>AUDIO ACCESSORIES | APPLE | AIRPODS PRO</th>\n",
              "      <th>AUDIO ACCESSORIES | APPLE | APPLE AIRPODS MAX</th>\n",
              "      <th>AUDIO ACCESSORIES | APPLE | APPLE AIRPODS MAX NOISE CANCELLING WIRELESS BLUETO</th>\n",
              "      <th>...</th>\n",
              "      <th>WOMEN S NIGHTWEAR | ANYDAY RETAILER | ANYDAY RETAILER LEOPARD PRINT JERSEY PY</th>\n",
              "      <th>WOMEN S NIGHTWEAR | RETAILER | RETAILER CLEO VELOUR JOGGER LOUNGE PANT</th>\n",
              "      <th>WOMEN S NIGHTWEAR | SOSANDAR | SOSANDAR ZEBRA PRINT PYJAMA BOTTOMS BLACK 10</th>\n",
              "      <th>Nb_of_items</th>\n",
              "      <th>total_of_items</th>\n",
              "      <th>costo_total</th>\n",
              "      <th>costo_medio_item</th>\n",
              "      <th>costo_item_max</th>\n",
              "      <th>costo_item_min</th>\n",
              "      <th>fraud_flag</th>\n",
              "    </tr>\n",
              "    <tr>\n",
              "      <th>ID</th>\n",
              "      <th></th>\n",
              "      <th></th>\n",
              "      <th></th>\n",
              "      <th></th>\n",
              "      <th></th>\n",
              "      <th></th>\n",
              "      <th></th>\n",
              "      <th></th>\n",
              "      <th></th>\n",
              "      <th></th>\n",
              "      <th></th>\n",
              "      <th></th>\n",
              "      <th></th>\n",
              "      <th></th>\n",
              "      <th></th>\n",
              "      <th></th>\n",
              "      <th></th>\n",
              "      <th></th>\n",
              "      <th></th>\n",
              "      <th></th>\n",
              "      <th></th>\n",
              "    </tr>\n",
              "  </thead>\n",
              "  <tbody>\n",
              "    <tr>\n",
              "      <th>79389</th>\n",
              "      <td>0.0</td>\n",
              "      <td>0.0</td>\n",
              "      <td>0.0</td>\n",
              "      <td>0.0</td>\n",
              "      <td>0.0</td>\n",
              "      <td>0.0</td>\n",
              "      <td>0.0</td>\n",
              "      <td>0.0</td>\n",
              "      <td>0.0</td>\n",
              "      <td>0.0</td>\n",
              "      <td>...</td>\n",
              "      <td>NaN</td>\n",
              "      <td>NaN</td>\n",
              "      <td>NaN</td>\n",
              "      <td>NaN</td>\n",
              "      <td>NaN</td>\n",
              "      <td>NaN</td>\n",
              "      <td>NaN</td>\n",
              "      <td>NaN</td>\n",
              "      <td>NaN</td>\n",
              "      <td>NaN</td>\n",
              "    </tr>\n",
              "  </tbody>\n",
              "</table>\n",
              "<p>1 rows × 2456 columns</p>\n",
              "</div>\n",
              "    <div class=\"colab-df-buttons\">\n",
              "\n",
              "  <div class=\"colab-df-container\">\n",
              "    <button class=\"colab-df-convert\" onclick=\"convertToInteractive('df-bbc2f2ba-7c4a-421c-b962-058afcdc4086')\"\n",
              "            title=\"Convert this dataframe to an interactive table.\"\n",
              "            style=\"display:none;\">\n",
              "\n",
              "  <svg xmlns=\"http://www.w3.org/2000/svg\" height=\"24px\" viewBox=\"0 -960 960 960\">\n",
              "    <path d=\"M120-120v-720h720v720H120Zm60-500h600v-160H180v160Zm220 220h160v-160H400v160Zm0 220h160v-160H400v160ZM180-400h160v-160H180v160Zm440 0h160v-160H620v160ZM180-180h160v-160H180v160Zm440 0h160v-160H620v160Z\"/>\n",
              "  </svg>\n",
              "    </button>\n",
              "\n",
              "  <style>\n",
              "    .colab-df-container {\n",
              "      display:flex;\n",
              "      gap: 12px;\n",
              "    }\n",
              "\n",
              "    .colab-df-convert {\n",
              "      background-color: #E8F0FE;\n",
              "      border: none;\n",
              "      border-radius: 50%;\n",
              "      cursor: pointer;\n",
              "      display: none;\n",
              "      fill: #1967D2;\n",
              "      height: 32px;\n",
              "      padding: 0 0 0 0;\n",
              "      width: 32px;\n",
              "    }\n",
              "\n",
              "    .colab-df-convert:hover {\n",
              "      background-color: #E2EBFA;\n",
              "      box-shadow: 0px 1px 2px rgba(60, 64, 67, 0.3), 0px 1px 3px 1px rgba(60, 64, 67, 0.15);\n",
              "      fill: #174EA6;\n",
              "    }\n",
              "\n",
              "    .colab-df-buttons div {\n",
              "      margin-bottom: 4px;\n",
              "    }\n",
              "\n",
              "    [theme=dark] .colab-df-convert {\n",
              "      background-color: #3B4455;\n",
              "      fill: #D2E3FC;\n",
              "    }\n",
              "\n",
              "    [theme=dark] .colab-df-convert:hover {\n",
              "      background-color: #434B5C;\n",
              "      box-shadow: 0px 1px 3px 1px rgba(0, 0, 0, 0.15);\n",
              "      filter: drop-shadow(0px 1px 2px rgba(0, 0, 0, 0.3));\n",
              "      fill: #FFFFFF;\n",
              "    }\n",
              "  </style>\n",
              "\n",
              "    <script>\n",
              "      const buttonEl =\n",
              "        document.querySelector('#df-bbc2f2ba-7c4a-421c-b962-058afcdc4086 button.colab-df-convert');\n",
              "      buttonEl.style.display =\n",
              "        google.colab.kernel.accessAllowed ? 'block' : 'none';\n",
              "\n",
              "      async function convertToInteractive(key) {\n",
              "        const element = document.querySelector('#df-bbc2f2ba-7c4a-421c-b962-058afcdc4086');\n",
              "        const dataTable =\n",
              "          await google.colab.kernel.invokeFunction('convertToInteractive',\n",
              "                                                    [key], {});\n",
              "        if (!dataTable) return;\n",
              "\n",
              "        const docLinkHtml = 'Like what you see? Visit the ' +\n",
              "          '<a target=\"_blank\" href=https://colab.research.google.com/notebooks/data_table.ipynb>data table notebook</a>'\n",
              "          + ' to learn more about interactive tables.';\n",
              "        element.innerHTML = '';\n",
              "        dataTable['output_type'] = 'display_data';\n",
              "        await google.colab.output.renderOutput(dataTable, element);\n",
              "        const docLink = document.createElement('div');\n",
              "        docLink.innerHTML = docLinkHtml;\n",
              "        element.appendChild(docLink);\n",
              "      }\n",
              "    </script>\n",
              "  </div>\n",
              "\n",
              "\n",
              "  <div id=\"id_a9849fb2-cd4b-4fe4-8c93-c58c38ff6ee5\">\n",
              "    <style>\n",
              "      .colab-df-generate {\n",
              "        background-color: #E8F0FE;\n",
              "        border: none;\n",
              "        border-radius: 50%;\n",
              "        cursor: pointer;\n",
              "        display: none;\n",
              "        fill: #1967D2;\n",
              "        height: 32px;\n",
              "        padding: 0 0 0 0;\n",
              "        width: 32px;\n",
              "      }\n",
              "\n",
              "      .colab-df-generate:hover {\n",
              "        background-color: #E2EBFA;\n",
              "        box-shadow: 0px 1px 2px rgba(60, 64, 67, 0.3), 0px 1px 3px 1px rgba(60, 64, 67, 0.15);\n",
              "        fill: #174EA6;\n",
              "      }\n",
              "\n",
              "      [theme=dark] .colab-df-generate {\n",
              "        background-color: #3B4455;\n",
              "        fill: #D2E3FC;\n",
              "      }\n",
              "\n",
              "      [theme=dark] .colab-df-generate:hover {\n",
              "        background-color: #434B5C;\n",
              "        box-shadow: 0px 1px 3px 1px rgba(0, 0, 0, 0.15);\n",
              "        filter: drop-shadow(0px 1px 2px rgba(0, 0, 0, 0.3));\n",
              "        fill: #FFFFFF;\n",
              "      }\n",
              "    </style>\n",
              "    <button class=\"colab-df-generate\" onclick=\"generateWithVariable('filas_con_nulos')\"\n",
              "            title=\"Generate code using this dataframe.\"\n",
              "            style=\"display:none;\">\n",
              "\n",
              "  <svg xmlns=\"http://www.w3.org/2000/svg\" height=\"24px\"viewBox=\"0 0 24 24\"\n",
              "       width=\"24px\">\n",
              "    <path d=\"M7,19H8.4L18.45,9,17,7.55,7,17.6ZM5,21V16.75L18.45,3.32a2,2,0,0,1,2.83,0l1.4,1.43a1.91,1.91,0,0,1,.58,1.4,1.91,1.91,0,0,1-.58,1.4L9.25,21ZM18.45,9,17,7.55Zm-12,3A5.31,5.31,0,0,0,4.9,8.1,5.31,5.31,0,0,0,1,6.5,5.31,5.31,0,0,0,4.9,4.9,5.31,5.31,0,0,0,6.5,1,5.31,5.31,0,0,0,8.1,4.9,5.31,5.31,0,0,0,12,6.5,5.46,5.46,0,0,0,6.5,12Z\"/>\n",
              "  </svg>\n",
              "    </button>\n",
              "    <script>\n",
              "      (() => {\n",
              "      const buttonEl =\n",
              "        document.querySelector('#id_a9849fb2-cd4b-4fe4-8c93-c58c38ff6ee5 button.colab-df-generate');\n",
              "      buttonEl.style.display =\n",
              "        google.colab.kernel.accessAllowed ? 'block' : 'none';\n",
              "\n",
              "      buttonEl.onclick = () => {\n",
              "        google.colab.notebook.generateWithVariable('filas_con_nulos');\n",
              "      }\n",
              "      })();\n",
              "    </script>\n",
              "  </div>\n",
              "\n",
              "    </div>\n",
              "  </div>\n"
            ],
            "application/vnd.google.colaboratory.intrinsic+json": {
              "type": "dataframe",
              "variable_name": "filas_con_nulos"
            }
          },
          "metadata": {},
          "execution_count": 48
        }
      ]
    },
    {
      "cell_type": "code",
      "source": [
        "#Quitamos el registro con valores nulos\n",
        "df = df.dropna()"
      ],
      "metadata": {
        "id": "rKwV9xz3OsBU"
      },
      "execution_count": 49,
      "outputs": []
    },
    {
      "cell_type": "code",
      "execution_count": 51,
      "metadata": {
        "id": "s4K2oaeGDcSu"
      },
      "outputs": [],
      "source": [
        "# Distribution of the fraud flag\n",
        "fraud_distribution = df['fraud_flag'].value_counts(normalize=True) * 100"
      ]
    },
    {
      "cell_type": "code",
      "execution_count": 52,
      "metadata": {
        "id": "sRtP2arrDcSu",
        "outputId": "2c11d901-d8d0-4a76-a463-292e79c1a149",
        "colab": {
          "base_uri": "https://localhost:8080/"
        }
      },
      "outputs": [
        {
          "output_type": "execute_result",
          "data": {
            "text/plain": [
              "fraud_flag\n",
              "0.0    81.58141\n",
              "1.0    18.41859\n",
              "Name: proportion, dtype: float64"
            ]
          },
          "metadata": {},
          "execution_count": 52
        }
      ],
      "source": [
        "fraud_distribution"
      ]
    },
    {
      "cell_type": "code",
      "execution_count": 53,
      "metadata": {
        "id": "BO37iCX3DcSv",
        "outputId": "8f0ff908-821e-46ba-ed90-89a073adfda7",
        "colab": {
          "base_uri": "https://localhost:8080/",
          "height": 430
        }
      },
      "outputs": [
        {
          "output_type": "display_data",
          "data": {
            "text/plain": [
              "<Figure size 640x480 with 1 Axes>"
            ],
            "image/png": "[encoded data removed]"
          },
          "metadata": {}
        }
      ],
      "source": [
        "df['fraud_flag'].plot(kind='hist')\n",
        "plt.show()"
      ]
    },
    {
      "cell_type": "markdown",
      "metadata": {
        "id": "wG5DQNN_DcSv"
      },
      "source": [
        "Vamos a ver correlaciones entre las caracteristicas:"
      ]
    },
    {
      "cell_type": "code",
      "execution_count": 54,
      "metadata": {
        "id": "Lwwi5nTHDcSv"
      },
      "outputs": [],
      "source": [
        "#Buscamos variables altamente correlacionadas\n",
        "high_corr_features_df = high_correlation_features(df, 0.99)"
      ]
    },
    {
      "cell_type": "code",
      "execution_count": 55,
      "metadata": {
        "id": "vr2JsJWkDcSv"
      },
      "outputs": [],
      "source": [
        "#Quitamos las variables altamente correlacionadas\n",
        "df, _ = remove_highly_correlated_features(df, 0.99)"
      ]
    },
    {
      "cell_type": "code",
      "execution_count": 56,
      "metadata": {
        "id": "MuzlWj24DcSv"
      },
      "outputs": [],
      "source": [
        "#Separar las etiquetas del conjunto de datos\n",
        "X = df.drop('fraud_flag', axis=1)\n",
        "y = df['fraud_flag']"
      ]
    },
    {
      "cell_type": "code",
      "execution_count": 61,
      "metadata": {
        "id": "nDC7AA7UDcSv"
      },
      "outputs": [],
      "source": [
        "X_train_unscaled, X_test_unscaled, y_train, y_test = train_test_split(X, y,\n",
        "                                                    test_size=0.2,\n",
        "                                                    shuffle=True,\n",
        "                                                    random_state=42)"
      ]
    },
    {
      "cell_type": "code",
      "source": [
        "# Standarize training and test datasets\n",
        "scaler = StandardScaler().fit(X_train_unscaled) # Guardamos la escla para predicciones\n",
        "X_train = scaler.transform(X_train_unscaled)\n",
        "X_test = scaler.transform(X_test_unscaled)"
      ],
      "metadata": {
        "id": "uCbc5ROFEqnX"
      },
      "execution_count": 62,
      "outputs": []
    },
    {
      "cell_type": "code",
      "execution_count": 63,
      "metadata": {
        "id": "gOM3UnfmDcSw",
        "outputId": "848ab282-65c1-4a4d-beb1-dafff042490f",
        "colab": {
          "base_uri": "https://localhost:8080/"
        }
      },
      "outputs": [
        {
          "output_type": "stream",
          "name": "stdout",
          "text": [
            "TRAINING SET\n",
            "X:  (5129, 1796)\n",
            "y:  (5129,)\n",
            "Fraude: 18.152% \n",
            "\n",
            "TEST SET\n",
            "X:  (1283, 1796)\n",
            "y:  (1283,)\n",
            "Fraude: 19.486%\n"
          ]
        }
      ],
      "source": [
        "# imprime los conjuntos de entrenamiento y prueba\n",
        "print(\"TRAINING SET\")\n",
        "print(\"X: \", X_train.shape)\n",
        "print(\"y: \", y_train.shape)\n",
        "print('Fraude:{:7.3f}%'.format(y_train.mean()*100),'\\n')\n",
        "\n",
        "print(\"TEST SET\")\n",
        "print(\"X: \", X_test.shape)\n",
        "print(\"y: \", y_test.shape)\n",
        "print('Fraude:{:7.3f}%'.format(y_test.mean()*100))"
      ]
    },
    {
      "cell_type": "markdown",
      "metadata": {
        "id": "oO1BoAd5DcSw"
      },
      "source": [
        "Vamos a entrenar un Perceptrón:"
      ]
    },
    {
      "cell_type": "code",
      "execution_count": 64,
      "metadata": {
        "id": "0zbq6muqDcSw"
      },
      "outputs": [],
      "source": [
        "model = Perceptron(max_iter=100, random_state=42, verbose=True, class_weight='balanced')"
      ]
    },
    {
      "cell_type": "code",
      "execution_count": 65,
      "metadata": {
        "id": "rWNjtb-5DcSw",
        "outputId": "3b52eedf-569e-4635-90d0-af1c95958846",
        "colab": {
          "base_uri": "https://localhost:8080/",
          "height": 872
        }
      },
      "outputs": [
        {
          "output_type": "stream",
          "name": "stdout",
          "text": [
            "-- Epoch 1\n",
            "Norm: 1199.30, NNZs: 1028, Bias: -80.541170, T: 5129, Avg. loss: 62.539852\n",
            "Total training time: 0.05 seconds.\n",
            "-- Epoch 2\n",
            "Norm: 1433.92, NNZs: 1028, Bias: -168.280430, T: 10258, Avg. loss: 73.979024\n",
            "Total training time: 0.08 seconds.\n",
            "-- Epoch 3\n",
            "Norm: 1459.38, NNZs: 1028, Bias: -243.557875, T: 15387, Avg. loss: 62.597824\n",
            "Total training time: 0.10 seconds.\n",
            "-- Epoch 4\n",
            "Norm: 1506.27, NNZs: 1028, Bias: -241.841357, T: 20516, Avg. loss: 56.724973\n",
            "Total training time: 0.13 seconds.\n",
            "-- Epoch 5\n",
            "Norm: 1500.99, NNZs: 1028, Bias: -273.712422, T: 25645, Avg. loss: 56.255044\n",
            "Total training time: 0.16 seconds.\n",
            "-- Epoch 6\n",
            "Norm: 1535.35, NNZs: 1028, Bias: -274.405984, T: 30774, Avg. loss: 51.400867\n",
            "Total training time: 0.19 seconds.\n",
            "-- Epoch 7\n",
            "Norm: 1567.01, NNZs: 1028, Bias: -267.757758, T: 35903, Avg. loss: 60.038120\n",
            "Total training time: 0.24 seconds.\n",
            "-- Epoch 8\n",
            "Norm: 1542.24, NNZs: 1028, Bias: -281.635569, T: 41032, Avg. loss: 57.481063\n",
            "Total training time: 0.27 seconds.\n",
            "-- Epoch 9\n",
            "Norm: 1537.18, NNZs: 1028, Bias: -286.350088, T: 46161, Avg. loss: 49.478820\n",
            "Total training time: 0.30 seconds.\n",
            "-- Epoch 10\n",
            "Norm: 1550.34, NNZs: 1028, Bias: -298.950352, T: 51290, Avg. loss: 45.709369\n",
            "Total training time: 0.32 seconds.\n",
            "-- Epoch 11\n",
            "Norm: 1565.04, NNZs: 1028, Bias: -292.635456, T: 56419, Avg. loss: 55.844705\n",
            "Total training time: 0.35 seconds.\n",
            "-- Epoch 12\n",
            "Norm: 1563.93, NNZs: 1028, Bias: -289.408455, T: 61548, Avg. loss: 54.483826\n",
            "Total training time: 0.38 seconds.\n",
            "-- Epoch 13\n",
            "Norm: 1578.00, NNZs: 1028, Bias: -284.281867, T: 66677, Avg. loss: 54.136471\n",
            "Total training time: 0.41 seconds.\n",
            "-- Epoch 14\n",
            "Norm: 1560.07, NNZs: 1028, Bias: -310.943668, T: 71806, Avg. loss: 52.691168\n",
            "Total training time: 0.45 seconds.\n",
            "-- Epoch 15\n",
            "Norm: 1583.42, NNZs: 1028, Bias: -300.319105, T: 76935, Avg. loss: 47.043769\n",
            "Total training time: 0.48 seconds.\n",
            "Convergence after 15 epochs took 0.48 seconds\n"
          ]
        },
        {
          "output_type": "execute_result",
          "data": {
            "text/plain": [
              "Perceptron(class_weight='balanced', max_iter=100, random_state=42, verbose=True)"
            ],
            "text/html": [
              "<style>#sk-container-id-1 {color: black;}#sk-container-id-1 pre{padding: 0;}#sk-container-id-1 div.sk-toggleable {background-color: white;}#sk-container-id-1 label.sk-toggleable__label {cursor: pointer;display: block;width: 100%;margin-bottom: 0;padding: 0.3em;box-sizing: border-box;text-align: center;}#sk-container-id-1 label.sk-toggleable__label-arrow:before {content: \"▸\";float: left;margin-right: 0.25em;color: #696969;}#sk-container-id-1 label.sk-toggleable__label-arrow:hover:before {color: black;}#sk-container-id-1 div.sk-estimator:hover label.sk-toggleable__label-arrow:before {color: black;}#sk-container-id-1 div.sk-toggleable__content {max-height: 0;max-width: 0;overflow: hidden;text-align: left;background-color: #f0f8ff;}#sk-container-id-1 div.sk-toggleable__content pre {margin: 0.2em;color: black;border-radius: 0.25em;background-color: #f0f8ff;}#sk-container-id-1 input.sk-toggleable__control:checked~div.sk-toggleable__content {max-height: 200px;max-width: 100%;overflow: auto;}#sk-container-id-1 input.sk-toggleable__control:checked~label.sk-toggleable__label-arrow:before {content: \"▾\";}#sk-container-id-1 div.sk-estimator input.sk-toggleable__control:checked~label.sk-toggleable__label {background-color: #d4ebff;}#sk-container-id-1 div.sk-label input.sk-toggleable__control:checked~label.sk-toggleable__label {background-color: #d4ebff;}#sk-container-id-1 input.sk-hidden--visually {border: 0;clip: rect(1px 1px 1px 1px);clip: rect(1px, 1px, 1px, 1px);height: 1px;margin: -1px;overflow: hidden;padding: 0;position: absolute;width: 1px;}#sk-container-id-1 div.sk-estimator {font-family: monospace;background-color: #f0f8ff;border: 1px dotted black;border-radius: 0.25em;box-sizing: border-box;margin-bottom: 0.5em;}#sk-container-id-1 div.sk-estimator:hover {background-color: #d4ebff;}#sk-container-id-1 div.sk-parallel-item::after {content: \"\";width: 100%;border-bottom: 1px solid gray;flex-grow: 1;}#sk-container-id-1 div.sk-label:hover label.sk-toggleable__label {background-color: #d4ebff;}#sk-container-id-1 div.sk-serial::before {content: \"\";position: absolute;border-left: 1px solid gray;box-sizing: border-box;top: 0;bottom: 0;left: 50%;z-index: 0;}#sk-container-id-1 div.sk-serial {display: flex;flex-direction: column;align-items: center;background-color: white;padding-right: 0.2em;padding-left: 0.2em;position: relative;}#sk-container-id-1 div.sk-item {position: relative;z-index: 1;}#sk-container-id-1 div.sk-parallel {display: flex;align-items: stretch;justify-content: center;background-color: white;position: relative;}#sk-container-id-1 div.sk-item::before, #sk-container-id-1 div.sk-parallel-item::before {content: \"\";position: absolute;border-left: 1px solid gray;box-sizing: border-box;top: 0;bottom: 0;left: 50%;z-index: -1;}#sk-container-id-1 div.sk-parallel-item {display: flex;flex-direction: column;z-index: 1;position: relative;background-color: white;}#sk-container-id-1 div.sk-parallel-item:first-child::after {align-self: flex-end;width: 50%;}#sk-container-id-1 div.sk-parallel-item:last-child::after {align-self: flex-start;width: 50%;}#sk-container-id-1 div.sk-parallel-item:only-child::after {width: 0;}#sk-container-id-1 div.sk-dashed-wrapped {border: 1px dashed gray;margin: 0 0.4em 0.5em 0.4em;box-sizing: border-box;padding-bottom: 0.4em;background-color: white;}#sk-container-id-1 div.sk-label label {font-family: monospace;font-weight: bold;display: inline-block;line-height: 1.2em;}#sk-container-id-1 div.sk-label-container {text-align: center;}#sk-container-id-1 div.sk-container {/* jupyter's `normalize.less` sets `[hidden] { display: none; }` but bootstrap.min.css set `[hidden] { display: none !important; }` so we also need the `!important` here to be able to override the default hidden behavior on the sphinx rendered scikit-learn.org. See: https://github.com/scikit-learn/scikit-learn/issues/21755 */display: inline-block !important;position: relative;}#sk-container-id-1 div.sk-text-repr-fallback {display: none;}</style><div id=\"sk-container-id-1\" class=\"sk-top-container\"><div class=\"sk-text-repr-fallback\"><pre>Perceptron(class_weight=&#x27;balanced&#x27;, max_iter=100, random_state=42, verbose=True)</pre><b>In a Jupyter environment, please rerun this cell to show the HTML representation or trust the notebook. <br />On GitHub, the HTML representation is unable to render, please try loading this page with nbviewer.org.</b></div><div class=\"sk-container\" hidden><div class=\"sk-item\"><div class=\"sk-estimator sk-toggleable\"><input class=\"sk-toggleable__control sk-hidden--visually\" id=\"sk-estimator-id-1\" type=\"checkbox\" checked><label for=\"sk-estimator-id-1\" class=\"sk-toggleable__label sk-toggleable__label-arrow\">Perceptron</label><div class=\"sk-toggleable__content\"><pre>Perceptron(class_weight=&#x27;balanced&#x27;, max_iter=100, random_state=42, verbose=True)</pre></div></div></div></div></div>"
            ]
          },
          "metadata": {},
          "execution_count": 65
        }
      ],
      "source": [
        "model.fit(X_train, y_train)"
      ]
    },
    {
      "cell_type": "code",
      "execution_count": 66,
      "metadata": {
        "id": "qK5tDEQWDcSw"
      },
      "outputs": [],
      "source": [
        "y_pred = model.predict(X_test)"
      ]
    },
    {
      "cell_type": "markdown",
      "metadata": {
        "id": "dxaDCALVDcSw"
      },
      "source": [
        "Veamos las métricas del modelo:"
      ]
    },
    {
      "cell_type": "code",
      "execution_count": 67,
      "metadata": {
        "id": "HwuKWeqpDcSz",
        "outputId": "fe4975d1-6569-43a6-c955-d96bf02b4921",
        "colab": {
          "base_uri": "https://localhost:8080/"
        }
      },
      "outputs": [
        {
          "output_type": "stream",
          "name": "stdout",
          "text": [
            "              precision    recall  f1-score   support\n",
            "\n",
            "         0.0       0.91      0.78      0.84      1033\n",
            "         1.0       0.42      0.66      0.51       250\n",
            "\n",
            "    accuracy                           0.76      1283\n",
            "   macro avg       0.66      0.72      0.68      1283\n",
            "weighted avg       0.81      0.76      0.77      1283\n",
            "\n"
          ]
        }
      ],
      "source": [
        "print(classification_report(y_test, y_pred))"
      ]
    },
    {
      "cell_type": "code",
      "execution_count": 68,
      "metadata": {
        "id": "R4kBtYBJDcSz",
        "outputId": "a406fd83-edf6-4589-8ab8-2497a136ec44",
        "colab": {
          "base_uri": "https://localhost:8080/"
        }
      },
      "outputs": [
        {
          "output_type": "stream",
          "name": "stdout",
          "text": [
            "Precisión conjunto entrenamiento: 76.53%\n",
            "Precisión conjunto prueba: 75.60%\n"
          ]
        }
      ],
      "source": [
        "print(\"Precisión conjunto entrenamiento: %.2f%%\" % (model.score(X_train, y_train)*100.0))\n",
        "print(\"Precisión conjunto prueba: %.2f%%\" % (model.score(X_test, y_test)*100.0))"
      ]
    },
    {
      "cell_type": "code",
      "execution_count": 69,
      "metadata": {
        "id": "39aCmUWrDcS0",
        "outputId": "b3b56ad4-f458-463b-f8a9-21861177c341",
        "colab": {
          "base_uri": "https://localhost:8080/",
          "height": 641
        }
      },
      "outputs": [
        {
          "output_type": "display_data",
          "data": {
            "text/plain": [
              "<Figure size 1000x700 with 2 Axes>"
            ],
            "image/png": "[encoded data removed]"
          },
          "metadata": {}
        }
      ],
      "source": [
        "plot_confusion_matrix(y_test, y_pred)"
      ]
    },
    {
      "cell_type": "code",
      "execution_count": 70,
      "metadata": {
        "id": "ZmoreqT8DcS0",
        "outputId": "f50f967e-6e41-4b17-dcbb-c8488c2354d9",
        "colab": {
          "base_uri": "https://localhost:8080/",
          "height": 641
        }
      },
      "outputs": [
        {
          "output_type": "display_data",
          "data": {
            "text/plain": [
              "<Figure size 1000x700 with 1 Axes>"
            ],
            "image/png": "[encoded data removed]"
          },
          "metadata": {}
        }
      ],
      "source": [
        "plot_roc_curve(model, X_test, y_test)"
      ]
    },
    {
      "cell_type": "markdown",
      "metadata": {
        "id": "2OH3xFcDDcS0"
      },
      "source": [
        "Veamos ahora la clasificación con Perceptron con margen:"
      ]
    },
    {
      "cell_type": "code",
      "execution_count": 71,
      "metadata": {
        "id": "xKMcpv2qDcS0"
      },
      "outputs": [],
      "source": [
        "model_margin = Perceptron(penalty='l2', max_iter=100, random_state=42, verbose=True, alpha=0.00005)"
      ]
    },
    {
      "cell_type": "code",
      "execution_count": 72,
      "metadata": {
        "id": "aUNkOrpKDcS0",
        "outputId": "3ff5d8da-bd0d-4661-ff99-612245ab2203",
        "colab": {
          "base_uri": "https://localhost:8080/",
          "height": 890
        }
      },
      "outputs": [
        {
          "output_type": "stream",
          "name": "stdout",
          "text": [
            "-- Epoch 1\n",
            "Norm: 1228.35, NNZs: 1028, Bias: -558.000000, T: 5129, Avg. loss: 39.473137\n",
            "Total training time: 0.03 seconds.\n",
            "-- Epoch 2\n",
            "Norm: 1030.22, NNZs: 1028, Bias: -463.000000, T: 10258, Avg. loss: 26.093498\n",
            "Total training time: 0.06 seconds.\n",
            "-- Epoch 3\n",
            "Norm: 860.81, NNZs: 1028, Bias: -396.000000, T: 15387, Avg. loss: 20.808315\n",
            "Total training time: 0.08 seconds.\n",
            "-- Epoch 4\n",
            "Norm: 712.18, NNZs: 1028, Bias: -337.000000, T: 20516, Avg. loss: 20.618807\n",
            "Total training time: 0.10 seconds.\n",
            "-- Epoch 5\n",
            "Norm: 602.12, NNZs: 1028, Bias: -291.000000, T: 25645, Avg. loss: 21.850095\n",
            "Total training time: 0.12 seconds.\n",
            "-- Epoch 6\n",
            "Norm: 517.66, NNZs: 1028, Bias: -241.000000, T: 30774, Avg. loss: 20.694376\n",
            "Total training time: 0.14 seconds.\n",
            "-- Epoch 7\n",
            "Norm: 437.72, NNZs: 1028, Bias: -220.000000, T: 35903, Avg. loss: 20.598040\n",
            "Total training time: 0.16 seconds.\n",
            "-- Epoch 8\n",
            "Norm: 376.69, NNZs: 1028, Bias: -183.000000, T: 41032, Avg. loss: 19.731153\n",
            "Total training time: 0.18 seconds.\n",
            "-- Epoch 9\n",
            "Norm: 327.99, NNZs: 1028, Bias: -165.000000, T: 46161, Avg. loss: 19.508879\n",
            "Total training time: 0.20 seconds.\n",
            "-- Epoch 10\n",
            "Norm: 287.50, NNZs: 1028, Bias: -145.000000, T: 51290, Avg. loss: 18.408456\n",
            "Total training time: 0.23 seconds.\n",
            "-- Epoch 11\n",
            "Norm: 304.47, NNZs: 1028, Bias: -131.000000, T: 56419, Avg. loss: 20.561120\n",
            "Total training time: 0.26 seconds.\n",
            "-- Epoch 12\n",
            "Norm: 272.86, NNZs: 1028, Bias: -116.000000, T: 61548, Avg. loss: 21.597723\n",
            "Total training time: 0.28 seconds.\n",
            "-- Epoch 13\n",
            "Norm: 310.06, NNZs: 1028, Bias: -123.000000, T: 66677, Avg. loss: 19.525150\n",
            "Total training time: 0.30 seconds.\n",
            "-- Epoch 14\n",
            "Norm: 351.74, NNZs: 1028, Bias: -109.000000, T: 71806, Avg. loss: 19.478894\n",
            "Total training time: 0.32 seconds.\n",
            "-- Epoch 15\n",
            "Norm: 331.34, NNZs: 1028, Bias: -98.000000, T: 76935, Avg. loss: 21.468220\n",
            "Total training time: 0.35 seconds.\n",
            "Convergence after 15 epochs took 0.35 seconds\n"
          ]
        },
        {
          "output_type": "execute_result",
          "data": {
            "text/plain": [
              "Perceptron(alpha=5e-05, max_iter=100, penalty='l2', random_state=42,\n",
              "           verbose=True)"
            ],
            "text/html": [
              "<style>#sk-container-id-2 {color: black;}#sk-container-id-2 pre{padding: 0;}#sk-container-id-2 div.sk-toggleable {background-color: white;}#sk-container-id-2 label.sk-toggleable__label {cursor: pointer;display: block;width: 100%;margin-bottom: 0;padding: 0.3em;box-sizing: border-box;text-align: center;}#sk-container-id-2 label.sk-toggleable__label-arrow:before {content: \"▸\";float: left;margin-right: 0.25em;color: #696969;}#sk-container-id-2 label.sk-toggleable__label-arrow:hover:before {color: black;}#sk-container-id-2 div.sk-estimator:hover label.sk-toggleable__label-arrow:before {color: black;}#sk-container-id-2 div.sk-toggleable__content {max-height: 0;max-width: 0;overflow: hidden;text-align: left;background-color: #f0f8ff;}#sk-container-id-2 div.sk-toggleable__content pre {margin: 0.2em;color: black;border-radius: 0.25em;background-color: #f0f8ff;}#sk-container-id-2 input.sk-toggleable__control:checked~div.sk-toggleable__content {max-height: 200px;max-width: 100%;overflow: auto;}#sk-container-id-2 input.sk-toggleable__control:checked~label.sk-toggleable__label-arrow:before {content: \"▾\";}#sk-container-id-2 div.sk-estimator input.sk-toggleable__control:checked~label.sk-toggleable__label {background-color: #d4ebff;}#sk-container-id-2 div.sk-label input.sk-toggleable__control:checked~label.sk-toggleable__label {background-color: #d4ebff;}#sk-container-id-2 input.sk-hidden--visually {border: 0;clip: rect(1px 1px 1px 1px);clip: rect(1px, 1px, 1px, 1px);height: 1px;margin: -1px;overflow: hidden;padding: 0;position: absolute;width: 1px;}#sk-container-id-2 div.sk-estimator {font-family: monospace;background-color: #f0f8ff;border: 1px dotted black;border-radius: 0.25em;box-sizing: border-box;margin-bottom: 0.5em;}#sk-container-id-2 div.sk-estimator:hover {background-color: #d4ebff;}#sk-container-id-2 div.sk-parallel-item::after {content: \"\";width: 100%;border-bottom: 1px solid gray;flex-grow: 1;}#sk-container-id-2 div.sk-label:hover label.sk-toggleable__label {background-color: #d4ebff;}#sk-container-id-2 div.sk-serial::before {content: \"\";position: absolute;border-left: 1px solid gray;box-sizing: border-box;top: 0;bottom: 0;left: 50%;z-index: 0;}#sk-container-id-2 div.sk-serial {display: flex;flex-direction: column;align-items: center;background-color: white;padding-right: 0.2em;padding-left: 0.2em;position: relative;}#sk-container-id-2 div.sk-item {position: relative;z-index: 1;}#sk-container-id-2 div.sk-parallel {display: flex;align-items: stretch;justify-content: center;background-color: white;position: relative;}#sk-container-id-2 div.sk-item::before, #sk-container-id-2 div.sk-parallel-item::before {content: \"\";position: absolute;border-left: 1px solid gray;box-sizing: border-box;top: 0;bottom: 0;left: 50%;z-index: -1;}#sk-container-id-2 div.sk-parallel-item {display: flex;flex-direction: column;z-index: 1;position: relative;background-color: white;}#sk-container-id-2 div.sk-parallel-item:first-child::after {align-self: flex-end;width: 50%;}#sk-container-id-2 div.sk-parallel-item:last-child::after {align-self: flex-start;width: 50%;}#sk-container-id-2 div.sk-parallel-item:only-child::after {width: 0;}#sk-container-id-2 div.sk-dashed-wrapped {border: 1px dashed gray;margin: 0 0.4em 0.5em 0.4em;box-sizing: border-box;padding-bottom: 0.4em;background-color: white;}#sk-container-id-2 div.sk-label label {font-family: monospace;font-weight: bold;display: inline-block;line-height: 1.2em;}#sk-container-id-2 div.sk-label-container {text-align: center;}#sk-container-id-2 div.sk-container {/* jupyter's `normalize.less` sets `[hidden] { display: none; }` but bootstrap.min.css set `[hidden] { display: none !important; }` so we also need the `!important` here to be able to override the default hidden behavior on the sphinx rendered scikit-learn.org. See: https://github.com/scikit-learn/scikit-learn/issues/21755 */display: inline-block !important;position: relative;}#sk-container-id-2 div.sk-text-repr-fallback {display: none;}</style><div id=\"sk-container-id-2\" class=\"sk-top-container\"><div class=\"sk-text-repr-fallback\"><pre>Perceptron(alpha=5e-05, max_iter=100, penalty=&#x27;l2&#x27;, random_state=42,\n",
              "           verbose=True)</pre><b>In a Jupyter environment, please rerun this cell to show the HTML representation or trust the notebook. <br />On GitHub, the HTML representation is unable to render, please try loading this page with nbviewer.org.</b></div><div class=\"sk-container\" hidden><div class=\"sk-item\"><div class=\"sk-estimator sk-toggleable\"><input class=\"sk-toggleable__control sk-hidden--visually\" id=\"sk-estimator-id-2\" type=\"checkbox\" checked><label for=\"sk-estimator-id-2\" class=\"sk-toggleable__label sk-toggleable__label-arrow\">Perceptron</label><div class=\"sk-toggleable__content\"><pre>Perceptron(alpha=5e-05, max_iter=100, penalty=&#x27;l2&#x27;, random_state=42,\n",
              "           verbose=True)</pre></div></div></div></div></div>"
            ]
          },
          "metadata": {},
          "execution_count": 72
        }
      ],
      "source": [
        "model_margin.fit(X_train,y_train)"
      ]
    },
    {
      "cell_type": "code",
      "execution_count": 73,
      "metadata": {
        "id": "gSrgvGgNDcS0"
      },
      "outputs": [],
      "source": [
        "y_pred = model_margin.predict(X_test)"
      ]
    },
    {
      "cell_type": "code",
      "execution_count": 74,
      "metadata": {
        "id": "MUHBTsiPDcS0",
        "outputId": "53b9cfd0-f1f0-4840-f1ef-ef5a279ce060",
        "colab": {
          "base_uri": "https://localhost:8080/"
        }
      },
      "outputs": [
        {
          "output_type": "stream",
          "name": "stdout",
          "text": [
            "              precision    recall  f1-score   support\n",
            "\n",
            "         0.0       0.85      0.86      0.86      1033\n",
            "         1.0       0.41      0.39      0.40       250\n",
            "\n",
            "    accuracy                           0.77      1283\n",
            "   macro avg       0.63      0.63      0.63      1283\n",
            "weighted avg       0.77      0.77      0.77      1283\n",
            "\n"
          ]
        }
      ],
      "source": [
        "print(classification_report(y_test, y_pred))"
      ]
    },
    {
      "cell_type": "code",
      "execution_count": 75,
      "metadata": {
        "id": "x6V1-uIUDcS1",
        "outputId": "91a2cf9a-3f1c-408a-e4da-a63044cb0726",
        "colab": {
          "base_uri": "https://localhost:8080/"
        }
      },
      "outputs": [
        {
          "output_type": "stream",
          "name": "stdout",
          "text": [
            "Precisión conjunto entrenamiento: 80.05%\n",
            "Precisión conjunto prueba: 77.01%\n"
          ]
        }
      ],
      "source": [
        "print(\"Precisión conjunto entrenamiento: %.2f%%\" % (model_margin.score(X_train, y_train)*100.0))\n",
        "print(\"Precisión conjunto prueba: %.2f%%\" % (model_margin.score(X_test, y_test)*100.0))"
      ]
    },
    {
      "cell_type": "code",
      "execution_count": 76,
      "metadata": {
        "id": "JF3gV2sDDcS1",
        "outputId": "9d95be37-46d3-4b88-bb94-beab22015c3c",
        "colab": {
          "base_uri": "https://localhost:8080/",
          "height": 641
        }
      },
      "outputs": [
        {
          "output_type": "display_data",
          "data": {
            "text/plain": [
              "<Figure size 1000x700 with 2 Axes>"
            ],
            "image/png": "[encoded data removed]"
          },
          "metadata": {}
        }
      ],
      "source": [
        "plot_confusion_matrix(y_test, y_pred)"
      ]
    },
    {
      "cell_type": "code",
      "execution_count": 77,
      "metadata": {
        "id": "fSjkPkr0DcS1",
        "outputId": "8b18aebe-32ae-4624-c0ad-de88b2048595",
        "colab": {
          "base_uri": "https://localhost:8080/",
          "height": 641
        }
      },
      "outputs": [
        {
          "output_type": "display_data",
          "data": {
            "text/plain": [
              "<Figure size 1000x700 with 1 Axes>"
            ],
            "image/png": "[encoded data removed]"
          },
          "metadata": {}
        }
      ],
      "source": [
        "plot_roc_curve(model_margin, X_test, y_test)"
      ]
    },
    {
      "cell_type": "code",
      "execution_count": 78,
      "metadata": {
        "id": "JBIJ3thCDcS1"
      },
      "outputs": [],
      "source": [
        "model_margin_1 = Perceptron(penalty='l2', max_iter=100, random_state=42, verbose=True, alpha=0.0005)"
      ]
    },
    {
      "cell_type": "code",
      "execution_count": 79,
      "metadata": {
        "id": "dZAymvmiDcS1",
        "outputId": "1c36b5b2-acde-4fe8-f0a8-e584102ae843",
        "colab": {
          "base_uri": "https://localhost:8080/",
          "height": 682
        }
      },
      "outputs": [
        {
          "output_type": "stream",
          "name": "stdout",
          "text": [
            "-- Epoch 1\n",
            "Norm: 329.12, NNZs: 1028, Bias: -91.000000, T: 5129, Avg. loss: 21.327744\n",
            "Total training time: 0.02 seconds.\n",
            "-- Epoch 2\n",
            "Norm: 241.59, NNZs: 1028, Bias: -38.000000, T: 10258, Avg. loss: 16.629569\n",
            "Total training time: 0.05 seconds.\n",
            "-- Epoch 3\n",
            "Norm: 263.82, NNZs: 1028, Bias: -48.000000, T: 15387, Avg. loss: 17.251672\n",
            "Total training time: 0.07 seconds.\n",
            "-- Epoch 4\n",
            "Norm: 304.23, NNZs: 1028, Bias: -43.000000, T: 20516, Avg. loss: 16.726946\n",
            "Total training time: 0.09 seconds.\n",
            "-- Epoch 5\n",
            "Norm: 296.06, NNZs: 1028, Bias: -50.000000, T: 25645, Avg. loss: 18.339681\n",
            "Total training time: 0.12 seconds.\n",
            "-- Epoch 6\n",
            "Norm: 275.78, NNZs: 1028, Bias: -24.000000, T: 30774, Avg. loss: 15.102902\n",
            "Total training time: 0.14 seconds.\n",
            "-- Epoch 7\n",
            "Norm: 305.93, NNZs: 1028, Bias: -44.000000, T: 35903, Avg. loss: 17.526575\n",
            "Total training time: 0.16 seconds.\n",
            "-- Epoch 8\n",
            "Norm: 336.00, NNZs: 1028, Bias: -64.000000, T: 41032, Avg. loss: 17.369191\n",
            "Total training time: 0.19 seconds.\n",
            "-- Epoch 9\n",
            "Norm: 323.34, NNZs: 1028, Bias: -44.000000, T: 46161, Avg. loss: 15.362563\n",
            "Total training time: 0.21 seconds.\n",
            "-- Epoch 10\n",
            "Norm: 328.50, NNZs: 1028, Bias: -60.000000, T: 51290, Avg. loss: 16.424438\n",
            "Total training time: 0.23 seconds.\n",
            "-- Epoch 11\n",
            "Norm: 309.15, NNZs: 1028, Bias: -43.000000, T: 56419, Avg. loss: 19.537924\n",
            "Total training time: 0.26 seconds.\n",
            "Convergence after 11 epochs took 0.26 seconds\n"
          ]
        },
        {
          "output_type": "execute_result",
          "data": {
            "text/plain": [
              "Perceptron(alpha=0.0005, max_iter=100, penalty='l2', random_state=42,\n",
              "           verbose=True)"
            ],
            "text/html": [
              "<style>#sk-container-id-3 {color: black;}#sk-container-id-3 pre{padding: 0;}#sk-container-id-3 div.sk-toggleable {background-color: white;}#sk-container-id-3 label.sk-toggleable__label {cursor: pointer;display: block;width: 100%;margin-bottom: 0;padding: 0.3em;box-sizing: border-box;text-align: center;}#sk-container-id-3 label.sk-toggleable__label-arrow:before {content: \"▸\";float: left;margin-right: 0.25em;color: #696969;}#sk-container-id-3 label.sk-toggleable__label-arrow:hover:before {color: black;}#sk-container-id-3 div.sk-estimator:hover label.sk-toggleable__label-arrow:before {color: black;}#sk-container-id-3 div.sk-toggleable__content {max-height: 0;max-width: 0;overflow: hidden;text-align: left;background-color: #f0f8ff;}#sk-container-id-3 div.sk-toggleable__content pre {margin: 0.2em;color: black;border-radius: 0.25em;background-color: #f0f8ff;}#sk-container-id-3 input.sk-toggleable__control:checked~div.sk-toggleable__content {max-height: 200px;max-width: 100%;overflow: auto;}#sk-container-id-3 input.sk-toggleable__control:checked~label.sk-toggleable__label-arrow:before {content: \"▾\";}#sk-container-id-3 div.sk-estimator input.sk-toggleable__control:checked~label.sk-toggleable__label {background-color: #d4ebff;}#sk-container-id-3 div.sk-label input.sk-toggleable__control:checked~label.sk-toggleable__label {background-color: #d4ebff;}#sk-container-id-3 input.sk-hidden--visually {border: 0;clip: rect(1px 1px 1px 1px);clip: rect(1px, 1px, 1px, 1px);height: 1px;margin: -1px;overflow: hidden;padding: 0;position: absolute;width: 1px;}#sk-container-id-3 div.sk-estimator {font-family: monospace;background-color: #f0f8ff;border: 1px dotted black;border-radius: 0.25em;box-sizing: border-box;margin-bottom: 0.5em;}#sk-container-id-3 div.sk-estimator:hover {background-color: #d4ebff;}#sk-container-id-3 div.sk-parallel-item::after {content: \"\";width: 100%;border-bottom: 1px solid gray;flex-grow: 1;}#sk-container-id-3 div.sk-label:hover label.sk-toggleable__label {background-color: #d4ebff;}#sk-container-id-3 div.sk-serial::before {content: \"\";position: absolute;border-left: 1px solid gray;box-sizing: border-box;top: 0;bottom: 0;left: 50%;z-index: 0;}#sk-container-id-3 div.sk-serial {display: flex;flex-direction: column;align-items: center;background-color: white;padding-right: 0.2em;padding-left: 0.2em;position: relative;}#sk-container-id-3 div.sk-item {position: relative;z-index: 1;}#sk-container-id-3 div.sk-parallel {display: flex;align-items: stretch;justify-content: center;background-color: white;position: relative;}#sk-container-id-3 div.sk-item::before, #sk-container-id-3 div.sk-parallel-item::before {content: \"\";position: absolute;border-left: 1px solid gray;box-sizing: border-box;top: 0;bottom: 0;left: 50%;z-index: -1;}#sk-container-id-3 div.sk-parallel-item {display: flex;flex-direction: column;z-index: 1;position: relative;background-color: white;}#sk-container-id-3 div.sk-parallel-item:first-child::after {align-self: flex-end;width: 50%;}#sk-container-id-3 div.sk-parallel-item:last-child::after {align-self: flex-start;width: 50%;}#sk-container-id-3 div.sk-parallel-item:only-child::after {width: 0;}#sk-container-id-3 div.sk-dashed-wrapped {border: 1px dashed gray;margin: 0 0.4em 0.5em 0.4em;box-sizing: border-box;padding-bottom: 0.4em;background-color: white;}#sk-container-id-3 div.sk-label label {font-family: monospace;font-weight: bold;display: inline-block;line-height: 1.2em;}#sk-container-id-3 div.sk-label-container {text-align: center;}#sk-container-id-3 div.sk-container {/* jupyter's `normalize.less` sets `[hidden] { display: none; }` but bootstrap.min.css set `[hidden] { display: none !important; }` so we also need the `!important` here to be able to override the default hidden behavior on the sphinx rendered scikit-learn.org. See: https://github.com/scikit-learn/scikit-learn/issues/21755 */display: inline-block !important;position: relative;}#sk-container-id-3 div.sk-text-repr-fallback {display: none;}</style><div id=\"sk-container-id-3\" class=\"sk-top-container\"><div class=\"sk-text-repr-fallback\"><pre>Perceptron(alpha=0.0005, max_iter=100, penalty=&#x27;l2&#x27;, random_state=42,\n",
              "           verbose=True)</pre><b>In a Jupyter environment, please rerun this cell to show the HTML representation or trust the notebook. <br />On GitHub, the HTML representation is unable to render, please try loading this page with nbviewer.org.</b></div><div class=\"sk-container\" hidden><div class=\"sk-item\"><div class=\"sk-estimator sk-toggleable\"><input class=\"sk-toggleable__control sk-hidden--visually\" id=\"sk-estimator-id-3\" type=\"checkbox\" checked><label for=\"sk-estimator-id-3\" class=\"sk-toggleable__label sk-toggleable__label-arrow\">Perceptron</label><div class=\"sk-toggleable__content\"><pre>Perceptron(alpha=0.0005, max_iter=100, penalty=&#x27;l2&#x27;, random_state=42,\n",
              "           verbose=True)</pre></div></div></div></div></div>"
            ]
          },
          "metadata": {},
          "execution_count": 79
        }
      ],
      "source": [
        "model_margin_1.fit(X_train,y_train)"
      ]
    },
    {
      "cell_type": "code",
      "execution_count": 80,
      "metadata": {
        "id": "S3aEKlVPDcS1"
      },
      "outputs": [],
      "source": [
        "y_pred = model_margin_1.predict(X_test)"
      ]
    },
    {
      "cell_type": "code",
      "execution_count": 81,
      "metadata": {
        "id": "eHakDxMPDcS2",
        "outputId": "7afa1e50-4053-4ba0-a14c-62f0088ef13b",
        "colab": {
          "base_uri": "https://localhost:8080/",
          "height": 641
        }
      },
      "outputs": [
        {
          "output_type": "display_data",
          "data": {
            "text/plain": [
              "<Figure size 1000x700 with 2 Axes>"
            ],
            "image/png": "[encoded data removed]"
          },
          "metadata": {}
        }
      ],
      "source": [
        "plot_confusion_matrix(y_test, y_pred)"
      ]
    },
    {
      "cell_type": "code",
      "execution_count": 82,
      "metadata": {
        "id": "fbRLsQ0qDcS2",
        "outputId": "93eaa5c7-e46b-4e8f-d3df-5f844ec07c08",
        "colab": {
          "base_uri": "https://localhost:8080/",
          "height": 641
        }
      },
      "outputs": [
        {
          "output_type": "display_data",
          "data": {
            "text/plain": [
              "<Figure size 1000x700 with 1 Axes>"
            ],
            "image/png": "[encoded data removed]"
          },
          "metadata": {}
        }
      ],
      "source": [
        "plot_roc_curve(model_margin_1, X_test, y_test)"
      ]
    },
    {
      "cell_type": "code",
      "execution_count": 83,
      "metadata": {
        "id": "ZOdzz6DdDcS2",
        "outputId": "dd788a87-bc23-4084-c880-6de668621273",
        "colab": {
          "base_uri": "https://localhost:8080/"
        }
      },
      "outputs": [
        {
          "output_type": "stream",
          "name": "stdout",
          "text": [
            "              precision    recall  f1-score   support\n",
            "\n",
            "         0.0       0.87      0.85      0.86      1033\n",
            "         1.0       0.44      0.49      0.46       250\n",
            "\n",
            "    accuracy                           0.78      1283\n",
            "   macro avg       0.65      0.67      0.66      1283\n",
            "weighted avg       0.79      0.78      0.78      1283\n",
            "\n"
          ]
        }
      ],
      "source": [
        "print(classification_report(y_test, y_pred))"
      ]
    },
    {
      "cell_type": "code",
      "execution_count": 84,
      "metadata": {
        "id": "AljLit_-DcS2",
        "outputId": "ee74fa21-683a-4cde-ac43-c19d55bf3996",
        "colab": {
          "base_uri": "https://localhost:8080/"
        }
      },
      "outputs": [
        {
          "output_type": "stream",
          "name": "stdout",
          "text": [
            "Precisión conjunto entrenamiento: 78.20%\n",
            "Precisión conjunto prueba: 77.71%\n"
          ]
        }
      ],
      "source": [
        "print(\"Precisión conjunto entrenamiento: %.2f%%\" % (model_margin_1.score(X_train, y_train)*100.0))\n",
        "print(\"Precisión conjunto prueba: %.2f%%\" % (model_margin_1.score(X_test, y_test)*100.0))"
      ]
    },
    {
      "cell_type": "code",
      "execution_count": 85,
      "metadata": {
        "id": "AeR2R3qiDcS2"
      },
      "outputs": [],
      "source": [
        "model_margin_2 = Perceptron(penalty='l2', max_iter=100, random_state=42, verbose=True, alpha=0.005)"
      ]
    },
    {
      "cell_type": "code",
      "execution_count": 86,
      "metadata": {
        "id": "aaJFinabDcS2",
        "outputId": "7c460295-634a-4743-b0f2-3cadc4a69fb6",
        "colab": {
          "base_uri": "https://localhost:8080/",
          "height": 786
        }
      },
      "outputs": [
        {
          "output_type": "stream",
          "name": "stdout",
          "text": [
            "-- Epoch 1\n",
            "Norm: 149.12, NNZs: 1028, Bias: -12.000000, T: 5129, Avg. loss: 7.226567\n",
            "Total training time: 0.03 seconds.\n",
            "-- Epoch 2\n",
            "Norm: 115.72, NNZs: 1028, Bias: -6.000000, T: 10258, Avg. loss: 7.200458\n",
            "Total training time: 0.06 seconds.\n",
            "-- Epoch 3\n",
            "Norm: 91.72, NNZs: 1028, Bias: -13.000000, T: 15387, Avg. loss: 7.171852\n",
            "Total training time: 0.09 seconds.\n",
            "-- Epoch 4\n",
            "Norm: 146.37, NNZs: 1028, Bias: -21.000000, T: 20516, Avg. loss: 6.790437\n",
            "Total training time: 0.12 seconds.\n",
            "-- Epoch 5\n",
            "Norm: 127.77, NNZs: 1028, Bias: -8.000000, T: 25645, Avg. loss: 7.700498\n",
            "Total training time: 0.16 seconds.\n",
            "-- Epoch 6\n",
            "Norm: 118.90, NNZs: 1028, Bias: -10.000000, T: 30774, Avg. loss: 7.280887\n",
            "Total training time: 0.19 seconds.\n",
            "-- Epoch 7\n",
            "Norm: 109.36, NNZs: 1028, Bias: -20.000000, T: 35903, Avg. loss: 7.571400\n",
            "Total training time: 0.22 seconds.\n",
            "-- Epoch 8\n",
            "Norm: 98.95, NNZs: 1028, Bias: -14.000000, T: 41032, Avg. loss: 6.448634\n",
            "Total training time: 0.25 seconds.\n",
            "-- Epoch 9\n",
            "Norm: 82.59, NNZs: 1028, Bias: -11.000000, T: 46161, Avg. loss: 7.226138\n",
            "Total training time: 0.28 seconds.\n",
            "-- Epoch 10\n",
            "Norm: 93.67, NNZs: 1028, Bias: -16.000000, T: 51290, Avg. loss: 6.979991\n",
            "Total training time: 0.32 seconds.\n",
            "-- Epoch 11\n",
            "Norm: 215.62, NNZs: 1028, Bias: -27.000000, T: 56419, Avg. loss: 8.219118\n",
            "Total training time: 0.35 seconds.\n",
            "-- Epoch 12\n",
            "Norm: 79.18, NNZs: 1028, Bias: -16.000000, T: 61548, Avg. loss: 7.887763\n",
            "Total training time: 0.38 seconds.\n",
            "-- Epoch 13\n",
            "Norm: 77.97, NNZs: 1028, Bias: -15.000000, T: 66677, Avg. loss: 7.839094\n",
            "Total training time: 0.41 seconds.\n",
            "Convergence after 13 epochs took 0.41 seconds\n"
          ]
        },
        {
          "output_type": "execute_result",
          "data": {
            "text/plain": [
              "Perceptron(alpha=0.005, max_iter=100, penalty='l2', random_state=42,\n",
              "           verbose=True)"
            ],
            "text/html": [
              "<style>#sk-container-id-4 {color: black;}#sk-container-id-4 pre{padding: 0;}#sk-container-id-4 div.sk-toggleable {background-color: white;}#sk-container-id-4 label.sk-toggleable__label {cursor: pointer;display: block;width: 100%;margin-bottom: 0;padding: 0.3em;box-sizing: border-box;text-align: center;}#sk-container-id-4 label.sk-toggleable__label-arrow:before {content: \"▸\";float: left;margin-right: 0.25em;color: #696969;}#sk-container-id-4 label.sk-toggleable__label-arrow:hover:before {color: black;}#sk-container-id-4 div.sk-estimator:hover label.sk-toggleable__label-arrow:before {color: black;}#sk-container-id-4 div.sk-toggleable__content {max-height: 0;max-width: 0;overflow: hidden;text-align: left;background-color: #f0f8ff;}#sk-container-id-4 div.sk-toggleable__content pre {margin: 0.2em;color: black;border-radius: 0.25em;background-color: #f0f8ff;}#sk-container-id-4 input.sk-toggleable__control:checked~div.sk-toggleable__content {max-height: 200px;max-width: 100%;overflow: auto;}#sk-container-id-4 input.sk-toggleable__control:checked~label.sk-toggleable__label-arrow:before {content: \"▾\";}#sk-container-id-4 div.sk-estimator input.sk-toggleable__control:checked~label.sk-toggleable__label {background-color: #d4ebff;}#sk-container-id-4 div.sk-label input.sk-toggleable__control:checked~label.sk-toggleable__label {background-color: #d4ebff;}#sk-container-id-4 input.sk-hidden--visually {border: 0;clip: rect(1px 1px 1px 1px);clip: rect(1px, 1px, 1px, 1px);height: 1px;margin: -1px;overflow: hidden;padding: 0;position: absolute;width: 1px;}#sk-container-id-4 div.sk-estimator {font-family: monospace;background-color: #f0f8ff;border: 1px dotted black;border-radius: 0.25em;box-sizing: border-box;margin-bottom: 0.5em;}#sk-container-id-4 div.sk-estimator:hover {background-color: #d4ebff;}#sk-container-id-4 div.sk-parallel-item::after {content: \"\";width: 100%;border-bottom: 1px solid gray;flex-grow: 1;}#sk-container-id-4 div.sk-label:hover label.sk-toggleable__label {background-color: #d4ebff;}#sk-container-id-4 div.sk-serial::before {content: \"\";position: absolute;border-left: 1px solid gray;box-sizing: border-box;top: 0;bottom: 0;left: 50%;z-index: 0;}#sk-container-id-4 div.sk-serial {display: flex;flex-direction: column;align-items: center;background-color: white;padding-right: 0.2em;padding-left: 0.2em;position: relative;}#sk-container-id-4 div.sk-item {position: relative;z-index: 1;}#sk-container-id-4 div.sk-parallel {display: flex;align-items: stretch;justify-content: center;background-color: white;position: relative;}#sk-container-id-4 div.sk-item::before, #sk-container-id-4 div.sk-parallel-item::before {content: \"\";position: absolute;border-left: 1px solid gray;box-sizing: border-box;top: 0;bottom: 0;left: 50%;z-index: -1;}#sk-container-id-4 div.sk-parallel-item {display: flex;flex-direction: column;z-index: 1;position: relative;background-color: white;}#sk-container-id-4 div.sk-parallel-item:first-child::after {align-self: flex-end;width: 50%;}#sk-container-id-4 div.sk-parallel-item:last-child::after {align-self: flex-start;width: 50%;}#sk-container-id-4 div.sk-parallel-item:only-child::after {width: 0;}#sk-container-id-4 div.sk-dashed-wrapped {border: 1px dashed gray;margin: 0 0.4em 0.5em 0.4em;box-sizing: border-box;padding-bottom: 0.4em;background-color: white;}#sk-container-id-4 div.sk-label label {font-family: monospace;font-weight: bold;display: inline-block;line-height: 1.2em;}#sk-container-id-4 div.sk-label-container {text-align: center;}#sk-container-id-4 div.sk-container {/* jupyter's `normalize.less` sets `[hidden] { display: none; }` but bootstrap.min.css set `[hidden] { display: none !important; }` so we also need the `!important` here to be able to override the default hidden behavior on the sphinx rendered scikit-learn.org. See: https://github.com/scikit-learn/scikit-learn/issues/21755 */display: inline-block !important;position: relative;}#sk-container-id-4 div.sk-text-repr-fallback {display: none;}</style><div id=\"sk-container-id-4\" class=\"sk-top-container\"><div class=\"sk-text-repr-fallback\"><pre>Perceptron(alpha=0.005, max_iter=100, penalty=&#x27;l2&#x27;, random_state=42,\n",
              "           verbose=True)</pre><b>In a Jupyter environment, please rerun this cell to show the HTML representation or trust the notebook. <br />On GitHub, the HTML representation is unable to render, please try loading this page with nbviewer.org.</b></div><div class=\"sk-container\" hidden><div class=\"sk-item\"><div class=\"sk-estimator sk-toggleable\"><input class=\"sk-toggleable__control sk-hidden--visually\" id=\"sk-estimator-id-4\" type=\"checkbox\" checked><label for=\"sk-estimator-id-4\" class=\"sk-toggleable__label sk-toggleable__label-arrow\">Perceptron</label><div class=\"sk-toggleable__content\"><pre>Perceptron(alpha=0.005, max_iter=100, penalty=&#x27;l2&#x27;, random_state=42,\n",
              "           verbose=True)</pre></div></div></div></div></div>"
            ]
          },
          "metadata": {},
          "execution_count": 86
        }
      ],
      "source": [
        "model_margin_2.fit(X_train,y_train)"
      ]
    },
    {
      "cell_type": "code",
      "execution_count": 87,
      "metadata": {
        "id": "UvGg3Di0DcS2"
      },
      "outputs": [],
      "source": [
        "y_pred = model_margin_2.predict(X_test)"
      ]
    },
    {
      "cell_type": "code",
      "execution_count": 88,
      "metadata": {
        "id": "AvM-KGkxDcS3",
        "outputId": "e05fd897-81fe-4056-906f-21b31337789a",
        "colab": {
          "base_uri": "https://localhost:8080/",
          "height": 641
        }
      },
      "outputs": [
        {
          "output_type": "display_data",
          "data": {
            "text/plain": [
              "<Figure size 1000x700 with 2 Axes>"
            ],
            "image/png": "[encoded data removed]"
          },
          "metadata": {}
        }
      ],
      "source": [
        "plot_confusion_matrix(y_test, y_pred)"
      ]
    },
    {
      "cell_type": "code",
      "execution_count": 89,
      "metadata": {
        "id": "EsjFLc6EDcS3",
        "outputId": "84cb2314-7c12-4181-ff0e-517cda77001b",
        "colab": {
          "base_uri": "https://localhost:8080/",
          "height": 641
        }
      },
      "outputs": [
        {
          "output_type": "display_data",
          "data": {
            "text/plain": [
              "<Figure size 1000x700 with 1 Axes>"
            ],
            "image/png": "[encoded data removed]"
          },
          "metadata": {}
        }
      ],
      "source": [
        "plot_roc_curve(model_margin_2, X_test, y_test)"
      ]
    },
    {
      "cell_type": "code",
      "execution_count": 90,
      "metadata": {
        "id": "Q4CFe3egDcS3",
        "outputId": "dc789cd6-b812-4f0e-c176-c32e79440f09",
        "colab": {
          "base_uri": "https://localhost:8080/"
        }
      },
      "outputs": [
        {
          "output_type": "stream",
          "name": "stdout",
          "text": [
            "Precisión conjunto entrenamiento: 78.65%\n",
            "Precisión conjunto prueba: 77.71%\n"
          ]
        }
      ],
      "source": [
        "print(\"Precisión conjunto entrenamiento: %.2f%%\" % (model_margin_2.score(X_train, y_train)*100.0))\n",
        "print(\"Precisión conjunto prueba: %.2f%%\" % (model_margin_2.score(X_test, y_test)*100.0))"
      ]
    },
    {
      "cell_type": "markdown",
      "metadata": {
        "id": "wbkvfgiDDcS3"
      },
      "source": [
        "Veamos otros ejemplos:"
      ]
    },
    {
      "cell_type": "code",
      "execution_count": 91,
      "metadata": {
        "id": "sPyvIOO7DcS3"
      },
      "outputs": [],
      "source": [
        "model_new = Perceptron(max_iter=1000, verbose=True, penalty='elasticnet', alpha=0.0005, l1_ratio=0.5, shuffle=True, eta0=1e-3, early_stopping=True, validation_fraction=0.1, class_weight='balanced')"
      ]
    },
    {
      "cell_type": "markdown",
      "metadata": {
        "id": "uO1bISSlDcS3"
      },
      "source": [
        "Note: A regression model that uses L1 regularization technique is called Lasso Regression and model which uses L2 is called Ridge Regression. The key difference between these techniques is that Lasso shrinks the less important feature’s coefficient to zero thus, removing some feature altogether. So, this works well for feature selection in case we have a huge number of features."
      ]
    },
    {
      "cell_type": "code",
      "execution_count": 92,
      "metadata": {
        "id": "z7PbBV0UDcS4",
        "outputId": "8542e0c6-49d9-4ea8-fcc8-ac3e1a759e46",
        "colab": {
          "base_uri": "https://localhost:8080/",
          "height": 525
        }
      },
      "outputs": [
        {
          "output_type": "stream",
          "name": "stdout",
          "text": [
            "-- Epoch 1\n",
            "Norm: 1.11, NNZs: 1019, Bias: -0.170809, T: 4616, Avg. loss: 0.050337\n",
            "Total training time: 0.06 seconds.\n",
            "-- Epoch 2\n",
            "Norm: 1.40, NNZs: 708, Bias: -0.127008, T: 9232, Avg. loss: 0.065569\n",
            "Total training time: 0.14 seconds.\n",
            "-- Epoch 3\n",
            "Norm: 1.51, NNZs: 686, Bias: -0.130579, T: 13848, Avg. loss: 0.057204\n",
            "Total training time: 0.23 seconds.\n",
            "-- Epoch 4\n",
            "Norm: 1.49, NNZs: 689, Bias: -0.122543, T: 18464, Avg. loss: 0.057792\n",
            "Total training time: 0.37 seconds.\n",
            "-- Epoch 5\n",
            "Norm: 1.50, NNZs: 682, Bias: -0.132567, T: 23080, Avg. loss: 0.042226\n",
            "Total training time: 0.52 seconds.\n",
            "-- Epoch 6\n",
            "Norm: 1.55, NNZs: 683, Bias: -0.109592, T: 27696, Avg. loss: 0.040331\n",
            "Total training time: 0.70 seconds.\n",
            "-- Epoch 7\n",
            "Norm: 1.57, NNZs: 681, Bias: -0.109764, T: 32312, Avg. loss: 0.049152\n",
            "Total training time: 0.86 seconds.\n",
            "-- Epoch 8\n",
            "Norm: 1.59, NNZs: 669, Bias: -0.097508, T: 36928, Avg. loss: 0.043313\n",
            "Total training time: 1.04 seconds.\n",
            "Convergence after 8 epochs took 1.05 seconds\n"
          ]
        },
        {
          "output_type": "execute_result",
          "data": {
            "text/plain": [
              "Perceptron(alpha=0.0005, class_weight='balanced', early_stopping=True,\n",
              "           eta0=0.001, l1_ratio=0.5, penalty='elasticnet', verbose=True)"
            ],
            "text/html": [
              "<style>#sk-container-id-5 {color: black;}#sk-container-id-5 pre{padding: 0;}#sk-container-id-5 div.sk-toggleable {background-color: white;}#sk-container-id-5 label.sk-toggleable__label {cursor: pointer;display: block;width: 100%;margin-bottom: 0;padding: 0.3em;box-sizing: border-box;text-align: center;}#sk-container-id-5 label.sk-toggleable__label-arrow:before {content: \"▸\";float: left;margin-right: 0.25em;color: #696969;}#sk-container-id-5 label.sk-toggleable__label-arrow:hover:before {color: black;}#sk-container-id-5 div.sk-estimator:hover label.sk-toggleable__label-arrow:before {color: black;}#sk-container-id-5 div.sk-toggleable__content {max-height: 0;max-width: 0;overflow: hidden;text-align: left;background-color: #f0f8ff;}#sk-container-id-5 div.sk-toggleable__content pre {margin: 0.2em;color: black;border-radius: 0.25em;background-color: #f0f8ff;}#sk-container-id-5 input.sk-toggleable__control:checked~div.sk-toggleable__content {max-height: 200px;max-width: 100%;overflow: auto;}#sk-container-id-5 input.sk-toggleable__control:checked~label.sk-toggleable__label-arrow:before {content: \"▾\";}#sk-container-id-5 div.sk-estimator input.sk-toggleable__control:checked~label.sk-toggleable__label {background-color: #d4ebff;}#sk-container-id-5 div.sk-label input.sk-toggleable__control:checked~label.sk-toggleable__label {background-color: #d4ebff;}#sk-container-id-5 input.sk-hidden--visually {border: 0;clip: rect(1px 1px 1px 1px);clip: rect(1px, 1px, 1px, 1px);height: 1px;margin: -1px;overflow: hidden;padding: 0;position: absolute;width: 1px;}#sk-container-id-5 div.sk-estimator {font-family: monospace;background-color: #f0f8ff;border: 1px dotted black;border-radius: 0.25em;box-sizing: border-box;margin-bottom: 0.5em;}#sk-container-id-5 div.sk-estimator:hover {background-color: #d4ebff;}#sk-container-id-5 div.sk-parallel-item::after {content: \"\";width: 100%;border-bottom: 1px solid gray;flex-grow: 1;}#sk-container-id-5 div.sk-label:hover label.sk-toggleable__label {background-color: #d4ebff;}#sk-container-id-5 div.sk-serial::before {content: \"\";position: absolute;border-left: 1px solid gray;box-sizing: border-box;top: 0;bottom: 0;left: 50%;z-index: 0;}#sk-container-id-5 div.sk-serial {display: flex;flex-direction: column;align-items: center;background-color: white;padding-right: 0.2em;padding-left: 0.2em;position: relative;}#sk-container-id-5 div.sk-item {position: relative;z-index: 1;}#sk-container-id-5 div.sk-parallel {display: flex;align-items: stretch;justify-content: center;background-color: white;position: relative;}#sk-container-id-5 div.sk-item::before, #sk-container-id-5 div.sk-parallel-item::before {content: \"\";position: absolute;border-left: 1px solid gray;box-sizing: border-box;top: 0;bottom: 0;left: 50%;z-index: -1;}#sk-container-id-5 div.sk-parallel-item {display: flex;flex-direction: column;z-index: 1;position: relative;background-color: white;}#sk-container-id-5 div.sk-parallel-item:first-child::after {align-self: flex-end;width: 50%;}#sk-container-id-5 div.sk-parallel-item:last-child::after {align-self: flex-start;width: 50%;}#sk-container-id-5 div.sk-parallel-item:only-child::after {width: 0;}#sk-container-id-5 div.sk-dashed-wrapped {border: 1px dashed gray;margin: 0 0.4em 0.5em 0.4em;box-sizing: border-box;padding-bottom: 0.4em;background-color: white;}#sk-container-id-5 div.sk-label label {font-family: monospace;font-weight: bold;display: inline-block;line-height: 1.2em;}#sk-container-id-5 div.sk-label-container {text-align: center;}#sk-container-id-5 div.sk-container {/* jupyter's `normalize.less` sets `[hidden] { display: none; }` but bootstrap.min.css set `[hidden] { display: none !important; }` so we also need the `!important` here to be able to override the default hidden behavior on the sphinx rendered scikit-learn.org. See: https://github.com/scikit-learn/scikit-learn/issues/21755 */display: inline-block !important;position: relative;}#sk-container-id-5 div.sk-text-repr-fallback {display: none;}</style><div id=\"sk-container-id-5\" class=\"sk-top-container\"><div class=\"sk-text-repr-fallback\"><pre>Perceptron(alpha=0.0005, class_weight=&#x27;balanced&#x27;, early_stopping=True,\n",
              "           eta0=0.001, l1_ratio=0.5, penalty=&#x27;elasticnet&#x27;, verbose=True)</pre><b>In a Jupyter environment, please rerun this cell to show the HTML representation or trust the notebook. <br />On GitHub, the HTML representation is unable to render, please try loading this page with nbviewer.org.</b></div><div class=\"sk-container\" hidden><div class=\"sk-item\"><div class=\"sk-estimator sk-toggleable\"><input class=\"sk-toggleable__control sk-hidden--visually\" id=\"sk-estimator-id-5\" type=\"checkbox\" checked><label for=\"sk-estimator-id-5\" class=\"sk-toggleable__label sk-toggleable__label-arrow\">Perceptron</label><div class=\"sk-toggleable__content\"><pre>Perceptron(alpha=0.0005, class_weight=&#x27;balanced&#x27;, early_stopping=True,\n",
              "           eta0=0.001, l1_ratio=0.5, penalty=&#x27;elasticnet&#x27;, verbose=True)</pre></div></div></div></div></div>"
            ]
          },
          "metadata": {},
          "execution_count": 92
        }
      ],
      "source": [
        "model_new.fit(X_train,y_train)"
      ]
    },
    {
      "cell_type": "code",
      "execution_count": 93,
      "metadata": {
        "id": "V7_OK4WnDcS4"
      },
      "outputs": [],
      "source": [
        "y_pred_new = model_new.predict(X_test)"
      ]
    },
    {
      "cell_type": "code",
      "execution_count": 94,
      "metadata": {
        "id": "jVf0_eJWDcS4",
        "outputId": "234c50b4-0b22-49ed-cd1b-994dd588de4d",
        "colab": {
          "base_uri": "https://localhost:8080/"
        }
      },
      "outputs": [
        {
          "output_type": "stream",
          "name": "stdout",
          "text": [
            "              precision    recall  f1-score   support\n",
            "\n",
            "         0.0       0.92      0.61      0.73      1033\n",
            "         1.0       0.33      0.79      0.46       250\n",
            "\n",
            "    accuracy                           0.64      1283\n",
            "   macro avg       0.63      0.70      0.60      1283\n",
            "weighted avg       0.81      0.64      0.68      1283\n",
            "\n"
          ]
        }
      ],
      "source": [
        "print(classification_report(y_test, y_pred_new))"
      ]
    },
    {
      "cell_type": "code",
      "execution_count": 95,
      "metadata": {
        "id": "t-EpDxT6DcS4",
        "outputId": "6921d158-eac7-41c0-e763-cb11382b9306",
        "colab": {
          "base_uri": "https://localhost:8080/",
          "height": 641
        }
      },
      "outputs": [
        {
          "output_type": "display_data",
          "data": {
            "text/plain": [
              "<Figure size 1000x700 with 1 Axes>"
            ],
            "image/png": "[encoded data removed]"
          },
          "metadata": {}
        }
      ],
      "source": [
        "plot_roc_curve(model_new, X_test, y_test)"
      ]
    },
    {
      "cell_type": "code",
      "execution_count": 96,
      "metadata": {
        "id": "RwYdprJnDcS4",
        "outputId": "ff5d8c60-68a6-4621-a38c-576ae15929b3",
        "colab": {
          "base_uri": "https://localhost:8080/",
          "height": 641
        }
      },
      "outputs": [
        {
          "output_type": "display_data",
          "data": {
            "text/plain": [
              "<Figure size 1000x700 with 2 Axes>"
            ],
            "image/png": "[encoded data removed]"
          },
          "metadata": {}
        }
      ],
      "source": [
        "plot_confusion_matrix(y_test, y_pred)"
      ]
    },
    {
      "cell_type": "code",
      "execution_count": 97,
      "metadata": {
        "id": "X7Y4TzhMDcS4",
        "outputId": "650a30c9-a91d-41d8-bfa4-0921d6f97d0a",
        "colab": {
          "base_uri": "https://localhost:8080/"
        }
      },
      "outputs": [
        {
          "output_type": "stream",
          "name": "stdout",
          "text": [
            "Precisión conjunto entrenamiento: 65.39%\n",
            "Precisión conjunto prueba: 64.46%\n"
          ]
        }
      ],
      "source": [
        "print(\"Precisión conjunto entrenamiento: %.2f%%\" % (model_new.score(X_train, y_train)*100.0))\n",
        "print(\"Precisión conjunto prueba: %.2f%%\" % (model_new.score(X_test, y_test)*100.0))"
      ]
    },
    {
      "cell_type": "markdown",
      "metadata": {
        "id": "Xi8WU7i5DcS4"
      },
      "source": [
        "Hagamos una búsqueda grillada:"
      ]
    },
    {
      "cell_type": "code",
      "source": [
        "from sklearn.model_selection import GridSearchCV\n",
        "\n",
        "# Define the parameter grid\n",
        "param_grid = {\n",
        "    # 'max_iter': [1000],\n",
        "    # 'penalty': ['elasticnet'],\n",
        "    'alpha': [1e-5, 1e-4, 1e-3],\n",
        "    'l1_ratio': [0, 0.15, 0.25, 0.5, 0.75, 0.85, 1],\n",
        "    # 'shuffle': [True],\n",
        "    'eta0': [1e-5, 1e-3, 1e-1, 1],\n",
        "    # 'early_stopping': [True],\n",
        "    # 'validation_fraction': [0.05, 0.15],\n",
        "    'class_weight': ['balanced', None, {0:1,1:3}, {0:1,1:2.5}, {0:1,1:2}, {0:1,1:1.5}]\n",
        "}\n",
        "\n",
        "# Initialize the Perceptron model\n",
        "model = Perceptron(penalty='elasticnet', max_iter=1000, random_state=42, verbose=False, shuffle=True)\n",
        "\n",
        "# Initialize GridSearchCV\n",
        "grid_search = GridSearchCV(estimator=model, param_grid=param_grid, cv=5, n_jobs=6, verbose=0,\n",
        "                           scoring=['recall', 'accuracy'], refit='recall',\n",
        "                           return_train_score=True)\n",
        "\n",
        "# Fit GridSearchCV\n",
        "grid_search.fit(X_train, y_train)\n",
        "\n",
        "# Get the best parameters and best score\n",
        "best_params = grid_search.best_params_\n",
        "best_score = grid_search.best_score_\n",
        "print('=======================================================')\n",
        "print(\"Best Parameters:\", best_params)\n",
        "print(\"Best Cross-Validation Score:\", best_score)"
      ],
      "metadata": {
        "id": "L1EWr2tMEx4N",
        "colab": {
          "base_uri": "https://localhost:8080/"
        },
        "outputId": "fb5baaa1-9387-4831-f528-ba6d9f5e49bd"
      },
      "execution_count": 98,
      "outputs": [
        {
          "output_type": "stream",
          "name": "stdout",
          "text": [
            "=======================================================\n",
            "Best Parameters: {'alpha': 0.001, 'class_weight': 'balanced', 'eta0': 0.001, 'l1_ratio': 0}\n",
            "Best Cross-Validation Score: 0.7400609510666436\n"
          ]
        }
      ]
    },
    {
      "cell_type": "code",
      "execution_count": null,
      "metadata": {
        "id": "bDqF4jNqDcS5"
      },
      "outputs": [],
      "source": []
    },
    {
      "cell_type": "code",
      "execution_count": 99,
      "metadata": {
        "id": "XWfZS4rxDcS5"
      },
      "outputs": [],
      "source": [
        "model_grid = Perceptron(**best_params)"
      ]
    },
    {
      "cell_type": "code",
      "execution_count": 100,
      "metadata": {
        "id": "QsBq4DWhDcS5",
        "outputId": "a02fb30d-bc09-47f2-9bac-05908af2c41c",
        "colab": {
          "base_uri": "https://localhost:8080/",
          "height": 74
        }
      },
      "outputs": [
        {
          "output_type": "execute_result",
          "data": {
            "text/plain": [
              "Perceptron(alpha=0.001, class_weight='balanced', eta0=0.001, l1_ratio=0)"
            ],
            "text/html": [
              "<style>#sk-container-id-6 {color: black;}#sk-container-id-6 pre{padding: 0;}#sk-container-id-6 div.sk-toggleable {background-color: white;}#sk-container-id-6 label.sk-toggleable__label {cursor: pointer;display: block;width: 100%;margin-bottom: 0;padding: 0.3em;box-sizing: border-box;text-align: center;}#sk-container-id-6 label.sk-toggleable__label-arrow:before {content: \"▸\";float: left;margin-right: 0.25em;color: #696969;}#sk-container-id-6 label.sk-toggleable__label-arrow:hover:before {color: black;}#sk-container-id-6 div.sk-estimator:hover label.sk-toggleable__label-arrow:before {color: black;}#sk-container-id-6 div.sk-toggleable__content {max-height: 0;max-width: 0;overflow: hidden;text-align: left;background-color: #f0f8ff;}#sk-container-id-6 div.sk-toggleable__content pre {margin: 0.2em;color: black;border-radius: 0.25em;background-color: #f0f8ff;}#sk-container-id-6 input.sk-toggleable__control:checked~div.sk-toggleable__content {max-height: 200px;max-width: 100%;overflow: auto;}#sk-container-id-6 input.sk-toggleable__control:checked~label.sk-toggleable__label-arrow:before {content: \"▾\";}#sk-container-id-6 div.sk-estimator input.sk-toggleable__control:checked~label.sk-toggleable__label {background-color: #d4ebff;}#sk-container-id-6 div.sk-label input.sk-toggleable__control:checked~label.sk-toggleable__label {background-color: #d4ebff;}#sk-container-id-6 input.sk-hidden--visually {border: 0;clip: rect(1px 1px 1px 1px);clip: rect(1px, 1px, 1px, 1px);height: 1px;margin: -1px;overflow: hidden;padding: 0;position: absolute;width: 1px;}#sk-container-id-6 div.sk-estimator {font-family: monospace;background-color: #f0f8ff;border: 1px dotted black;border-radius: 0.25em;box-sizing: border-box;margin-bottom: 0.5em;}#sk-container-id-6 div.sk-estimator:hover {background-color: #d4ebff;}#sk-container-id-6 div.sk-parallel-item::after {content: \"\";width: 100%;border-bottom: 1px solid gray;flex-grow: 1;}#sk-container-id-6 div.sk-label:hover label.sk-toggleable__label {background-color: #d4ebff;}#sk-container-id-6 div.sk-serial::before {content: \"\";position: absolute;border-left: 1px solid gray;box-sizing: border-box;top: 0;bottom: 0;left: 50%;z-index: 0;}#sk-container-id-6 div.sk-serial {display: flex;flex-direction: column;align-items: center;background-color: white;padding-right: 0.2em;padding-left: 0.2em;position: relative;}#sk-container-id-6 div.sk-item {position: relative;z-index: 1;}#sk-container-id-6 div.sk-parallel {display: flex;align-items: stretch;justify-content: center;background-color: white;position: relative;}#sk-container-id-6 div.sk-item::before, #sk-container-id-6 div.sk-parallel-item::before {content: \"\";position: absolute;border-left: 1px solid gray;box-sizing: border-box;top: 0;bottom: 0;left: 50%;z-index: -1;}#sk-container-id-6 div.sk-parallel-item {display: flex;flex-direction: column;z-index: 1;position: relative;background-color: white;}#sk-container-id-6 div.sk-parallel-item:first-child::after {align-self: flex-end;width: 50%;}#sk-container-id-6 div.sk-parallel-item:last-child::after {align-self: flex-start;width: 50%;}#sk-container-id-6 div.sk-parallel-item:only-child::after {width: 0;}#sk-container-id-6 div.sk-dashed-wrapped {border: 1px dashed gray;margin: 0 0.4em 0.5em 0.4em;box-sizing: border-box;padding-bottom: 0.4em;background-color: white;}#sk-container-id-6 div.sk-label label {font-family: monospace;font-weight: bold;display: inline-block;line-height: 1.2em;}#sk-container-id-6 div.sk-label-container {text-align: center;}#sk-container-id-6 div.sk-container {/* jupyter's `normalize.less` sets `[hidden] { display: none; }` but bootstrap.min.css set `[hidden] { display: none !important; }` so we also need the `!important` here to be able to override the default hidden behavior on the sphinx rendered scikit-learn.org. See: https://github.com/scikit-learn/scikit-learn/issues/21755 */display: inline-block !important;position: relative;}#sk-container-id-6 div.sk-text-repr-fallback {display: none;}</style><div id=\"sk-container-id-6\" class=\"sk-top-container\"><div class=\"sk-text-repr-fallback\"><pre>Perceptron(alpha=0.001, class_weight=&#x27;balanced&#x27;, eta0=0.001, l1_ratio=0)</pre><b>In a Jupyter environment, please rerun this cell to show the HTML representation or trust the notebook. <br />On GitHub, the HTML representation is unable to render, please try loading this page with nbviewer.org.</b></div><div class=\"sk-container\" hidden><div class=\"sk-item\"><div class=\"sk-estimator sk-toggleable\"><input class=\"sk-toggleable__control sk-hidden--visually\" id=\"sk-estimator-id-6\" type=\"checkbox\" checked><label for=\"sk-estimator-id-6\" class=\"sk-toggleable__label sk-toggleable__label-arrow\">Perceptron</label><div class=\"sk-toggleable__content\"><pre>Perceptron(alpha=0.001, class_weight=&#x27;balanced&#x27;, eta0=0.001, l1_ratio=0)</pre></div></div></div></div></div>"
            ]
          },
          "metadata": {},
          "execution_count": 100
        }
      ],
      "source": [
        "model_grid.fit(X_train, y_train)"
      ]
    },
    {
      "cell_type": "code",
      "execution_count": 101,
      "metadata": {
        "id": "ANzvZxj-DcS5"
      },
      "outputs": [],
      "source": [
        "y_pred_grid = model_grid.predict(X_test)"
      ]
    },
    {
      "cell_type": "code",
      "execution_count": 102,
      "metadata": {
        "id": "4rcMwVD3DcS5",
        "outputId": "7b2dec2a-a0a8-4389-f130-1a1a572694aa",
        "colab": {
          "base_uri": "https://localhost:8080/"
        }
      },
      "outputs": [
        {
          "output_type": "stream",
          "name": "stdout",
          "text": [
            "              precision    recall  f1-score   support\n",
            "\n",
            "         0.0       0.90      0.74      0.81      1033\n",
            "         1.0       0.39      0.66      0.49       250\n",
            "\n",
            "    accuracy                           0.73      1283\n",
            "   macro avg       0.64      0.70      0.65      1283\n",
            "weighted avg       0.80      0.73      0.75      1283\n",
            "\n"
          ]
        }
      ],
      "source": [
        "print(classification_report(y_test, y_pred_grid))"
      ]
    },
    {
      "cell_type": "code",
      "execution_count": 103,
      "metadata": {
        "id": "cAtVhuRWDcS5",
        "outputId": "cc64e7be-b23b-41e6-facd-b044c603bf7d",
        "colab": {
          "base_uri": "https://localhost:8080/",
          "height": 641
        }
      },
      "outputs": [
        {
          "output_type": "display_data",
          "data": {
            "text/plain": [
              "<Figure size 1000x700 with 2 Axes>"
            ],
            "image/png": "[encoded data removed]"
          },
          "metadata": {}
        }
      ],
      "source": [
        "plot_confusion_matrix(y_test, y_pred_grid)"
      ]
    },
    {
      "cell_type": "code",
      "execution_count": 104,
      "metadata": {
        "id": "ZJqjTS93DcS5",
        "outputId": "550a8c82-b740-4181-e5df-a6dcf852e1de",
        "colab": {
          "base_uri": "https://localhost:8080/",
          "height": 641
        }
      },
      "outputs": [
        {
          "output_type": "display_data",
          "data": {
            "text/plain": [
              "<Figure size 1000x700 with 1 Axes>"
            ],
            "image/png": "[encoded data removed]"
          },
          "metadata": {}
        }
      ],
      "source": [
        "plot_roc_curve(model_new, X_test, y_test)"
      ]
    },
    {
      "cell_type": "code",
      "execution_count": 105,
      "metadata": {
        "id": "736HdCuHDcS6",
        "outputId": "e26b60ad-4b4f-4cb9-ed8b-7a8267230d8c",
        "colab": {
          "base_uri": "https://localhost:8080/"
        }
      },
      "outputs": [
        {
          "output_type": "stream",
          "name": "stdout",
          "text": [
            "Precisión conjunto entrenamiento: 74.52%\n",
            "Precisión conjunto prueba: 72.80%\n"
          ]
        }
      ],
      "source": [
        "print(\"Precisión conjunto entrenamiento: %.2f%%\" % (model_grid.score(X_train, y_train)*100.0))\n",
        "print(\"Precisión conjunto prueba: %.2f%%\" % (model_grid.score(X_test, y_test)*100.0))"
      ]
    },
    {
      "cell_type": "code",
      "source": [],
      "metadata": {
        "id": "V3fs8YugvXe0"
      },
      "execution_count": null,
      "outputs": []
    },
    {
      "cell_type": "markdown",
      "source": [
        "**Conclusiones del Modelo Perceptron:**\n",
        "\n",
        "El modelo tiene una exactitud del 73% en el conjunto de prueba, lo cual es razonable pero no excelente.\n",
        "\n",
        "**Desempeño por Clases:**\n",
        "\n",
        "La clase 0 (mayoría) tiene un buen desempeño con alta precisión (0.90) y un F1-score (0.81).\n",
        "La clase 1 (minoría) tiene un desempeño mucho peor, con una precisión baja (0.39) y un F1-score bajo (0.49). Esto sugiere que el modelo tiene dificultades para clasificar correctamente la clase 1. Sin embargo, dado que este es un modelo de Fraudes, dado el enfoque y estrategía que se quiera seguir esto podría modificarse, por ejemplo si se busca controlar el mayor número de fraudes pudieramos cambiar el trasehold con el fin de tener una mayor capacidad para atacar el fraude, si el objetivo es no tirar las ventas a causa del fraude este modelo podría ser bueno dado los resultados de la clase 0. A partir de ello podemos encontrar un enfoque de acuerdo a la estrategía de la organización\n",
        "\n",
        "**Balance de Clases:**\n",
        "\n",
        "El modelo tiene un mejor desempeño en la clase mayoritaria (clase 0) que en la clase minoritaria (clase 1), lo que indica un desequilibrio en las clases que afecta el rendimiento del modelo.\n",
        "\n",
        "**Macro vs. Promedio Ponderado:**\n",
        "\n",
        "El macro promedio proporciona una media aritmética simple, mostrando un desempeño general bajo (0.65 en F1-score).\n",
        "El promedio ponderado considera el soporte de cada clase, resultando en un F1-score más alto (0.75), lo que indica que el modelo se desempeña mejor en la clase con más instancias (clase 0)."
      ],
      "metadata": {
        "id": "-zEBVWGewEDV"
      }
    },
    {
      "cell_type": "markdown",
      "source": [],
      "metadata": {
        "id": "Q3BJSQzZvU78"
      }
    },
    {
      "cell_type": "markdown",
      "metadata": {
        "id": "J3a5RFkbDcS6"
      },
      "source": [
        "Hemos disminuido los errores graves y tener un control sobre las predicciones correctas en los fraudes pero a expensas de tener un mayor número de falsos positivos."
      ]
    },
    {
      "cell_type": "markdown",
      "metadata": {
        "id": "Ajgry8_NDcS6"
      },
      "source": [
        "Ejercicios:\n",
        "\n",
        "* Realizar feature selection\n",
        "\n",
        "* Optimizar el modelo del Perceptron.  Optar por la regularización L1 o L2.\n",
        "\n",
        "* Comenzar el challenge desde cero y realizar el prepocesamiento. No necesariamente tienen que llegar al mismo preprocesamiento usado. Pueden tomar sus decisiones de compromiso como así lo deseen."
      ]
    },
    {
      "cell_type": "markdown",
      "metadata": {
        "id": "G4g-sXAjDcS6"
      },
      "source": [
        "![Lenguaje Matemático](./Images/Matematicas.png)"
      ]
    },
    {
      "cell_type": "markdown",
      "metadata": {
        "id": "D8AX3m9pDcS6"
      },
      "source": [
        "![Contacto](./Images/Contacto.png)"
      ]
    }
  ],
  "metadata": {
    "kernelspec": {
      "display_name": "Python 3",
      "language": "python",
      "name": "python3"
    },
    "language_info": {
      "codemirror_mode": {
        "name": "ipython",
        "version": 3
      },
      "file_extension": ".py",
      "mimetype": "text/x-python",
      "name": "python",
      "nbconvert_exporter": "python",
      "pygments_lexer": "ipython3",
      "version": "3.11.9"
    },
    "colab": {
      "provenance": [],
      "collapsed_sections": [
        "1px3WvtMDcSq",
        "X_zBamoiDcSr"
      ],
      "include_colab_link": true
    }
  },
  "nbformat": 4,
  "nbformat_minor": 0
}